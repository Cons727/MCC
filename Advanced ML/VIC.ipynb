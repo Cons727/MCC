{
 "cells": [
  {
   "cell_type": "markdown",
   "metadata": {},
   "source": [
    "# Assignment 2"
   ]
  },
  {
   "cell_type": "markdown",
   "metadata": {},
   "source": [
    "We import some basic libraries."
   ]
  },
  {
   "cell_type": "code",
   "execution_count": 43,
   "metadata": {},
   "outputs": [],
   "source": [
    "import pandas as pd\n",
    "import numpy as np"
   ]
  },
  {
   "cell_type": "markdown",
   "metadata": {},
   "source": [
    "We import data and check for dimensions."
   ]
  },
  {
   "cell_type": "code",
   "execution_count": 44,
   "metadata": {},
   "outputs": [
    {
     "data": {
      "text/plain": [
       "(5241, 135)"
      ]
     },
     "execution_count": 44,
     "metadata": {},
     "output_type": "execute_result"
    }
   ],
   "source": [
    "df = pd.read_csv('fingerprint_complete.csv')\n",
    "df.shape"
   ]
  },
  {
   "cell_type": "markdown",
   "metadata": {},
   "source": [
    "Let's see what it looks like."
   ]
  },
  {
   "cell_type": "code",
   "execution_count": 45,
   "metadata": {},
   "outputs": [
    {
     "data": {
      "text/html": [
       "<div>\n",
       "<style scoped>\n",
       "    .dataframe tbody tr th:only-of-type {\n",
       "        vertical-align: middle;\n",
       "    }\n",
       "\n",
       "    .dataframe tbody tr th {\n",
       "        vertical-align: top;\n",
       "    }\n",
       "\n",
       "    .dataframe thead th {\n",
       "        text-align: right;\n",
       "    }\n",
       "</style>\n",
       "<table border=\"1\" class=\"dataframe\">\n",
       "  <thead>\n",
       "    <tr style=\"text-align: right;\">\n",
       "      <th></th>\n",
       "      <th>fingerprint</th>\n",
       "      <th>minutia</th>\n",
       "      <th>D0</th>\n",
       "      <th>D1</th>\n",
       "      <th>D2</th>\n",
       "      <th>D3</th>\n",
       "      <th>D4</th>\n",
       "      <th>D5</th>\n",
       "      <th>D6</th>\n",
       "      <th>D7</th>\n",
       "      <th>...</th>\n",
       "      <th>a1_3</th>\n",
       "      <th>a1_4</th>\n",
       "      <th>a1_5</th>\n",
       "      <th>a1_6</th>\n",
       "      <th>a1_7</th>\n",
       "      <th>a1_8</th>\n",
       "      <th>a1_9</th>\n",
       "      <th>a1_10</th>\n",
       "      <th>a1_11</th>\n",
       "      <th>score_change</th>\n",
       "    </tr>\n",
       "  </thead>\n",
       "  <tbody>\n",
       "    <tr>\n",
       "      <th>0</th>\n",
       "      <td>U294X6I_1_1</td>\n",
       "      <td>v0</td>\n",
       "      <td>32.202484</td>\n",
       "      <td>44.418465</td>\n",
       "      <td>55.226805</td>\n",
       "      <td>64.350602</td>\n",
       "      <td>71.344236</td>\n",
       "      <td>71.867934</td>\n",
       "      <td>74.732858</td>\n",
       "      <td>77.058419</td>\n",
       "      <td>...</td>\n",
       "      <td>311.370401</td>\n",
       "      <td>298.239215</td>\n",
       "      <td>18.209226</td>\n",
       "      <td>291.507405</td>\n",
       "      <td>354.768825</td>\n",
       "      <td>347.433314</td>\n",
       "      <td>308.295373</td>\n",
       "      <td>314.802452</td>\n",
       "      <td>12.403425</td>\n",
       "      <td>0.260703</td>\n",
       "    </tr>\n",
       "    <tr>\n",
       "      <th>1</th>\n",
       "      <td>U294X6I_1_1</td>\n",
       "      <td>v1</td>\n",
       "      <td>17.464249</td>\n",
       "      <td>50.960769</td>\n",
       "      <td>56.462377</td>\n",
       "      <td>64.404969</td>\n",
       "      <td>86.127812</td>\n",
       "      <td>94.936821</td>\n",
       "      <td>96.083297</td>\n",
       "      <td>108.295891</td>\n",
       "      <td>...</td>\n",
       "      <td>134.841815</td>\n",
       "      <td>96.488501</td>\n",
       "      <td>57.405179</td>\n",
       "      <td>83.385944</td>\n",
       "      <td>76.763605</td>\n",
       "      <td>63.590697</td>\n",
       "      <td>108.392370</td>\n",
       "      <td>108.699473</td>\n",
       "      <td>120.699074</td>\n",
       "      <td>0.270683</td>\n",
       "    </tr>\n",
       "    <tr>\n",
       "      <th>2</th>\n",
       "      <td>U294X6I_1_1</td>\n",
       "      <td>v2</td>\n",
       "      <td>33.105891</td>\n",
       "      <td>53.535035</td>\n",
       "      <td>62.968246</td>\n",
       "      <td>64.404969</td>\n",
       "      <td>66.910388</td>\n",
       "      <td>72.173402</td>\n",
       "      <td>75.286121</td>\n",
       "      <td>76.941536</td>\n",
       "      <td>...</td>\n",
       "      <td>310.841815</td>\n",
       "      <td>356.462322</td>\n",
       "      <td>80.972496</td>\n",
       "      <td>37.389312</td>\n",
       "      <td>104.897271</td>\n",
       "      <td>84.640407</td>\n",
       "      <td>36.398705</td>\n",
       "      <td>15.565837</td>\n",
       "      <td>67.537678</td>\n",
       "      <td>0.270088</td>\n",
       "    </tr>\n",
       "    <tr>\n",
       "      <th>3</th>\n",
       "      <td>U294X6I_1_1</td>\n",
       "      <td>v3</td>\n",
       "      <td>28.653098</td>\n",
       "      <td>31.256999</td>\n",
       "      <td>56.639209</td>\n",
       "      <td>57.140179</td>\n",
       "      <td>61.911227</td>\n",
       "      <td>62.968246</td>\n",
       "      <td>68.949257</td>\n",
       "      <td>76.941536</td>\n",
       "      <td>...</td>\n",
       "      <td>39.144278</td>\n",
       "      <td>130.877530</td>\n",
       "      <td>14.680555</td>\n",
       "      <td>322.513870</td>\n",
       "      <td>279.897271</td>\n",
       "      <td>24.552951</td>\n",
       "      <td>335.211025</td>\n",
       "      <td>302.710593</td>\n",
       "      <td>15.524473</td>\n",
       "      <td>-0.288866</td>\n",
       "    </tr>\n",
       "    <tr>\n",
       "      <th>4</th>\n",
       "      <td>U294X6I_1_1</td>\n",
       "      <td>v4</td>\n",
       "      <td>61.911227</td>\n",
       "      <td>80.049984</td>\n",
       "      <td>85.510233</td>\n",
       "      <td>88.543774</td>\n",
       "      <td>91.547802</td>\n",
       "      <td>106.018866</td>\n",
       "      <td>116.498927</td>\n",
       "      <td>130.188325</td>\n",
       "      <td>...</td>\n",
       "      <td>314.565051</td>\n",
       "      <td>339.271077</td>\n",
       "      <td>334.080924</td>\n",
       "      <td>344.888658</td>\n",
       "      <td>308.009694</td>\n",
       "      <td>284.669083</td>\n",
       "      <td>341.972627</td>\n",
       "      <td>315.956066</td>\n",
       "      <td>297.144772</td>\n",
       "      <td>0.052454</td>\n",
       "    </tr>\n",
       "  </tbody>\n",
       "</table>\n",
       "<p>5 rows × 135 columns</p>\n",
       "</div>"
      ],
      "text/plain": [
       "   fingerprint minutia         D0         D1         D2         D3         D4  \\\n",
       "0  U294X6I_1_1      v0  32.202484  44.418465  55.226805  64.350602  71.344236   \n",
       "1  U294X6I_1_1      v1  17.464249  50.960769  56.462377  64.404969  86.127812   \n",
       "2  U294X6I_1_1      v2  33.105891  53.535035  62.968246  64.404969  66.910388   \n",
       "3  U294X6I_1_1      v3  28.653098  31.256999  56.639209  57.140179  61.911227   \n",
       "4  U294X6I_1_1      v4  61.911227  80.049984  85.510233  88.543774  91.547802   \n",
       "\n",
       "           D5          D6          D7  ...        a1_3        a1_4  \\\n",
       "0   71.867934   74.732858   77.058419  ...  311.370401  298.239215   \n",
       "1   94.936821   96.083297  108.295891  ...  134.841815   96.488501   \n",
       "2   72.173402   75.286121   76.941536  ...  310.841815  356.462322   \n",
       "3   62.968246   68.949257   76.941536  ...   39.144278  130.877530   \n",
       "4  106.018866  116.498927  130.188325  ...  314.565051  339.271077   \n",
       "\n",
       "         a1_5        a1_6        a1_7        a1_8        a1_9       a1_10  \\\n",
       "0   18.209226  291.507405  354.768825  347.433314  308.295373  314.802452   \n",
       "1   57.405179   83.385944   76.763605   63.590697  108.392370  108.699473   \n",
       "2   80.972496   37.389312  104.897271   84.640407   36.398705   15.565837   \n",
       "3   14.680555  322.513870  279.897271   24.552951  335.211025  302.710593   \n",
       "4  334.080924  344.888658  308.009694  284.669083  341.972627  315.956066   \n",
       "\n",
       "        a1_11  score_change  \n",
       "0   12.403425      0.260703  \n",
       "1  120.699074      0.270683  \n",
       "2   67.537678      0.270088  \n",
       "3   15.524473     -0.288866  \n",
       "4  297.144772      0.052454  \n",
       "\n",
       "[5 rows x 135 columns]"
      ]
     },
     "execution_count": 45,
     "metadata": {},
     "output_type": "execute_result"
    }
   ],
   "source": [
    "df.head()"
   ]
  },
  {
   "cell_type": "markdown",
   "metadata": {},
   "source": [
    "Check for missing values."
   ]
  },
  {
   "cell_type": "code",
   "execution_count": 46,
   "metadata": {},
   "outputs": [
    {
     "data": {
      "text/plain": [
       "False"
      ]
     },
     "execution_count": 46,
     "metadata": {},
     "output_type": "execute_result"
    }
   ],
   "source": [
    "df.isnull().values.any()"
   ]
  },
  {
   "cell_type": "markdown",
   "metadata": {},
   "source": [
    "Now, we drop unnecessary columns and check for dimensions."
   ]
  },
  {
   "cell_type": "code",
   "execution_count": 47,
   "metadata": {},
   "outputs": [
    {
     "data": {
      "text/plain": [
       "(5241, 133)"
      ]
     },
     "execution_count": 47,
     "metadata": {},
     "output_type": "execute_result"
    }
   ],
   "source": [
    "data = df.iloc[:, 2:]\n",
    "data.shape"
   ]
  },
  {
   "cell_type": "markdown",
   "metadata": {},
   "source": [
    "Let's see what it looks like."
   ]
  },
  {
   "cell_type": "code",
   "execution_count": 48,
   "metadata": {},
   "outputs": [
    {
     "data": {
      "text/html": [
       "<div>\n",
       "<style scoped>\n",
       "    .dataframe tbody tr th:only-of-type {\n",
       "        vertical-align: middle;\n",
       "    }\n",
       "\n",
       "    .dataframe tbody tr th {\n",
       "        vertical-align: top;\n",
       "    }\n",
       "\n",
       "    .dataframe thead th {\n",
       "        text-align: right;\n",
       "    }\n",
       "</style>\n",
       "<table border=\"1\" class=\"dataframe\">\n",
       "  <thead>\n",
       "    <tr style=\"text-align: right;\">\n",
       "      <th></th>\n",
       "      <th>D0</th>\n",
       "      <th>D1</th>\n",
       "      <th>D2</th>\n",
       "      <th>D3</th>\n",
       "      <th>D4</th>\n",
       "      <th>D5</th>\n",
       "      <th>D6</th>\n",
       "      <th>D7</th>\n",
       "      <th>D8</th>\n",
       "      <th>D9</th>\n",
       "      <th>...</th>\n",
       "      <th>a1_3</th>\n",
       "      <th>a1_4</th>\n",
       "      <th>a1_5</th>\n",
       "      <th>a1_6</th>\n",
       "      <th>a1_7</th>\n",
       "      <th>a1_8</th>\n",
       "      <th>a1_9</th>\n",
       "      <th>a1_10</th>\n",
       "      <th>a1_11</th>\n",
       "      <th>score_change</th>\n",
       "    </tr>\n",
       "  </thead>\n",
       "  <tbody>\n",
       "    <tr>\n",
       "      <th>0</th>\n",
       "      <td>32.202484</td>\n",
       "      <td>44.418465</td>\n",
       "      <td>55.226805</td>\n",
       "      <td>64.350602</td>\n",
       "      <td>71.344236</td>\n",
       "      <td>71.867934</td>\n",
       "      <td>74.732858</td>\n",
       "      <td>77.058419</td>\n",
       "      <td>90.255194</td>\n",
       "      <td>98.493655</td>\n",
       "      <td>...</td>\n",
       "      <td>311.370401</td>\n",
       "      <td>298.239215</td>\n",
       "      <td>18.209226</td>\n",
       "      <td>291.507405</td>\n",
       "      <td>354.768825</td>\n",
       "      <td>347.433314</td>\n",
       "      <td>308.295373</td>\n",
       "      <td>314.802452</td>\n",
       "      <td>12.403425</td>\n",
       "      <td>0.260703</td>\n",
       "    </tr>\n",
       "    <tr>\n",
       "      <th>1</th>\n",
       "      <td>17.464249</td>\n",
       "      <td>50.960769</td>\n",
       "      <td>56.462377</td>\n",
       "      <td>64.404969</td>\n",
       "      <td>86.127812</td>\n",
       "      <td>94.936821</td>\n",
       "      <td>96.083297</td>\n",
       "      <td>108.295891</td>\n",
       "      <td>123.664870</td>\n",
       "      <td>123.891081</td>\n",
       "      <td>...</td>\n",
       "      <td>134.841815</td>\n",
       "      <td>96.488501</td>\n",
       "      <td>57.405179</td>\n",
       "      <td>83.385944</td>\n",
       "      <td>76.763605</td>\n",
       "      <td>63.590697</td>\n",
       "      <td>108.392370</td>\n",
       "      <td>108.699473</td>\n",
       "      <td>120.699074</td>\n",
       "      <td>0.270683</td>\n",
       "    </tr>\n",
       "    <tr>\n",
       "      <th>2</th>\n",
       "      <td>33.105891</td>\n",
       "      <td>53.535035</td>\n",
       "      <td>62.968246</td>\n",
       "      <td>64.404969</td>\n",
       "      <td>66.910388</td>\n",
       "      <td>72.173402</td>\n",
       "      <td>75.286121</td>\n",
       "      <td>76.941536</td>\n",
       "      <td>82.734515</td>\n",
       "      <td>92.195445</td>\n",
       "      <td>...</td>\n",
       "      <td>310.841815</td>\n",
       "      <td>356.462322</td>\n",
       "      <td>80.972496</td>\n",
       "      <td>37.389312</td>\n",
       "      <td>104.897271</td>\n",
       "      <td>84.640407</td>\n",
       "      <td>36.398705</td>\n",
       "      <td>15.565837</td>\n",
       "      <td>67.537678</td>\n",
       "      <td>0.270088</td>\n",
       "    </tr>\n",
       "    <tr>\n",
       "      <th>3</th>\n",
       "      <td>28.653098</td>\n",
       "      <td>31.256999</td>\n",
       "      <td>56.639209</td>\n",
       "      <td>57.140179</td>\n",
       "      <td>61.911227</td>\n",
       "      <td>62.968246</td>\n",
       "      <td>68.949257</td>\n",
       "      <td>76.941536</td>\n",
       "      <td>82.807005</td>\n",
       "      <td>84.593144</td>\n",
       "      <td>...</td>\n",
       "      <td>39.144278</td>\n",
       "      <td>130.877530</td>\n",
       "      <td>14.680555</td>\n",
       "      <td>322.513870</td>\n",
       "      <td>279.897271</td>\n",
       "      <td>24.552951</td>\n",
       "      <td>335.211025</td>\n",
       "      <td>302.710593</td>\n",
       "      <td>15.524473</td>\n",
       "      <td>-0.288866</td>\n",
       "    </tr>\n",
       "    <tr>\n",
       "      <th>4</th>\n",
       "      <td>61.911227</td>\n",
       "      <td>80.049984</td>\n",
       "      <td>85.510233</td>\n",
       "      <td>88.543774</td>\n",
       "      <td>91.547802</td>\n",
       "      <td>106.018866</td>\n",
       "      <td>116.498927</td>\n",
       "      <td>130.188325</td>\n",
       "      <td>133.869339</td>\n",
       "      <td>134.647688</td>\n",
       "      <td>...</td>\n",
       "      <td>314.565051</td>\n",
       "      <td>339.271077</td>\n",
       "      <td>334.080924</td>\n",
       "      <td>344.888658</td>\n",
       "      <td>308.009694</td>\n",
       "      <td>284.669083</td>\n",
       "      <td>341.972627</td>\n",
       "      <td>315.956066</td>\n",
       "      <td>297.144772</td>\n",
       "      <td>0.052454</td>\n",
       "    </tr>\n",
       "  </tbody>\n",
       "</table>\n",
       "<p>5 rows × 133 columns</p>\n",
       "</div>"
      ],
      "text/plain": [
       "          D0         D1         D2         D3         D4          D5  \\\n",
       "0  32.202484  44.418465  55.226805  64.350602  71.344236   71.867934   \n",
       "1  17.464249  50.960769  56.462377  64.404969  86.127812   94.936821   \n",
       "2  33.105891  53.535035  62.968246  64.404969  66.910388   72.173402   \n",
       "3  28.653098  31.256999  56.639209  57.140179  61.911227   62.968246   \n",
       "4  61.911227  80.049984  85.510233  88.543774  91.547802  106.018866   \n",
       "\n",
       "           D6          D7          D8          D9  ...        a1_3  \\\n",
       "0   74.732858   77.058419   90.255194   98.493655  ...  311.370401   \n",
       "1   96.083297  108.295891  123.664870  123.891081  ...  134.841815   \n",
       "2   75.286121   76.941536   82.734515   92.195445  ...  310.841815   \n",
       "3   68.949257   76.941536   82.807005   84.593144  ...   39.144278   \n",
       "4  116.498927  130.188325  133.869339  134.647688  ...  314.565051   \n",
       "\n",
       "         a1_4        a1_5        a1_6        a1_7        a1_8        a1_9  \\\n",
       "0  298.239215   18.209226  291.507405  354.768825  347.433314  308.295373   \n",
       "1   96.488501   57.405179   83.385944   76.763605   63.590697  108.392370   \n",
       "2  356.462322   80.972496   37.389312  104.897271   84.640407   36.398705   \n",
       "3  130.877530   14.680555  322.513870  279.897271   24.552951  335.211025   \n",
       "4  339.271077  334.080924  344.888658  308.009694  284.669083  341.972627   \n",
       "\n",
       "        a1_10       a1_11  score_change  \n",
       "0  314.802452   12.403425      0.260703  \n",
       "1  108.699473  120.699074      0.270683  \n",
       "2   15.565837   67.537678      0.270088  \n",
       "3  302.710593   15.524473     -0.288866  \n",
       "4  315.956066  297.144772      0.052454  \n",
       "\n",
       "[5 rows x 133 columns]"
      ]
     },
     "execution_count": 48,
     "metadata": {},
     "output_type": "execute_result"
    }
   ],
   "source": [
    "data.head()"
   ]
  },
  {
   "cell_type": "markdown",
   "metadata": {},
   "source": [
    "We sort the data according to the score_change values, and check that the indices are different now."
   ]
  },
  {
   "cell_type": "code",
   "execution_count": 49,
   "metadata": {},
   "outputs": [
    {
     "data": {
      "text/html": [
       "<div>\n",
       "<style scoped>\n",
       "    .dataframe tbody tr th:only-of-type {\n",
       "        vertical-align: middle;\n",
       "    }\n",
       "\n",
       "    .dataframe tbody tr th {\n",
       "        vertical-align: top;\n",
       "    }\n",
       "\n",
       "    .dataframe thead th {\n",
       "        text-align: right;\n",
       "    }\n",
       "</style>\n",
       "<table border=\"1\" class=\"dataframe\">\n",
       "  <thead>\n",
       "    <tr style=\"text-align: right;\">\n",
       "      <th></th>\n",
       "      <th>D0</th>\n",
       "      <th>D1</th>\n",
       "      <th>D2</th>\n",
       "      <th>D3</th>\n",
       "      <th>D4</th>\n",
       "      <th>D5</th>\n",
       "      <th>D6</th>\n",
       "      <th>D7</th>\n",
       "      <th>D8</th>\n",
       "      <th>D9</th>\n",
       "      <th>...</th>\n",
       "      <th>a1_3</th>\n",
       "      <th>a1_4</th>\n",
       "      <th>a1_5</th>\n",
       "      <th>a1_6</th>\n",
       "      <th>a1_7</th>\n",
       "      <th>a1_8</th>\n",
       "      <th>a1_9</th>\n",
       "      <th>a1_10</th>\n",
       "      <th>a1_11</th>\n",
       "      <th>score_change</th>\n",
       "    </tr>\n",
       "  </thead>\n",
       "  <tbody>\n",
       "    <tr>\n",
       "      <th>1354</th>\n",
       "      <td>25.238859</td>\n",
       "      <td>29.732137</td>\n",
       "      <td>30.805844</td>\n",
       "      <td>37.643060</td>\n",
       "      <td>45.221676</td>\n",
       "      <td>46.400431</td>\n",
       "      <td>48.373546</td>\n",
       "      <td>53.600373</td>\n",
       "      <td>55.901699</td>\n",
       "      <td>62.936476</td>\n",
       "      <td>...</td>\n",
       "      <td>141.990823</td>\n",
       "      <td>53.034286</td>\n",
       "      <td>357.883139</td>\n",
       "      <td>27.874984</td>\n",
       "      <td>71.656108</td>\n",
       "      <td>188.434949</td>\n",
       "      <td>232.571259</td>\n",
       "      <td>1.560131</td>\n",
       "      <td>211.905942</td>\n",
       "      <td>-9.940694</td>\n",
       "    </tr>\n",
       "    <tr>\n",
       "      <th>2238</th>\n",
       "      <td>33.526109</td>\n",
       "      <td>34.928498</td>\n",
       "      <td>40.024992</td>\n",
       "      <td>51.244512</td>\n",
       "      <td>52.839379</td>\n",
       "      <td>58.940648</td>\n",
       "      <td>66.490601</td>\n",
       "      <td>79.611557</td>\n",
       "      <td>89.050547</td>\n",
       "      <td>118.903322</td>\n",
       "      <td>...</td>\n",
       "      <td>262.020526</td>\n",
       "      <td>4.475889</td>\n",
       "      <td>79.743563</td>\n",
       "      <td>167.154942</td>\n",
       "      <td>212.308016</td>\n",
       "      <td>40.449548</td>\n",
       "      <td>226.869813</td>\n",
       "      <td>182.042287</td>\n",
       "      <td>185.582201</td>\n",
       "      <td>-7.646963</td>\n",
       "    </tr>\n",
       "    <tr>\n",
       "      <th>1523</th>\n",
       "      <td>23.769729</td>\n",
       "      <td>35.510562</td>\n",
       "      <td>39.623226</td>\n",
       "      <td>43.863424</td>\n",
       "      <td>50.039984</td>\n",
       "      <td>65.122961</td>\n",
       "      <td>73.348483</td>\n",
       "      <td>75.186435</td>\n",
       "      <td>104.281293</td>\n",
       "      <td>112.086528</td>\n",
       "      <td>...</td>\n",
       "      <td>31.152390</td>\n",
       "      <td>350.290610</td>\n",
       "      <td>261.521453</td>\n",
       "      <td>232.133643</td>\n",
       "      <td>64.148581</td>\n",
       "      <td>183.010614</td>\n",
       "      <td>182.988503</td>\n",
       "      <td>182.042287</td>\n",
       "      <td>185.582201</td>\n",
       "      <td>-3.281286</td>\n",
       "    </tr>\n",
       "    <tr>\n",
       "      <th>1524</th>\n",
       "      <td>28.231188</td>\n",
       "      <td>36.796739</td>\n",
       "      <td>39.623226</td>\n",
       "      <td>41.725292</td>\n",
       "      <td>68.796802</td>\n",
       "      <td>70.213959</td>\n",
       "      <td>79.259069</td>\n",
       "      <td>114.756263</td>\n",
       "      <td>104.281293</td>\n",
       "      <td>112.086528</td>\n",
       "      <td>...</td>\n",
       "      <td>18.971022</td>\n",
       "      <td>30.464933</td>\n",
       "      <td>8.727398</td>\n",
       "      <td>33.524111</td>\n",
       "      <td>50.417038</td>\n",
       "      <td>183.010614</td>\n",
       "      <td>182.988503</td>\n",
       "      <td>182.042287</td>\n",
       "      <td>185.582201</td>\n",
       "      <td>-1.579191</td>\n",
       "    </tr>\n",
       "    <tr>\n",
       "      <th>2969</th>\n",
       "      <td>15.620499</td>\n",
       "      <td>45.607017</td>\n",
       "      <td>46.097722</td>\n",
       "      <td>53.009433</td>\n",
       "      <td>73.824115</td>\n",
       "      <td>74.330344</td>\n",
       "      <td>106.367288</td>\n",
       "      <td>111.772090</td>\n",
       "      <td>120.880106</td>\n",
       "      <td>134.331679</td>\n",
       "      <td>...</td>\n",
       "      <td>81.211027</td>\n",
       "      <td>51.829347</td>\n",
       "      <td>106.143587</td>\n",
       "      <td>107.803344</td>\n",
       "      <td>83.309932</td>\n",
       "      <td>100.663957</td>\n",
       "      <td>93.297354</td>\n",
       "      <td>81.462322</td>\n",
       "      <td>110.618440</td>\n",
       "      <td>-1.561907</td>\n",
       "    </tr>\n",
       "  </tbody>\n",
       "</table>\n",
       "<p>5 rows × 133 columns</p>\n",
       "</div>"
      ],
      "text/plain": [
       "             D0         D1         D2         D3         D4         D5  \\\n",
       "1354  25.238859  29.732137  30.805844  37.643060  45.221676  46.400431   \n",
       "2238  33.526109  34.928498  40.024992  51.244512  52.839379  58.940648   \n",
       "1523  23.769729  35.510562  39.623226  43.863424  50.039984  65.122961   \n",
       "1524  28.231188  36.796739  39.623226  41.725292  68.796802  70.213959   \n",
       "2969  15.620499  45.607017  46.097722  53.009433  73.824115  74.330344   \n",
       "\n",
       "              D6          D7          D8          D9  ...        a1_3  \\\n",
       "1354   48.373546   53.600373   55.901699   62.936476  ...  141.990823   \n",
       "2238   66.490601   79.611557   89.050547  118.903322  ...  262.020526   \n",
       "1523   73.348483   75.186435  104.281293  112.086528  ...   31.152390   \n",
       "1524   79.259069  114.756263  104.281293  112.086528  ...   18.971022   \n",
       "2969  106.367288  111.772090  120.880106  134.331679  ...   81.211027   \n",
       "\n",
       "            a1_4        a1_5        a1_6        a1_7        a1_8        a1_9  \\\n",
       "1354   53.034286  357.883139   27.874984   71.656108  188.434949  232.571259   \n",
       "2238    4.475889   79.743563  167.154942  212.308016   40.449548  226.869813   \n",
       "1523  350.290610  261.521453  232.133643   64.148581  183.010614  182.988503   \n",
       "1524   30.464933    8.727398   33.524111   50.417038  183.010614  182.988503   \n",
       "2969   51.829347  106.143587  107.803344   83.309932  100.663957   93.297354   \n",
       "\n",
       "           a1_10       a1_11  score_change  \n",
       "1354    1.560131  211.905942     -9.940694  \n",
       "2238  182.042287  185.582201     -7.646963  \n",
       "1523  182.042287  185.582201     -3.281286  \n",
       "1524  182.042287  185.582201     -1.579191  \n",
       "2969   81.462322  110.618440     -1.561907  \n",
       "\n",
       "[5 rows x 133 columns]"
      ]
     },
     "execution_count": 49,
     "metadata": {},
     "output_type": "execute_result"
    }
   ],
   "source": [
    "data = data.sort_values(by = ['score_change'])\n",
    "data.head()"
   ]
  },
  {
   "cell_type": "markdown",
   "metadata": {},
   "source": [
    "To generate partitions, we take \"score_change\" and keep it in a different variable."
   ]
  },
  {
   "cell_type": "markdown",
   "metadata": {},
   "source": [
    "## Two partitions"
   ]
  },
  {
   "cell_type": "markdown",
   "metadata": {},
   "source": [
    "This variable has score_change values."
   ]
  },
  {
   "cell_type": "code",
   "execution_count": 50,
   "metadata": {},
   "outputs": [
    {
     "data": {
      "text/plain": [
       "(5241,)"
      ]
     },
     "execution_count": 50,
     "metadata": {},
     "output_type": "execute_result"
    }
   ],
   "source": [
    "scores = data.iloc[:, -1]\n",
    "scores.shape"
   ]
  },
  {
   "cell_type": "code",
   "execution_count": 51,
   "metadata": {},
   "outputs": [
    {
     "data": {
      "text/plain": [
       "1354   -9.940694\n",
       "2238   -7.646963\n",
       "1523   -3.281286\n",
       "1524   -1.579191\n",
       "2969   -1.561907\n",
       "Name: score_change, dtype: float64"
      ]
     },
     "execution_count": 51,
     "metadata": {},
     "output_type": "execute_result"
    }
   ],
   "source": [
    "scores.head()"
   ]
  },
  {
   "cell_type": "markdown",
   "metadata": {},
   "source": [
    "We will create partitions according to \"score_change\". To do so, we define 50 cutoff points in the range [-0.2, 0.2]."
   ]
  },
  {
   "cell_type": "code",
   "execution_count": 52,
   "metadata": {},
   "outputs": [
    {
     "name": "stdout",
     "output_type": "stream",
     "text": [
      "[-0.2        -0.19183673 -0.18367347 -0.1755102  -0.16734694 -0.15918367\n",
      " -0.15102041 -0.14285714 -0.13469388 -0.12653061 -0.11836735 -0.11020408\n",
      " -0.10204082 -0.09387755 -0.08571429 -0.07755102 -0.06938776 -0.06122449\n",
      " -0.05306122 -0.04489796 -0.03673469 -0.02857143 -0.02040816 -0.0122449\n",
      " -0.00408163  0.00408163  0.0122449   0.02040816  0.02857143  0.03673469\n",
      "  0.04489796  0.05306122  0.06122449  0.06938776  0.07755102  0.08571429\n",
      "  0.09387755  0.10204082  0.11020408  0.11836735  0.12653061  0.13469388\n",
      "  0.14285714  0.15102041  0.15918367  0.16734694  0.1755102   0.18367347\n",
      "  0.19183673  0.2       ]\n"
     ]
    }
   ],
   "source": [
    "[a, b] = [-0.2, 0.2]\n",
    "cutoff = np.linspace(a, b)\n",
    "print(cutoff)"
   ]
  },
  {
   "cell_type": "code",
   "execution_count": 53,
   "metadata": {},
   "outputs": [
    {
     "data": {
      "text/plain": [
       "(5241, 50)"
      ]
     },
     "execution_count": 53,
     "metadata": {},
     "output_type": "execute_result"
    }
   ],
   "source": [
    "partitions = np.zeros([scores.shape[0], 50])\n",
    "for i in range(50):\n",
    "    for j in range(scores.shape[0]):\n",
    "        if  scores.iloc[j] < cutoff[i]:\n",
    "            partitions[j, i] = 0 \n",
    "        else:\n",
    "            partitions[j, i] = 1\n",
    "\n",
    "\n",
    "partitions = pd.DataFrame(partitions)\n",
    "partitions.shape"
   ]
  },
  {
   "cell_type": "code",
   "execution_count": 54,
   "metadata": {},
   "outputs": [
    {
     "data": {
      "text/html": [
       "<div>\n",
       "<style scoped>\n",
       "    .dataframe tbody tr th:only-of-type {\n",
       "        vertical-align: middle;\n",
       "    }\n",
       "\n",
       "    .dataframe tbody tr th {\n",
       "        vertical-align: top;\n",
       "    }\n",
       "\n",
       "    .dataframe thead th {\n",
       "        text-align: right;\n",
       "    }\n",
       "</style>\n",
       "<table border=\"1\" class=\"dataframe\">\n",
       "  <thead>\n",
       "    <tr style=\"text-align: right;\">\n",
       "      <th></th>\n",
       "      <th>0</th>\n",
       "      <th>1</th>\n",
       "      <th>2</th>\n",
       "      <th>3</th>\n",
       "      <th>4</th>\n",
       "      <th>5</th>\n",
       "      <th>6</th>\n",
       "      <th>7</th>\n",
       "      <th>8</th>\n",
       "      <th>9</th>\n",
       "      <th>...</th>\n",
       "      <th>15</th>\n",
       "      <th>16</th>\n",
       "      <th>17</th>\n",
       "      <th>18</th>\n",
       "      <th>19</th>\n",
       "      <th>20</th>\n",
       "      <th>21</th>\n",
       "      <th>22</th>\n",
       "      <th>23</th>\n",
       "      <th>24</th>\n",
       "    </tr>\n",
       "  </thead>\n",
       "  <tbody>\n",
       "    <tr>\n",
       "      <th>0</th>\n",
       "      <td>0.0</td>\n",
       "      <td>0.0</td>\n",
       "      <td>0.0</td>\n",
       "      <td>0.0</td>\n",
       "      <td>0.0</td>\n",
       "      <td>0.0</td>\n",
       "      <td>0.0</td>\n",
       "      <td>0.0</td>\n",
       "      <td>0.0</td>\n",
       "      <td>0.0</td>\n",
       "      <td>...</td>\n",
       "      <td>0.0</td>\n",
       "      <td>0.0</td>\n",
       "      <td>0.0</td>\n",
       "      <td>0.0</td>\n",
       "      <td>0.0</td>\n",
       "      <td>0.0</td>\n",
       "      <td>0.0</td>\n",
       "      <td>0.0</td>\n",
       "      <td>0.0</td>\n",
       "      <td>0.0</td>\n",
       "    </tr>\n",
       "    <tr>\n",
       "      <th>1</th>\n",
       "      <td>0.0</td>\n",
       "      <td>0.0</td>\n",
       "      <td>0.0</td>\n",
       "      <td>0.0</td>\n",
       "      <td>0.0</td>\n",
       "      <td>0.0</td>\n",
       "      <td>0.0</td>\n",
       "      <td>0.0</td>\n",
       "      <td>0.0</td>\n",
       "      <td>0.0</td>\n",
       "      <td>...</td>\n",
       "      <td>0.0</td>\n",
       "      <td>0.0</td>\n",
       "      <td>0.0</td>\n",
       "      <td>0.0</td>\n",
       "      <td>0.0</td>\n",
       "      <td>0.0</td>\n",
       "      <td>0.0</td>\n",
       "      <td>0.0</td>\n",
       "      <td>0.0</td>\n",
       "      <td>0.0</td>\n",
       "    </tr>\n",
       "    <tr>\n",
       "      <th>2</th>\n",
       "      <td>0.0</td>\n",
       "      <td>0.0</td>\n",
       "      <td>0.0</td>\n",
       "      <td>0.0</td>\n",
       "      <td>0.0</td>\n",
       "      <td>0.0</td>\n",
       "      <td>0.0</td>\n",
       "      <td>0.0</td>\n",
       "      <td>0.0</td>\n",
       "      <td>0.0</td>\n",
       "      <td>...</td>\n",
       "      <td>0.0</td>\n",
       "      <td>0.0</td>\n",
       "      <td>0.0</td>\n",
       "      <td>0.0</td>\n",
       "      <td>0.0</td>\n",
       "      <td>0.0</td>\n",
       "      <td>0.0</td>\n",
       "      <td>0.0</td>\n",
       "      <td>0.0</td>\n",
       "      <td>0.0</td>\n",
       "    </tr>\n",
       "    <tr>\n",
       "      <th>3</th>\n",
       "      <td>0.0</td>\n",
       "      <td>0.0</td>\n",
       "      <td>0.0</td>\n",
       "      <td>0.0</td>\n",
       "      <td>0.0</td>\n",
       "      <td>0.0</td>\n",
       "      <td>0.0</td>\n",
       "      <td>0.0</td>\n",
       "      <td>0.0</td>\n",
       "      <td>0.0</td>\n",
       "      <td>...</td>\n",
       "      <td>0.0</td>\n",
       "      <td>0.0</td>\n",
       "      <td>0.0</td>\n",
       "      <td>0.0</td>\n",
       "      <td>0.0</td>\n",
       "      <td>0.0</td>\n",
       "      <td>0.0</td>\n",
       "      <td>0.0</td>\n",
       "      <td>0.0</td>\n",
       "      <td>0.0</td>\n",
       "    </tr>\n",
       "    <tr>\n",
       "      <th>4</th>\n",
       "      <td>0.0</td>\n",
       "      <td>0.0</td>\n",
       "      <td>0.0</td>\n",
       "      <td>0.0</td>\n",
       "      <td>0.0</td>\n",
       "      <td>0.0</td>\n",
       "      <td>0.0</td>\n",
       "      <td>0.0</td>\n",
       "      <td>0.0</td>\n",
       "      <td>0.0</td>\n",
       "      <td>...</td>\n",
       "      <td>0.0</td>\n",
       "      <td>0.0</td>\n",
       "      <td>0.0</td>\n",
       "      <td>0.0</td>\n",
       "      <td>0.0</td>\n",
       "      <td>0.0</td>\n",
       "      <td>0.0</td>\n",
       "      <td>0.0</td>\n",
       "      <td>0.0</td>\n",
       "      <td>0.0</td>\n",
       "    </tr>\n",
       "  </tbody>\n",
       "</table>\n",
       "<p>5 rows × 25 columns</p>\n",
       "</div>"
      ],
      "text/plain": [
       "    0    1    2    3    4    5    6    7    8    9   ...   15   16   17   18  \\\n",
       "0  0.0  0.0  0.0  0.0  0.0  0.0  0.0  0.0  0.0  0.0  ...  0.0  0.0  0.0  0.0   \n",
       "1  0.0  0.0  0.0  0.0  0.0  0.0  0.0  0.0  0.0  0.0  ...  0.0  0.0  0.0  0.0   \n",
       "2  0.0  0.0  0.0  0.0  0.0  0.0  0.0  0.0  0.0  0.0  ...  0.0  0.0  0.0  0.0   \n",
       "3  0.0  0.0  0.0  0.0  0.0  0.0  0.0  0.0  0.0  0.0  ...  0.0  0.0  0.0  0.0   \n",
       "4  0.0  0.0  0.0  0.0  0.0  0.0  0.0  0.0  0.0  0.0  ...  0.0  0.0  0.0  0.0   \n",
       "\n",
       "    19   20   21   22   23   24  \n",
       "0  0.0  0.0  0.0  0.0  0.0  0.0  \n",
       "1  0.0  0.0  0.0  0.0  0.0  0.0  \n",
       "2  0.0  0.0  0.0  0.0  0.0  0.0  \n",
       "3  0.0  0.0  0.0  0.0  0.0  0.0  \n",
       "4  0.0  0.0  0.0  0.0  0.0  0.0  \n",
       "\n",
       "[5 rows x 25 columns]"
      ]
     },
     "execution_count": 54,
     "metadata": {},
     "output_type": "execute_result"
    }
   ],
   "source": [
    "partitions1 = partitions.iloc[:, :25]\n",
    "partitions1.head()"
   ]
  },
  {
   "cell_type": "code",
   "execution_count": 55,
   "metadata": {},
   "outputs": [
    {
     "data": {
      "text/plain": [
       "(5241, 25)"
      ]
     },
     "execution_count": 55,
     "metadata": {},
     "output_type": "execute_result"
    }
   ],
   "source": [
    "partitions1.shape"
   ]
  },
  {
   "cell_type": "code",
   "execution_count": 64,
   "metadata": {},
   "outputs": [],
   "source": [
    "partitions1.to_csv('partitions1-25.csv')"
   ]
  },
  {
   "cell_type": "code",
   "execution_count": 65,
   "metadata": {},
   "outputs": [],
   "source": [
    "partitions.to_csv('partitions.csv')"
   ]
  },
  {
   "cell_type": "code",
   "execution_count": 66,
   "metadata": {},
   "outputs": [
    {
     "data": {
      "text/html": [
       "<div>\n",
       "<style scoped>\n",
       "    .dataframe tbody tr th:only-of-type {\n",
       "        vertical-align: middle;\n",
       "    }\n",
       "\n",
       "    .dataframe tbody tr th {\n",
       "        vertical-align: top;\n",
       "    }\n",
       "\n",
       "    .dataframe thead th {\n",
       "        text-align: right;\n",
       "    }\n",
       "</style>\n",
       "<table border=\"1\" class=\"dataframe\">\n",
       "  <thead>\n",
       "    <tr style=\"text-align: right;\">\n",
       "      <th></th>\n",
       "      <th>25</th>\n",
       "      <th>26</th>\n",
       "      <th>27</th>\n",
       "      <th>28</th>\n",
       "      <th>29</th>\n",
       "      <th>30</th>\n",
       "      <th>31</th>\n",
       "      <th>32</th>\n",
       "      <th>33</th>\n",
       "      <th>34</th>\n",
       "      <th>...</th>\n",
       "      <th>40</th>\n",
       "      <th>41</th>\n",
       "      <th>42</th>\n",
       "      <th>43</th>\n",
       "      <th>44</th>\n",
       "      <th>45</th>\n",
       "      <th>46</th>\n",
       "      <th>47</th>\n",
       "      <th>48</th>\n",
       "      <th>49</th>\n",
       "    </tr>\n",
       "  </thead>\n",
       "  <tbody>\n",
       "    <tr>\n",
       "      <th>0</th>\n",
       "      <td>1.0</td>\n",
       "      <td>1.0</td>\n",
       "      <td>1.0</td>\n",
       "      <td>1.0</td>\n",
       "      <td>1.0</td>\n",
       "      <td>1.0</td>\n",
       "      <td>1.0</td>\n",
       "      <td>1.0</td>\n",
       "      <td>1.0</td>\n",
       "      <td>1.0</td>\n",
       "      <td>...</td>\n",
       "      <td>1.0</td>\n",
       "      <td>1.0</td>\n",
       "      <td>1.0</td>\n",
       "      <td>1.0</td>\n",
       "      <td>1.0</td>\n",
       "      <td>1.0</td>\n",
       "      <td>1.0</td>\n",
       "      <td>1.0</td>\n",
       "      <td>1.0</td>\n",
       "      <td>1.0</td>\n",
       "    </tr>\n",
       "    <tr>\n",
       "      <th>1</th>\n",
       "      <td>1.0</td>\n",
       "      <td>1.0</td>\n",
       "      <td>1.0</td>\n",
       "      <td>1.0</td>\n",
       "      <td>1.0</td>\n",
       "      <td>1.0</td>\n",
       "      <td>1.0</td>\n",
       "      <td>1.0</td>\n",
       "      <td>1.0</td>\n",
       "      <td>1.0</td>\n",
       "      <td>...</td>\n",
       "      <td>1.0</td>\n",
       "      <td>1.0</td>\n",
       "      <td>1.0</td>\n",
       "      <td>1.0</td>\n",
       "      <td>1.0</td>\n",
       "      <td>1.0</td>\n",
       "      <td>1.0</td>\n",
       "      <td>1.0</td>\n",
       "      <td>1.0</td>\n",
       "      <td>1.0</td>\n",
       "    </tr>\n",
       "    <tr>\n",
       "      <th>2</th>\n",
       "      <td>1.0</td>\n",
       "      <td>1.0</td>\n",
       "      <td>1.0</td>\n",
       "      <td>1.0</td>\n",
       "      <td>1.0</td>\n",
       "      <td>1.0</td>\n",
       "      <td>1.0</td>\n",
       "      <td>1.0</td>\n",
       "      <td>1.0</td>\n",
       "      <td>1.0</td>\n",
       "      <td>...</td>\n",
       "      <td>1.0</td>\n",
       "      <td>1.0</td>\n",
       "      <td>1.0</td>\n",
       "      <td>1.0</td>\n",
       "      <td>1.0</td>\n",
       "      <td>1.0</td>\n",
       "      <td>1.0</td>\n",
       "      <td>1.0</td>\n",
       "      <td>1.0</td>\n",
       "      <td>1.0</td>\n",
       "    </tr>\n",
       "    <tr>\n",
       "      <th>3</th>\n",
       "      <td>1.0</td>\n",
       "      <td>1.0</td>\n",
       "      <td>1.0</td>\n",
       "      <td>1.0</td>\n",
       "      <td>1.0</td>\n",
       "      <td>1.0</td>\n",
       "      <td>1.0</td>\n",
       "      <td>1.0</td>\n",
       "      <td>1.0</td>\n",
       "      <td>1.0</td>\n",
       "      <td>...</td>\n",
       "      <td>1.0</td>\n",
       "      <td>1.0</td>\n",
       "      <td>1.0</td>\n",
       "      <td>1.0</td>\n",
       "      <td>1.0</td>\n",
       "      <td>1.0</td>\n",
       "      <td>1.0</td>\n",
       "      <td>1.0</td>\n",
       "      <td>1.0</td>\n",
       "      <td>1.0</td>\n",
       "    </tr>\n",
       "    <tr>\n",
       "      <th>4</th>\n",
       "      <td>1.0</td>\n",
       "      <td>1.0</td>\n",
       "      <td>1.0</td>\n",
       "      <td>1.0</td>\n",
       "      <td>1.0</td>\n",
       "      <td>1.0</td>\n",
       "      <td>1.0</td>\n",
       "      <td>1.0</td>\n",
       "      <td>1.0</td>\n",
       "      <td>1.0</td>\n",
       "      <td>...</td>\n",
       "      <td>1.0</td>\n",
       "      <td>1.0</td>\n",
       "      <td>1.0</td>\n",
       "      <td>1.0</td>\n",
       "      <td>1.0</td>\n",
       "      <td>1.0</td>\n",
       "      <td>1.0</td>\n",
       "      <td>1.0</td>\n",
       "      <td>1.0</td>\n",
       "      <td>1.0</td>\n",
       "    </tr>\n",
       "  </tbody>\n",
       "</table>\n",
       "<p>5 rows × 25 columns</p>\n",
       "</div>"
      ],
      "text/plain": [
       "    25   26   27   28   29   30   31   32   33   34  ...   40   41   42   43  \\\n",
       "0  1.0  1.0  1.0  1.0  1.0  1.0  1.0  1.0  1.0  1.0  ...  1.0  1.0  1.0  1.0   \n",
       "1  1.0  1.0  1.0  1.0  1.0  1.0  1.0  1.0  1.0  1.0  ...  1.0  1.0  1.0  1.0   \n",
       "2  1.0  1.0  1.0  1.0  1.0  1.0  1.0  1.0  1.0  1.0  ...  1.0  1.0  1.0  1.0   \n",
       "3  1.0  1.0  1.0  1.0  1.0  1.0  1.0  1.0  1.0  1.0  ...  1.0  1.0  1.0  1.0   \n",
       "4  1.0  1.0  1.0  1.0  1.0  1.0  1.0  1.0  1.0  1.0  ...  1.0  1.0  1.0  1.0   \n",
       "\n",
       "    44   45   46   47   48   49  \n",
       "0  1.0  1.0  1.0  1.0  1.0  1.0  \n",
       "1  1.0  1.0  1.0  1.0  1.0  1.0  \n",
       "2  1.0  1.0  1.0  1.0  1.0  1.0  \n",
       "3  1.0  1.0  1.0  1.0  1.0  1.0  \n",
       "4  1.0  1.0  1.0  1.0  1.0  1.0  \n",
       "\n",
       "[5 rows x 25 columns]"
      ]
     },
     "execution_count": 66,
     "metadata": {},
     "output_type": "execute_result"
    }
   ],
   "source": [
    "partitions2 = partitions.iloc[:, 25:]\n",
    "partitions2.head()"
   ]
  },
  {
   "cell_type": "code",
   "execution_count": 12,
   "metadata": {},
   "outputs": [
    {
     "data": {
      "text/plain": [
       "(5241, 50)"
      ]
     },
     "execution_count": 12,
     "metadata": {},
     "output_type": "execute_result"
    }
   ],
   "source": [
    "partitions.shape"
   ]
  },
  {
   "cell_type": "markdown",
   "metadata": {},
   "source": [
    "Now, we obtain the number of elements per class in each partition."
   ]
  },
  {
   "cell_type": "code",
   "execution_count": 56,
   "metadata": {},
   "outputs": [
    {
     "data": {
      "text/plain": [
       "(50, 2)"
      ]
     },
     "execution_count": 56,
     "metadata": {},
     "output_type": "execute_result"
    }
   ],
   "source": [
    "partitions_size = np.zeros([50, 2])\n",
    "                            \n",
    "for i in range(50):\n",
    "    partitions_size[i, 0] = (partitions.iloc[:, i] == 1).sum()\n",
    "    partitions_size[i, 1] = (partitions.iloc[:, i] == 0).sum()\n",
    "\n",
    "partitions_size = pd.DataFrame(partitions_size)\n",
    "partitions_size.shape"
   ]
  },
  {
   "cell_type": "code",
   "execution_count": 14,
   "metadata": {},
   "outputs": [
    {
     "data": {
      "text/html": [
       "<div>\n",
       "<style scoped>\n",
       "    .dataframe tbody tr th:only-of-type {\n",
       "        vertical-align: middle;\n",
       "    }\n",
       "\n",
       "    .dataframe tbody tr th {\n",
       "        vertical-align: top;\n",
       "    }\n",
       "\n",
       "    .dataframe thead th {\n",
       "        text-align: right;\n",
       "    }\n",
       "</style>\n",
       "<table border=\"1\" class=\"dataframe\">\n",
       "  <thead>\n",
       "    <tr style=\"text-align: right;\">\n",
       "      <th></th>\n",
       "      <th>0</th>\n",
       "      <th>1</th>\n",
       "    </tr>\n",
       "  </thead>\n",
       "  <tbody>\n",
       "    <tr>\n",
       "      <th>0</th>\n",
       "      <td>4073.0</td>\n",
       "      <td>1168.0</td>\n",
       "    </tr>\n",
       "    <tr>\n",
       "      <th>1</th>\n",
       "      <td>4020.0</td>\n",
       "      <td>1221.0</td>\n",
       "    </tr>\n",
       "    <tr>\n",
       "      <th>2</th>\n",
       "      <td>3969.0</td>\n",
       "      <td>1272.0</td>\n",
       "    </tr>\n",
       "    <tr>\n",
       "      <th>3</th>\n",
       "      <td>3907.0</td>\n",
       "      <td>1334.0</td>\n",
       "    </tr>\n",
       "    <tr>\n",
       "      <th>4</th>\n",
       "      <td>3851.0</td>\n",
       "      <td>1390.0</td>\n",
       "    </tr>\n",
       "  </tbody>\n",
       "</table>\n",
       "</div>"
      ],
      "text/plain": [
       "        0       1\n",
       "0  4073.0  1168.0\n",
       "1  4020.0  1221.0\n",
       "2  3969.0  1272.0\n",
       "3  3907.0  1334.0\n",
       "4  3851.0  1390.0"
      ]
     },
     "execution_count": 14,
     "metadata": {},
     "output_type": "execute_result"
    }
   ],
   "source": [
    "partitions_size.head()"
   ]
  },
  {
   "cell_type": "code",
   "execution_count": 59,
   "metadata": {},
   "outputs": [],
   "source": [
    "partitions_size.to_csv('partitions2_size.csv')"
   ]
  },
  {
   "cell_type": "code",
   "execution_count": 15,
   "metadata": {},
   "outputs": [
    {
     "data": {
      "text/plain": [
       "(5241, 132)"
      ]
     },
     "execution_count": 15,
     "metadata": {},
     "output_type": "execute_result"
    }
   ],
   "source": [
    "X = data.iloc[:, :-1]\n",
    "X.shape"
   ]
  },
  {
   "cell_type": "code",
   "execution_count": 16,
   "metadata": {},
   "outputs": [
    {
     "data": {
      "text/html": [
       "<div>\n",
       "<style scoped>\n",
       "    .dataframe tbody tr th:only-of-type {\n",
       "        vertical-align: middle;\n",
       "    }\n",
       "\n",
       "    .dataframe tbody tr th {\n",
       "        vertical-align: top;\n",
       "    }\n",
       "\n",
       "    .dataframe thead th {\n",
       "        text-align: right;\n",
       "    }\n",
       "</style>\n",
       "<table border=\"1\" class=\"dataframe\">\n",
       "  <thead>\n",
       "    <tr style=\"text-align: right;\">\n",
       "      <th></th>\n",
       "      <th>D0</th>\n",
       "      <th>D1</th>\n",
       "      <th>D2</th>\n",
       "      <th>D3</th>\n",
       "      <th>D4</th>\n",
       "      <th>D5</th>\n",
       "      <th>D6</th>\n",
       "      <th>D7</th>\n",
       "      <th>D8</th>\n",
       "      <th>D9</th>\n",
       "      <th>...</th>\n",
       "      <th>a1_2</th>\n",
       "      <th>a1_3</th>\n",
       "      <th>a1_4</th>\n",
       "      <th>a1_5</th>\n",
       "      <th>a1_6</th>\n",
       "      <th>a1_7</th>\n",
       "      <th>a1_8</th>\n",
       "      <th>a1_9</th>\n",
       "      <th>a1_10</th>\n",
       "      <th>a1_11</th>\n",
       "    </tr>\n",
       "  </thead>\n",
       "  <tbody>\n",
       "    <tr>\n",
       "      <th>1354</th>\n",
       "      <td>25.238859</td>\n",
       "      <td>29.732137</td>\n",
       "      <td>30.805844</td>\n",
       "      <td>37.643060</td>\n",
       "      <td>45.221676</td>\n",
       "      <td>46.400431</td>\n",
       "      <td>48.373546</td>\n",
       "      <td>53.600373</td>\n",
       "      <td>55.901699</td>\n",
       "      <td>62.936476</td>\n",
       "      <td>...</td>\n",
       "      <td>340.753887</td>\n",
       "      <td>141.990823</td>\n",
       "      <td>53.034286</td>\n",
       "      <td>357.883139</td>\n",
       "      <td>27.874984</td>\n",
       "      <td>71.656108</td>\n",
       "      <td>188.434949</td>\n",
       "      <td>232.571259</td>\n",
       "      <td>1.560131</td>\n",
       "      <td>211.905942</td>\n",
       "    </tr>\n",
       "    <tr>\n",
       "      <th>2238</th>\n",
       "      <td>33.526109</td>\n",
       "      <td>34.928498</td>\n",
       "      <td>40.024992</td>\n",
       "      <td>51.244512</td>\n",
       "      <td>52.839379</td>\n",
       "      <td>58.940648</td>\n",
       "      <td>66.490601</td>\n",
       "      <td>79.611557</td>\n",
       "      <td>89.050547</td>\n",
       "      <td>118.903322</td>\n",
       "      <td>...</td>\n",
       "      <td>77.994617</td>\n",
       "      <td>262.020526</td>\n",
       "      <td>4.475889</td>\n",
       "      <td>79.743563</td>\n",
       "      <td>167.154942</td>\n",
       "      <td>212.308016</td>\n",
       "      <td>40.449548</td>\n",
       "      <td>226.869813</td>\n",
       "      <td>182.042287</td>\n",
       "      <td>185.582201</td>\n",
       "    </tr>\n",
       "    <tr>\n",
       "      <th>1523</th>\n",
       "      <td>23.769729</td>\n",
       "      <td>35.510562</td>\n",
       "      <td>39.623226</td>\n",
       "      <td>43.863424</td>\n",
       "      <td>50.039984</td>\n",
       "      <td>65.122961</td>\n",
       "      <td>73.348483</td>\n",
       "      <td>75.186435</td>\n",
       "      <td>104.281293</td>\n",
       "      <td>112.086528</td>\n",
       "      <td>...</td>\n",
       "      <td>247.824489</td>\n",
       "      <td>31.152390</td>\n",
       "      <td>350.290610</td>\n",
       "      <td>261.521453</td>\n",
       "      <td>232.133643</td>\n",
       "      <td>64.148581</td>\n",
       "      <td>183.010614</td>\n",
       "      <td>182.988503</td>\n",
       "      <td>182.042287</td>\n",
       "      <td>185.582201</td>\n",
       "    </tr>\n",
       "    <tr>\n",
       "      <th>1524</th>\n",
       "      <td>28.231188</td>\n",
       "      <td>36.796739</td>\n",
       "      <td>39.623226</td>\n",
       "      <td>41.725292</td>\n",
       "      <td>68.796802</td>\n",
       "      <td>70.213959</td>\n",
       "      <td>79.259069</td>\n",
       "      <td>114.756263</td>\n",
       "      <td>104.281293</td>\n",
       "      <td>112.086528</td>\n",
       "      <td>...</td>\n",
       "      <td>52.824489</td>\n",
       "      <td>18.971022</td>\n",
       "      <td>30.464933</td>\n",
       "      <td>8.727398</td>\n",
       "      <td>33.524111</td>\n",
       "      <td>50.417038</td>\n",
       "      <td>183.010614</td>\n",
       "      <td>182.988503</td>\n",
       "      <td>182.042287</td>\n",
       "      <td>185.582201</td>\n",
       "    </tr>\n",
       "    <tr>\n",
       "      <th>2969</th>\n",
       "      <td>15.620499</td>\n",
       "      <td>45.607017</td>\n",
       "      <td>46.097722</td>\n",
       "      <td>53.009433</td>\n",
       "      <td>73.824115</td>\n",
       "      <td>74.330344</td>\n",
       "      <td>106.367288</td>\n",
       "      <td>111.772090</td>\n",
       "      <td>120.880106</td>\n",
       "      <td>134.331679</td>\n",
       "      <td>...</td>\n",
       "      <td>67.601295</td>\n",
       "      <td>81.211027</td>\n",
       "      <td>51.829347</td>\n",
       "      <td>106.143587</td>\n",
       "      <td>107.803344</td>\n",
       "      <td>83.309932</td>\n",
       "      <td>100.663957</td>\n",
       "      <td>93.297354</td>\n",
       "      <td>81.462322</td>\n",
       "      <td>110.618440</td>\n",
       "    </tr>\n",
       "  </tbody>\n",
       "</table>\n",
       "<p>5 rows × 132 columns</p>\n",
       "</div>"
      ],
      "text/plain": [
       "             D0         D1         D2         D3         D4         D5  \\\n",
       "1354  25.238859  29.732137  30.805844  37.643060  45.221676  46.400431   \n",
       "2238  33.526109  34.928498  40.024992  51.244512  52.839379  58.940648   \n",
       "1523  23.769729  35.510562  39.623226  43.863424  50.039984  65.122961   \n",
       "1524  28.231188  36.796739  39.623226  41.725292  68.796802  70.213959   \n",
       "2969  15.620499  45.607017  46.097722  53.009433  73.824115  74.330344   \n",
       "\n",
       "              D6          D7          D8          D9  ...        a1_2  \\\n",
       "1354   48.373546   53.600373   55.901699   62.936476  ...  340.753887   \n",
       "2238   66.490601   79.611557   89.050547  118.903322  ...   77.994617   \n",
       "1523   73.348483   75.186435  104.281293  112.086528  ...  247.824489   \n",
       "1524   79.259069  114.756263  104.281293  112.086528  ...   52.824489   \n",
       "2969  106.367288  111.772090  120.880106  134.331679  ...   67.601295   \n",
       "\n",
       "            a1_3        a1_4        a1_5        a1_6        a1_7        a1_8  \\\n",
       "1354  141.990823   53.034286  357.883139   27.874984   71.656108  188.434949   \n",
       "2238  262.020526    4.475889   79.743563  167.154942  212.308016   40.449548   \n",
       "1523   31.152390  350.290610  261.521453  232.133643   64.148581  183.010614   \n",
       "1524   18.971022   30.464933    8.727398   33.524111   50.417038  183.010614   \n",
       "2969   81.211027   51.829347  106.143587  107.803344   83.309932  100.663957   \n",
       "\n",
       "            a1_9       a1_10       a1_11  \n",
       "1354  232.571259    1.560131  211.905942  \n",
       "2238  226.869813  182.042287  185.582201  \n",
       "1523  182.988503  182.042287  185.582201  \n",
       "1524  182.988503  182.042287  185.582201  \n",
       "2969   93.297354   81.462322  110.618440  \n",
       "\n",
       "[5 rows x 132 columns]"
      ]
     },
     "execution_count": 16,
     "metadata": {},
     "output_type": "execute_result"
    }
   ],
   "source": [
    "X.head()"
   ]
  },
  {
   "cell_type": "code",
   "execution_count": 17,
   "metadata": {},
   "outputs": [],
   "source": [
    "from sklearn.model_selection import KFold\n",
    "from sklearn.metrics import roc_auc_score"
   ]
  },
  {
   "cell_type": "code",
   "execution_count": 18,
   "metadata": {},
   "outputs": [],
   "source": [
    "from sklearn.ensemble import RandomForestClassifier\n",
    "from sklearn.tree import DecisionTreeClassifier\n",
    "from sklearn.naive_bayes import GaussianNB\n",
    "from sklearn.tree import ExtraTreeClassifier\n",
    "from sklearn.neighbors import KNeighborsClassifier\n",
    "from sklearn.neural_network import MLPClassifier\n",
    "#from sklearn.linear_model import RidgeClassifier\n",
    "from sklearn.discriminant_analysis import LinearDiscriminantAnalysis"
   ]
  },
  {
   "cell_type": "code",
   "execution_count": 19,
   "metadata": {},
   "outputs": [],
   "source": [
    "from tqdm import tqdm"
   ]
  },
  {
   "cell_type": "code",
   "execution_count": 20,
   "metadata": {},
   "outputs": [],
   "source": [
    "def train_and_test(classifier, X_train,y_train,X_test,y_test):\n",
    "    \"\"\"\n",
    "    Train a model specified by \"classifier\" using X_train and y_train and\n",
    "    test it using X_test and, y_test. Returns the AUC obtained with X_test and\n",
    "    y_test.\n",
    "    \"\"\"\n",
    "\n",
    "    if classifier == 'random_forest':\n",
    "        clf = RandomForestClassifier()\n",
    "    elif classifier == 'decision_tree':\n",
    "        clf = DecisionTreeClassifier()\n",
    "    elif classifier == 'naive_bayes':\n",
    "        clf = GaussianNB()\n",
    "    elif classifier == 'extra_tree':\n",
    "        clf = ExtraTreeClassifier()\n",
    "    elif classifier == 'knn':\n",
    "        clf = KNeighborsClassifier()\n",
    "    elif classifier == 'mlp':\n",
    "        clf = MLPClassifier()\n",
    "    elif classifier == 'ridge':\n",
    "        clf = RidgeClassifier()\n",
    "    elif classifier == 'lda':\n",
    "        clf = LinearDiscriminantAnalysis()\n",
    "    else:\n",
    "        print(\"I can\\'t use classifier {}\".format(classifier))\n",
    "        exit()\n",
    "\n",
    "    clf.fit(X_train,y_train)\n",
    "    this_auc = roc_auc_score(y_test, clf.predict_proba(X_test)[:, 1])\n",
    "    #y_hat = clf.predict_proba(X_test)\n",
    "    #fpr,tpr,thr = roc_curve(y_test,y_hat)\n",
    "    #this_auc = auc(fpr,tpr)\n",
    "\n",
    "    return this_auc"
   ]
  },
  {
   "cell_type": "code",
   "execution_count": 21,
   "metadata": {},
   "outputs": [],
   "source": [
    "classifiers = ['random_forest', 'decision_tree', 'extra_tree', 'naive_bayes', 'knn', 'mlp', 'lda']"
   ]
  },
  {
   "cell_type": "code",
   "execution_count": 23,
   "metadata": {},
   "outputs": [],
   "source": [
    "PARTITION_scores = np.zeros([50, len(classifiers)])\n",
    "best_classifiers = []\n",
    "vees = []"
   ]
  },
  {
   "cell_type": "code",
   "execution_count": 25,
   "metadata": {},
   "outputs": [
    {
     "name": "stderr",
     "output_type": "stream",
     "text": [
      "\r",
      "  0%|          | 0/7 [00:00<?, ?it/s]"
     ]
    },
    {
     "name": "stdout",
     "output_type": "stream",
     "text": [
      "Working on partition  1\n",
      "Cutoff point =  -0.2\n"
     ]
    },
    {
     "name": "stderr",
     "output_type": "stream",
     "text": [
      "100%|██████████| 7/7 [01:16<00:00, 10.96s/it]\n",
      "  0%|          | 0/7 [00:00<?, ?it/s]"
     ]
    },
    {
     "name": "stdout",
     "output_type": "stream",
     "text": [
      "Best classifier:  random_forest\n",
      "V value:  0.7172417359888369\n",
      "----------------------------------------------------------------\n",
      "Working on partition  2\n",
      "Cutoff point =  -0.19183673469387758\n"
     ]
    },
    {
     "name": "stderr",
     "output_type": "stream",
     "text": [
      "100%|██████████| 7/7 [01:10<00:00, 10.05s/it]\n",
      "  0%|          | 0/7 [00:00<?, ?it/s]"
     ]
    },
    {
     "name": "stdout",
     "output_type": "stream",
     "text": [
      "Best classifier:  random_forest\n",
      "V value:  0.7170202653327079\n",
      "----------------------------------------------------------------\n",
      "Working on partition  3\n",
      "Cutoff point =  -0.1836734693877551\n"
     ]
    },
    {
     "name": "stderr",
     "output_type": "stream",
     "text": [
      "100%|██████████| 7/7 [01:08<00:00,  9.86s/it]\n",
      "  0%|          | 0/7 [00:00<?, ?it/s]"
     ]
    },
    {
     "name": "stdout",
     "output_type": "stream",
     "text": [
      "Best classifier:  random_forest\n",
      "V value:  0.714253039089859\n",
      "----------------------------------------------------------------\n",
      "Working on partition  4\n",
      "Cutoff point =  -0.17551020408163265\n"
     ]
    },
    {
     "name": "stderr",
     "output_type": "stream",
     "text": [
      "100%|██████████| 7/7 [01:05<00:00,  9.38s/it]\n",
      "  0%|          | 0/7 [00:00<?, ?it/s]"
     ]
    },
    {
     "name": "stdout",
     "output_type": "stream",
     "text": [
      "Best classifier:  random_forest\n",
      "V value:  0.7118933754080204\n",
      "----------------------------------------------------------------\n",
      "Working on partition  5\n",
      "Cutoff point =  -0.1673469387755102\n"
     ]
    },
    {
     "name": "stderr",
     "output_type": "stream",
     "text": [
      "100%|██████████| 7/7 [01:08<00:00,  9.76s/it]\n",
      "  0%|          | 0/7 [00:00<?, ?it/s]"
     ]
    },
    {
     "name": "stdout",
     "output_type": "stream",
     "text": [
      "Best classifier:  random_forest\n",
      "V value:  0.7103217891434095\n",
      "----------------------------------------------------------------\n",
      "Working on partition  6\n",
      "Cutoff point =  -0.15918367346938778\n"
     ]
    },
    {
     "name": "stderr",
     "output_type": "stream",
     "text": [
      "100%|██████████| 7/7 [01:09<00:00,  9.89s/it]\n",
      "  0%|          | 0/7 [00:00<?, ?it/s]"
     ]
    },
    {
     "name": "stdout",
     "output_type": "stream",
     "text": [
      "Best classifier:  random_forest\n",
      "V value:  0.7144341507120743\n",
      "----------------------------------------------------------------\n",
      "Working on partition  7\n",
      "Cutoff point =  -0.1510204081632653\n"
     ]
    },
    {
     "name": "stderr",
     "output_type": "stream",
     "text": [
      "100%|██████████| 7/7 [01:03<00:00,  9.05s/it]\n",
      "  0%|          | 0/7 [00:00<?, ?it/s]"
     ]
    },
    {
     "name": "stdout",
     "output_type": "stream",
     "text": [
      "Best classifier:  random_forest\n",
      "V value:  0.7042825893784701\n",
      "----------------------------------------------------------------\n",
      "Working on partition  8\n",
      "Cutoff point =  -0.14285714285714285\n"
     ]
    },
    {
     "name": "stderr",
     "output_type": "stream",
     "text": [
      "100%|██████████| 7/7 [01:05<00:00,  9.30s/it]\n",
      "  0%|          | 0/7 [00:00<?, ?it/s]"
     ]
    },
    {
     "name": "stdout",
     "output_type": "stream",
     "text": [
      "Best classifier:  random_forest\n",
      "V value:  0.7060051775589365\n",
      "----------------------------------------------------------------\n",
      "Working on partition  9\n",
      "Cutoff point =  -0.1346938775510204\n"
     ]
    },
    {
     "name": "stderr",
     "output_type": "stream",
     "text": [
      "100%|██████████| 7/7 [01:07<00:00,  9.68s/it]\n",
      "  0%|          | 0/7 [00:00<?, ?it/s]"
     ]
    },
    {
     "name": "stdout",
     "output_type": "stream",
     "text": [
      "Best classifier:  random_forest\n",
      "V value:  0.700474287479957\n",
      "----------------------------------------------------------------\n",
      "Working on partition  10\n",
      "Cutoff point =  -0.12653061224489798\n"
     ]
    },
    {
     "name": "stderr",
     "output_type": "stream",
     "text": [
      "100%|██████████| 7/7 [01:11<00:00, 10.19s/it]\n",
      "  0%|          | 0/7 [00:00<?, ?it/s]"
     ]
    },
    {
     "name": "stdout",
     "output_type": "stream",
     "text": [
      "Best classifier:  random_forest\n",
      "V value:  0.6988780841882307\n",
      "----------------------------------------------------------------\n",
      "Working on partition  11\n",
      "Cutoff point =  -0.11836734693877551\n"
     ]
    },
    {
     "name": "stderr",
     "output_type": "stream",
     "text": [
      "100%|██████████| 7/7 [01:05<00:00,  9.29s/it]\n",
      "  0%|          | 0/7 [00:00<?, ?it/s]"
     ]
    },
    {
     "name": "stdout",
     "output_type": "stream",
     "text": [
      "Best classifier:  random_forest\n",
      "V value:  0.7037715482279883\n",
      "----------------------------------------------------------------\n",
      "Working on partition  12\n",
      "Cutoff point =  -0.11020408163265306\n"
     ]
    },
    {
     "name": "stderr",
     "output_type": "stream",
     "text": [
      "100%|██████████| 7/7 [01:05<00:00,  9.41s/it]\n",
      "  0%|          | 0/7 [00:00<?, ?it/s]"
     ]
    },
    {
     "name": "stdout",
     "output_type": "stream",
     "text": [
      "Best classifier:  random_forest\n",
      "V value:  0.7019689165620177\n",
      "----------------------------------------------------------------\n",
      "Working on partition  13\n",
      "Cutoff point =  -0.10204081632653061\n"
     ]
    },
    {
     "name": "stderr",
     "output_type": "stream",
     "text": [
      "100%|██████████| 7/7 [01:12<00:00, 10.39s/it]\n",
      "  0%|          | 0/7 [00:00<?, ?it/s]"
     ]
    },
    {
     "name": "stdout",
     "output_type": "stream",
     "text": [
      "Best classifier:  random_forest\n",
      "V value:  0.698718539535499\n",
      "----------------------------------------------------------------\n",
      "Working on partition  14\n",
      "Cutoff point =  -0.09387755102040816\n"
     ]
    },
    {
     "name": "stderr",
     "output_type": "stream",
     "text": [
      "100%|██████████| 7/7 [01:13<00:00, 10.52s/it]\n",
      "  0%|          | 0/7 [00:00<?, ?it/s]"
     ]
    },
    {
     "name": "stdout",
     "output_type": "stream",
     "text": [
      "Best classifier:  random_forest\n",
      "V value:  0.6936159087843312\n",
      "----------------------------------------------------------------\n",
      "Working on partition  15\n",
      "Cutoff point =  -0.08571428571428572\n"
     ]
    },
    {
     "name": "stderr",
     "output_type": "stream",
     "text": [
      "100%|██████████| 7/7 [01:06<00:00,  9.51s/it]\n",
      "  0%|          | 0/7 [00:00<?, ?it/s]"
     ]
    },
    {
     "name": "stdout",
     "output_type": "stream",
     "text": [
      "Best classifier:  random_forest\n",
      "V value:  0.6900678616056516\n",
      "----------------------------------------------------------------\n",
      "Working on partition  16\n",
      "Cutoff point =  -0.07755102040816327\n"
     ]
    },
    {
     "name": "stderr",
     "output_type": "stream",
     "text": [
      "100%|██████████| 7/7 [01:12<00:00, 10.37s/it]\n",
      "  0%|          | 0/7 [00:00<?, ?it/s]"
     ]
    },
    {
     "name": "stdout",
     "output_type": "stream",
     "text": [
      "Best classifier:  random_forest\n",
      "V value:  0.6903148411351976\n",
      "----------------------------------------------------------------\n",
      "Working on partition  17\n",
      "Cutoff point =  -0.06938775510204082\n"
     ]
    },
    {
     "name": "stderr",
     "output_type": "stream",
     "text": [
      "100%|██████████| 7/7 [01:10<00:00, 10.08s/it]\n",
      "  0%|          | 0/7 [00:00<?, ?it/s]"
     ]
    },
    {
     "name": "stdout",
     "output_type": "stream",
     "text": [
      "Best classifier:  random_forest\n",
      "V value:  0.6842661030714803\n",
      "----------------------------------------------------------------\n",
      "Working on partition  18\n",
      "Cutoff point =  -0.06122448979591838\n"
     ]
    },
    {
     "name": "stderr",
     "output_type": "stream",
     "text": [
      "100%|██████████| 7/7 [01:04<00:00,  9.26s/it]\n",
      "  0%|          | 0/7 [00:00<?, ?it/s]"
     ]
    },
    {
     "name": "stdout",
     "output_type": "stream",
     "text": [
      "Best classifier:  random_forest\n",
      "V value:  0.6828823877891905\n",
      "----------------------------------------------------------------\n",
      "Working on partition  19\n",
      "Cutoff point =  -0.053061224489795916\n"
     ]
    },
    {
     "name": "stderr",
     "output_type": "stream",
     "text": [
      "100%|██████████| 7/7 [01:10<00:00, 10.07s/it]\n",
      "  0%|          | 0/7 [00:00<?, ?it/s]"
     ]
    },
    {
     "name": "stdout",
     "output_type": "stream",
     "text": [
      "Best classifier:  random_forest\n",
      "V value:  0.6840656136013388\n",
      "----------------------------------------------------------------\n",
      "Working on partition  20\n",
      "Cutoff point =  -0.04489795918367345\n"
     ]
    },
    {
     "name": "stderr",
     "output_type": "stream",
     "text": [
      "100%|██████████| 7/7 [01:06<00:00,  9.47s/it]\n",
      "  0%|          | 0/7 [00:00<?, ?it/s]"
     ]
    },
    {
     "name": "stdout",
     "output_type": "stream",
     "text": [
      "Best classifier:  random_forest\n",
      "V value:  0.6763126362789885\n",
      "----------------------------------------------------------------\n",
      "Working on partition  21\n",
      "Cutoff point =  -0.03673469387755102\n"
     ]
    },
    {
     "name": "stderr",
     "output_type": "stream",
     "text": [
      "100%|██████████| 7/7 [01:10<00:00, 10.13s/it]\n",
      "  0%|          | 0/7 [00:00<?, ?it/s]"
     ]
    },
    {
     "name": "stdout",
     "output_type": "stream",
     "text": [
      "Best classifier:  random_forest\n",
      "V value:  0.6729320200954587\n",
      "----------------------------------------------------------------\n",
      "Working on partition  22\n",
      "Cutoff point =  -0.02857142857142858\n"
     ]
    },
    {
     "name": "stderr",
     "output_type": "stream",
     "text": [
      "100%|██████████| 7/7 [01:07<00:00,  9.67s/it]\n",
      "  0%|          | 0/7 [00:00<?, ?it/s]"
     ]
    },
    {
     "name": "stdout",
     "output_type": "stream",
     "text": [
      "Best classifier:  random_forest\n",
      "V value:  0.6705290074495446\n",
      "----------------------------------------------------------------\n",
      "Working on partition  23\n",
      "Cutoff point =  -0.020408163265306117\n"
     ]
    },
    {
     "name": "stderr",
     "output_type": "stream",
     "text": [
      "100%|██████████| 7/7 [01:10<00:00, 10.00s/it]\n",
      "  0%|          | 0/7 [00:00<?, ?it/s]"
     ]
    },
    {
     "name": "stdout",
     "output_type": "stream",
     "text": [
      "Best classifier:  random_forest\n",
      "V value:  0.6638552350765228\n",
      "----------------------------------------------------------------\n",
      "Working on partition  24\n",
      "Cutoff point =  -0.012244897959183654\n"
     ]
    },
    {
     "name": "stderr",
     "output_type": "stream",
     "text": [
      "100%|██████████| 7/7 [01:11<00:00, 10.27s/it]\n",
      "  0%|          | 0/7 [00:00<?, ?it/s]"
     ]
    },
    {
     "name": "stdout",
     "output_type": "stream",
     "text": [
      "Best classifier:  random_forest\n",
      "V value:  0.6620230103567046\n",
      "----------------------------------------------------------------\n",
      "Working on partition  25\n",
      "Cutoff point =  -0.004081632653061218\n"
     ]
    },
    {
     "name": "stderr",
     "output_type": "stream",
     "text": [
      "100%|██████████| 7/7 [01:10<00:00, 10.02s/it]\n",
      "  0%|          | 0/7 [00:00<?, ?it/s]"
     ]
    },
    {
     "name": "stdout",
     "output_type": "stream",
     "text": [
      "Best classifier:  random_forest\n",
      "V value:  0.655718863580699\n",
      "----------------------------------------------------------------\n",
      "Working on partition  26\n",
      "Cutoff point =  0.004081632653061218\n"
     ]
    },
    {
     "name": "stderr",
     "output_type": "stream",
     "text": [
      "100%|██████████| 7/7 [01:08<00:00,  9.74s/it]\n",
      "  0%|          | 0/7 [00:00<?, ?it/s]"
     ]
    },
    {
     "name": "stdout",
     "output_type": "stream",
     "text": [
      "Best classifier:  random_forest\n",
      "V value:  0.6530723663589052\n",
      "----------------------------------------------------------------\n",
      "Working on partition  27\n",
      "Cutoff point =  0.012244897959183682\n"
     ]
    },
    {
     "name": "stderr",
     "output_type": "stream",
     "text": [
      "100%|██████████| 7/7 [01:09<00:00,  9.87s/it]\n",
      "  0%|          | 0/7 [00:00<?, ?it/s]"
     ]
    },
    {
     "name": "stdout",
     "output_type": "stream",
     "text": [
      "Best classifier:  random_forest\n",
      "V value:  0.633690208571784\n",
      "----------------------------------------------------------------\n",
      "Working on partition  28\n",
      "Cutoff point =  0.020408163265306145\n"
     ]
    },
    {
     "name": "stderr",
     "output_type": "stream",
     "text": [
      "100%|██████████| 7/7 [01:08<00:00,  9.81s/it]\n",
      "  0%|          | 0/7 [00:00<?, ?it/s]"
     ]
    },
    {
     "name": "stdout",
     "output_type": "stream",
     "text": [
      "Best classifier:  random_forest\n",
      "V value:  0.6416469103409905\n",
      "----------------------------------------------------------------\n",
      "Working on partition  29\n",
      "Cutoff point =  0.02857142857142858\n"
     ]
    },
    {
     "name": "stderr",
     "output_type": "stream",
     "text": [
      "100%|██████████| 7/7 [01:07<00:00,  9.58s/it]\n",
      "  0%|          | 0/7 [00:00<?, ?it/s]"
     ]
    },
    {
     "name": "stdout",
     "output_type": "stream",
     "text": [
      "Best classifier:  random_forest\n",
      "V value:  0.6301366492783698\n",
      "----------------------------------------------------------------\n",
      "Working on partition  30\n",
      "Cutoff point =  0.03673469387755102\n"
     ]
    },
    {
     "name": "stderr",
     "output_type": "stream",
     "text": [
      "100%|██████████| 7/7 [01:12<00:00, 10.29s/it]\n",
      "  0%|          | 0/7 [00:00<?, ?it/s]"
     ]
    },
    {
     "name": "stdout",
     "output_type": "stream",
     "text": [
      "Best classifier:  random_forest\n",
      "V value:  0.6313935888562217\n",
      "----------------------------------------------------------------\n",
      "Working on partition  31\n",
      "Cutoff point =  0.04489795918367348\n"
     ]
    },
    {
     "name": "stderr",
     "output_type": "stream",
     "text": [
      "100%|██████████| 7/7 [01:17<00:00, 11.09s/it]\n",
      "  0%|          | 0/7 [00:00<?, ?it/s]"
     ]
    },
    {
     "name": "stdout",
     "output_type": "stream",
     "text": [
      "Best classifier:  random_forest\n",
      "V value:  0.6402439816943837\n",
      "----------------------------------------------------------------\n",
      "Working on partition  32\n",
      "Cutoff point =  0.053061224489795944\n"
     ]
    },
    {
     "name": "stderr",
     "output_type": "stream",
     "text": [
      "100%|██████████| 7/7 [01:12<00:00, 10.30s/it]\n",
      "  0%|          | 0/7 [00:00<?, ?it/s]"
     ]
    },
    {
     "name": "stdout",
     "output_type": "stream",
     "text": [
      "Best classifier:  random_forest\n",
      "V value:  0.6308936809389445\n",
      "----------------------------------------------------------------\n",
      "Working on partition  33\n",
      "Cutoff point =  0.06122448979591838\n"
     ]
    },
    {
     "name": "stderr",
     "output_type": "stream",
     "text": [
      "100%|██████████| 7/7 [01:14<00:00, 10.68s/it]\n",
      "  0%|          | 0/7 [00:00<?, ?it/s]"
     ]
    },
    {
     "name": "stdout",
     "output_type": "stream",
     "text": [
      "Best classifier:  random_forest\n",
      "V value:  0.6315399650879535\n",
      "----------------------------------------------------------------\n",
      "Working on partition  34\n",
      "Cutoff point =  0.06938775510204082\n"
     ]
    },
    {
     "name": "stderr",
     "output_type": "stream",
     "text": [
      "100%|██████████| 7/7 [01:15<00:00, 10.81s/it]\n",
      "  0%|          | 0/7 [00:00<?, ?it/s]"
     ]
    },
    {
     "name": "stdout",
     "output_type": "stream",
     "text": [
      "Best classifier:  random_forest\n",
      "V value:  0.6272426517878944\n",
      "----------------------------------------------------------------\n",
      "Working on partition  35\n",
      "Cutoff point =  0.07755102040816325\n"
     ]
    },
    {
     "name": "stderr",
     "output_type": "stream",
     "text": [
      "100%|██████████| 7/7 [01:16<00:00, 10.99s/it]\n",
      "  0%|          | 0/7 [00:00<?, ?it/s]"
     ]
    },
    {
     "name": "stdout",
     "output_type": "stream",
     "text": [
      "Best classifier:  random_forest\n",
      "V value:  0.628032394959165\n",
      "----------------------------------------------------------------\n",
      "Working on partition  36\n",
      "Cutoff point =  0.08571428571428574\n"
     ]
    },
    {
     "name": "stderr",
     "output_type": "stream",
     "text": [
      "100%|██████████| 7/7 [01:27<00:00, 12.48s/it]\n",
      "  0%|          | 0/7 [00:00<?, ?it/s]"
     ]
    },
    {
     "name": "stdout",
     "output_type": "stream",
     "text": [
      "Best classifier:  random_forest\n",
      "V value:  0.6269433893431703\n",
      "----------------------------------------------------------------\n",
      "Working on partition  37\n",
      "Cutoff point =  0.09387755102040818\n"
     ]
    },
    {
     "name": "stderr",
     "output_type": "stream",
     "text": [
      "100%|██████████| 7/7 [01:23<00:00, 11.90s/it]\n",
      "  0%|          | 0/7 [00:00<?, ?it/s]"
     ]
    },
    {
     "name": "stdout",
     "output_type": "stream",
     "text": [
      "Best classifier:  random_forest\n",
      "V value:  0.6263761872801037\n",
      "----------------------------------------------------------------\n",
      "Working on partition  38\n",
      "Cutoff point =  0.10204081632653061\n"
     ]
    },
    {
     "name": "stderr",
     "output_type": "stream",
     "text": [
      "100%|██████████| 7/7 [01:21<00:00, 11.65s/it]\n",
      "  0%|          | 0/7 [00:00<?, ?it/s]"
     ]
    },
    {
     "name": "stdout",
     "output_type": "stream",
     "text": [
      "Best classifier:  random_forest\n",
      "V value:  0.6378618729135582\n",
      "----------------------------------------------------------------\n",
      "Working on partition  39\n",
      "Cutoff point =  0.1102040816326531\n"
     ]
    },
    {
     "name": "stderr",
     "output_type": "stream",
     "text": [
      "100%|██████████| 7/7 [01:20<00:00, 11.44s/it]\n",
      "  0%|          | 0/7 [00:00<?, ?it/s]"
     ]
    },
    {
     "name": "stdout",
     "output_type": "stream",
     "text": [
      "Best classifier:  random_forest\n",
      "V value:  0.623560792180241\n",
      "----------------------------------------------------------------\n",
      "Working on partition  40\n",
      "Cutoff point =  0.11836734693877554\n"
     ]
    },
    {
     "name": "stderr",
     "output_type": "stream",
     "text": [
      "100%|██████████| 7/7 [01:19<00:00, 11.43s/it]\n",
      "  0%|          | 0/7 [00:00<?, ?it/s]"
     ]
    },
    {
     "name": "stdout",
     "output_type": "stream",
     "text": [
      "Best classifier:  naive_bayes\n",
      "V value:  0.6252442914647066\n",
      "----------------------------------------------------------------\n",
      "Working on partition  41\n",
      "Cutoff point =  0.12653061224489798\n"
     ]
    },
    {
     "name": "stderr",
     "output_type": "stream",
     "text": [
      "100%|██████████| 7/7 [01:23<00:00, 11.95s/it]\n",
      "  0%|          | 0/7 [00:00<?, ?it/s]"
     ]
    },
    {
     "name": "stdout",
     "output_type": "stream",
     "text": [
      "Best classifier:  naive_bayes\n",
      "V value:  0.6336715360824148\n",
      "----------------------------------------------------------------\n",
      "Working on partition  42\n",
      "Cutoff point =  0.1346938775510204\n"
     ]
    },
    {
     "name": "stderr",
     "output_type": "stream",
     "text": [
      "100%|██████████| 7/7 [01:20<00:00, 11.54s/it]\n",
      "  0%|          | 0/7 [00:00<?, ?it/s]"
     ]
    },
    {
     "name": "stdout",
     "output_type": "stream",
     "text": [
      "Best classifier:  naive_bayes\n",
      "V value:  0.6394122538362469\n",
      "----------------------------------------------------------------\n",
      "Working on partition  43\n",
      "Cutoff point =  0.14285714285714285\n"
     ]
    },
    {
     "name": "stderr",
     "output_type": "stream",
     "text": [
      "100%|██████████| 7/7 [01:21<00:00, 11.59s/it]\n",
      "  0%|          | 0/7 [00:00<?, ?it/s]"
     ]
    },
    {
     "name": "stdout",
     "output_type": "stream",
     "text": [
      "Best classifier:  naive_bayes\n",
      "V value:  0.6468653264938341\n",
      "----------------------------------------------------------------\n",
      "Working on partition  44\n",
      "Cutoff point =  0.15102040816326534\n"
     ]
    },
    {
     "name": "stderr",
     "output_type": "stream",
     "text": [
      "100%|██████████| 7/7 [01:19<00:00, 11.33s/it]\n",
      "  0%|          | 0/7 [00:00<?, ?it/s]"
     ]
    },
    {
     "name": "stdout",
     "output_type": "stream",
     "text": [
      "Best classifier:  naive_bayes\n",
      "V value:  0.6494370042945594\n",
      "----------------------------------------------------------------\n",
      "Working on partition  45\n",
      "Cutoff point =  0.15918367346938778\n"
     ]
    },
    {
     "name": "stderr",
     "output_type": "stream",
     "text": [
      "100%|██████████| 7/7 [01:25<00:00, 12.19s/it]\n",
      "  0%|          | 0/7 [00:00<?, ?it/s]"
     ]
    },
    {
     "name": "stdout",
     "output_type": "stream",
     "text": [
      "Best classifier:  naive_bayes\n",
      "V value:  0.6507124239353735\n",
      "----------------------------------------------------------------\n",
      "Working on partition  46\n",
      "Cutoff point =  0.1673469387755102\n"
     ]
    },
    {
     "name": "stderr",
     "output_type": "stream",
     "text": [
      "100%|██████████| 7/7 [01:26<00:00, 12.42s/it]\n",
      "  0%|          | 0/7 [00:00<?, ?it/s]"
     ]
    },
    {
     "name": "stdout",
     "output_type": "stream",
     "text": [
      "Best classifier:  naive_bayes\n",
      "V value:  0.6618095407706621\n",
      "----------------------------------------------------------------\n",
      "Working on partition  47\n",
      "Cutoff point =  0.1755102040816327\n"
     ]
    },
    {
     "name": "stderr",
     "output_type": "stream",
     "text": [
      "100%|██████████| 7/7 [01:26<00:00, 12.39s/it]\n",
      "  0%|          | 0/7 [00:00<?, ?it/s]"
     ]
    },
    {
     "name": "stdout",
     "output_type": "stream",
     "text": [
      "Best classifier:  naive_bayes\n",
      "V value:  0.6707715140854353\n",
      "----------------------------------------------------------------\n",
      "Working on partition  48\n",
      "Cutoff point =  0.18367346938775514\n"
     ]
    },
    {
     "name": "stderr",
     "output_type": "stream",
     "text": [
      "100%|██████████| 7/7 [01:30<00:00, 12.86s/it]\n",
      "  0%|          | 0/7 [00:00<?, ?it/s]"
     ]
    },
    {
     "name": "stdout",
     "output_type": "stream",
     "text": [
      "Best classifier:  random_forest\n",
      "V value:  0.6891929418684797\n",
      "----------------------------------------------------------------\n",
      "Working on partition  49\n",
      "Cutoff point =  0.19183673469387758\n"
     ]
    },
    {
     "name": "stderr",
     "output_type": "stream",
     "text": [
      "100%|██████████| 7/7 [01:23<00:00, 11.87s/it]\n",
      "  0%|          | 0/7 [00:00<?, ?it/s]"
     ]
    },
    {
     "name": "stdout",
     "output_type": "stream",
     "text": [
      "Best classifier:  naive_bayes\n",
      "V value:  0.682416897848681\n",
      "----------------------------------------------------------------\n",
      "Working on partition  50\n",
      "Cutoff point =  0.2\n"
     ]
    },
    {
     "name": "stderr",
     "output_type": "stream",
     "text": [
      "100%|██████████| 7/7 [01:20<00:00, 11.56s/it]"
     ]
    },
    {
     "name": "stdout",
     "output_type": "stream",
     "text": [
      "Best classifier:  naive_bayes\n",
      "V value:  0.6835165398104296\n",
      "----------------------------------------------------------------\n"
     ]
    },
    {
     "name": "stderr",
     "output_type": "stream",
     "text": [
      "\n"
     ]
    }
   ],
   "source": [
    "for i in range(50):\n",
    "    \n",
    "    print('Working on partition ', i+1)\n",
    "    print('Cutoff point = ', cutoff[i])\n",
    "    \n",
    "    partition_scores = []\n",
    "    \n",
    "    x = X.values\n",
    "    y = partitions.values[:, i]\n",
    "\n",
    "    kf = KFold(n_splits = 10, shuffle = True, random_state = 0)\n",
    "    kf.shuffle\n",
    "    kf.get_n_splits(x)\n",
    "    \n",
    "    v = 0\n",
    "    \n",
    "    for classifier in tqdm(classifiers):\n",
    "        \n",
    "        v_prime = 0\n",
    "\n",
    "        # Iterate over each fold\n",
    "        for train_index, test_index in kf.split(x):\n",
    "\n",
    "            X_train, X_test = x[train_index], x[test_index]\n",
    "            y_train, y_test = y[train_index], y[test_index]\n",
    "\n",
    "            # Train and test the model with the current folds. Return AUC\n",
    "            this_auc = train_and_test(classifier,X_train,y_train,X_test,y_test)\n",
    "            v_prime = v_prime + this_auc\n",
    "        \n",
    "            \n",
    "        # Keep the score for each classifier for the analysis of results.\n",
    "        partition_scores.append(v_prime/10)\n",
    "        \n",
    "        # Update v\n",
    "        if v_prime/10 > v:\n",
    "            best_classifier = classifier\n",
    "            v = v_prime/10\n",
    "            \n",
    "    \n",
    "    PARTITION_scores[i, :] = np.array(partition_scores).T\n",
    "    best_classifiers.append(best_classifier)\n",
    "    vees.append(v)\n",
    "            \n",
    "    print('Best classifier: ', best_classifier)\n",
    "    print('V value: ', v)\n",
    "    print('----------------------------------------------------------------')"
   ]
  },
  {
   "cell_type": "code",
   "execution_count": 26,
   "metadata": {},
   "outputs": [],
   "source": [
    "PARTITION_scores = pd.DataFrame(PARTITION_scores)"
   ]
  },
  {
   "cell_type": "code",
   "execution_count": 27,
   "metadata": {},
   "outputs": [],
   "source": [
    "PARTITION_scores.to_csv('Partition_scores.csv')"
   ]
  },
  {
   "cell_type": "code",
   "execution_count": 38,
   "metadata": {},
   "outputs": [],
   "source": [
    "vees = [0.7172417359888369,\n",
    " 0.7170202653327079,\n",
    " 0.714253039089859,\n",
    " 0.7118933754080204,\n",
    " 0.7103217891434095,\n",
    " 0.7144341507120743,\n",
    " 0.7042825893784701,\n",
    " 0.7060051775589365,\n",
    " 0.700474287479957,\n",
    " 0.6988780841882307,\n",
    " 0.7037715482279883,\n",
    " 0.7019689165620177,\n",
    " 0.698718539535499,\n",
    " 0.6936159087843312,\n",
    " 0.6900678616056516,\n",
    " 0.6903148411351976,\n",
    " 0.6842661030714803,\n",
    " 0.6828823877891905,\n",
    " 0.6840656136013388,\n",
    " 0.6763126362789885,\n",
    " 0.6729320200954587,\n",
    " 0.6705290074495446,\n",
    " 0.6638552350765228,\n",
    " 0.6620230103567046,\n",
    " 0.655718863580699,\n",
    " 0.6530723663589052,\n",
    " 0.633690208571784,\n",
    " 0.6416469103409905,\n",
    " 0.6301366492783698,\n",
    " 0.6313935888562217,\n",
    " 0.6402439816943837,\n",
    " 0.6308936809389445,\n",
    " 0.6315399650879535,\n",
    " 0.6272426517878944,\n",
    " 0.628032394959165,\n",
    " 0.6269433893431703,\n",
    " 0.6263761872801037,\n",
    " 0.6378618729135582,\n",
    " 0.623560792180241,\n",
    " 0.6252442914647066,\n",
    " 0.6336715360824148,\n",
    " 0.6394122538362469,\n",
    " 0.6468653264938341,\n",
    " 0.6494370042945594,\n",
    " 0.6507124239353735,\n",
    " 0.6618095407706621,\n",
    " 0.6707715140854353,\n",
    " 0.6891929418684797,\n",
    " 0.682416897848681,\n",
    " 0.6835165398104296]"
   ]
  },
  {
   "cell_type": "code",
   "execution_count": 41,
   "metadata": {},
   "outputs": [],
   "source": [
    "best_classifiers = best_classifiers[1:]"
   ]
  },
  {
   "cell_type": "code",
   "execution_count": 42,
   "metadata": {},
   "outputs": [
    {
     "data": {
      "text/plain": [
       "50"
      ]
     },
     "execution_count": 42,
     "metadata": {},
     "output_type": "execute_result"
    }
   ],
   "source": [
    "len(best_classifiers)"
   ]
  },
  {
   "cell_type": "code",
   "execution_count": 56,
   "metadata": {},
   "outputs": [
    {
     "data": {
      "text/plain": [
       "['random_forest',\n",
       " 'random_forest',\n",
       " 'random_forest',\n",
       " 'random_forest',\n",
       " 'random_forest',\n",
       " 'random_forest',\n",
       " 'random_forest',\n",
       " 'random_forest',\n",
       " 'random_forest',\n",
       " 'random_forest',\n",
       " 'random_forest',\n",
       " 'random_forest',\n",
       " 'random_forest',\n",
       " 'random_forest',\n",
       " 'random_forest',\n",
       " 'random_forest',\n",
       " 'random_forest',\n",
       " 'random_forest',\n",
       " 'random_forest',\n",
       " 'random_forest',\n",
       " 'random_forest',\n",
       " 'random_forest',\n",
       " 'random_forest',\n",
       " 'random_forest',\n",
       " 'random_forest',\n",
       " 'random_forest',\n",
       " 'random_forest',\n",
       " 'random_forest',\n",
       " 'random_forest',\n",
       " 'random_forest',\n",
       " 'random_forest',\n",
       " 'random_forest',\n",
       " 'random_forest',\n",
       " 'random_forest',\n",
       " 'random_forest',\n",
       " 'random_forest',\n",
       " 'random_forest',\n",
       " 'random_forest',\n",
       " 'random_forest',\n",
       " 'naive_bayes',\n",
       " 'naive_bayes',\n",
       " 'naive_bayes',\n",
       " 'naive_bayes',\n",
       " 'naive_bayes',\n",
       " 'naive_bayes',\n",
       " 'naive_bayes',\n",
       " 'naive_bayes',\n",
       " 'random_forest',\n",
       " 'naive_bayes',\n",
       " 'naive_bayes']"
      ]
     },
     "execution_count": 56,
     "metadata": {},
     "output_type": "execute_result"
    }
   ],
   "source": [
    "best_classifiers"
   ]
  },
  {
   "cell_type": "code",
   "execution_count": 43,
   "metadata": {},
   "outputs": [],
   "source": [
    "import numpy as np\n",
    "import matplotlib.pyplot as plt\n",
    "import matplotlib\n",
    "#matplotlib.style.use('ggplot')"
   ]
  },
  {
   "cell_type": "code",
   "execution_count": null,
   "metadata": {},
   "outputs": [],
   "source": []
  },
  {
   "cell_type": "code",
   "execution_count": 44,
   "metadata": {},
   "outputs": [],
   "source": [
    "matplotlib.style.use('default')"
   ]
  },
  {
   "cell_type": "code",
   "execution_count": 45,
   "metadata": {},
   "outputs": [],
   "source": [
    "ticks = []\n",
    "for i in range(0, 50, 5):\n",
    "    ticks.append(round(cutoff[i], 2))"
   ]
  },
  {
   "cell_type": "code",
   "execution_count": 58,
   "metadata": {},
   "outputs": [
    {
     "data": {
      "image/png": "[encoded data removed]",
      "text/plain": [
       "<Figure size 1500x600 with 1 Axes>"
      ]
     },
     "metadata": {},
     "output_type": "display_data"
    }
   ],
   "source": [
    "fig,ax = plt.subplots(1,1,figsize = (15,6))\n",
    "ax.grid()\n",
    "ax.plot(np.arange(50), np.array(vees), color='cornflowerblue', marker = 'o')\n",
    "fig = ax.set(ylim = [0.5,0.8], xlim=(-1,50))\n",
    "fig = ax.set_xlabel('Cluster cutoff point')\n",
    "fig = ax.set_ylabel('VIC Score')\n",
    "fig = ax.set_xticks(np.arange(0,50,5))\n",
    "fig = ax.set_xticklabels(ticks)\n",
    "plt.savefig('VIC_score.eps', format = 'eps')"
   ]
  },
  {
   "cell_type": "code",
   "execution_count": 86,
   "metadata": {},
   "outputs": [
    {
     "data": {
      "text/html": [
       "<div>\n",
       "<style scoped>\n",
       "    .dataframe tbody tr th:only-of-type {\n",
       "        vertical-align: middle;\n",
       "    }\n",
       "\n",
       "    .dataframe tbody tr th {\n",
       "        vertical-align: top;\n",
       "    }\n",
       "\n",
       "    .dataframe thead th {\n",
       "        text-align: right;\n",
       "    }\n",
       "</style>\n",
       "<table border=\"1\" class=\"dataframe\">\n",
       "  <thead>\n",
       "    <tr style=\"text-align: right;\">\n",
       "      <th></th>\n",
       "      <th>0</th>\n",
       "      <th>1</th>\n",
       "      <th>2</th>\n",
       "      <th>3</th>\n",
       "      <th>4</th>\n",
       "      <th>5</th>\n",
       "      <th>6</th>\n",
       "    </tr>\n",
       "  </thead>\n",
       "  <tbody>\n",
       "    <tr>\n",
       "      <th>0</th>\n",
       "      <td>0.285319</td>\n",
       "      <td>0.5</td>\n",
       "      <td>0.5</td>\n",
       "      <td>0.499403</td>\n",
       "      <td>0.469219</td>\n",
       "      <td>0.391624</td>\n",
       "      <td>0.309865</td>\n",
       "    </tr>\n",
       "    <tr>\n",
       "      <th>1</th>\n",
       "      <td>0.284528</td>\n",
       "      <td>0.5</td>\n",
       "      <td>0.5</td>\n",
       "      <td>0.497436</td>\n",
       "      <td>0.471786</td>\n",
       "      <td>0.428479</td>\n",
       "      <td>0.312930</td>\n",
       "    </tr>\n",
       "    <tr>\n",
       "      <th>2</th>\n",
       "      <td>0.291926</td>\n",
       "      <td>0.5</td>\n",
       "      <td>0.5</td>\n",
       "      <td>0.498240</td>\n",
       "      <td>0.476778</td>\n",
       "      <td>0.408916</td>\n",
       "      <td>0.317069</td>\n",
       "    </tr>\n",
       "    <tr>\n",
       "      <th>3</th>\n",
       "      <td>0.296208</td>\n",
       "      <td>0.5</td>\n",
       "      <td>0.5</td>\n",
       "      <td>0.500973</td>\n",
       "      <td>0.477777</td>\n",
       "      <td>0.425242</td>\n",
       "      <td>0.321781</td>\n",
       "    </tr>\n",
       "    <tr>\n",
       "      <th>4</th>\n",
       "      <td>0.297916</td>\n",
       "      <td>0.5</td>\n",
       "      <td>0.5</td>\n",
       "      <td>0.502542</td>\n",
       "      <td>0.479045</td>\n",
       "      <td>0.460962</td>\n",
       "      <td>0.325240</td>\n",
       "    </tr>\n",
       "  </tbody>\n",
       "</table>\n",
       "</div>"
      ],
      "text/plain": [
       "          0    1    2         3         4         5         6\n",
       "0  0.285319  0.5  0.5  0.499403  0.469219  0.391624  0.309865\n",
       "1  0.284528  0.5  0.5  0.497436  0.471786  0.428479  0.312930\n",
       "2  0.291926  0.5  0.5  0.498240  0.476778  0.408916  0.317069\n",
       "3  0.296208  0.5  0.5  0.500973  0.477777  0.425242  0.321781\n",
       "4  0.297916  0.5  0.5  0.502542  0.479045  0.460962  0.325240"
      ]
     },
     "execution_count": 86,
     "metadata": {},
     "output_type": "execute_result"
    }
   ],
   "source": [
    "partition_scores1 = pd.read_csv('partition_scores1.csv', header = 0, index_col = 0)\n",
    "partition_scores1.head()"
   ]
  },
  {
   "cell_type": "code",
   "execution_count": 87,
   "metadata": {},
   "outputs": [
    {
     "data": {
      "text/plain": [
       "(25, 7)"
      ]
     },
     "execution_count": 87,
     "metadata": {},
     "output_type": "execute_result"
    }
   ],
   "source": [
    "partition_scores1.shape"
   ]
  },
  {
   "cell_type": "code",
   "execution_count": 88,
   "metadata": {},
   "outputs": [
    {
     "data": {
      "text/html": [
       "<div>\n",
       "<style scoped>\n",
       "    .dataframe tbody tr th:only-of-type {\n",
       "        vertical-align: middle;\n",
       "    }\n",
       "\n",
       "    .dataframe tbody tr th {\n",
       "        vertical-align: top;\n",
       "    }\n",
       "\n",
       "    .dataframe thead th {\n",
       "        text-align: right;\n",
       "    }\n",
       "</style>\n",
       "<table border=\"1\" class=\"dataframe\">\n",
       "  <thead>\n",
       "    <tr style=\"text-align: right;\">\n",
       "      <th></th>\n",
       "      <th>0</th>\n",
       "      <th>1</th>\n",
       "      <th>2</th>\n",
       "      <th>3</th>\n",
       "      <th>4</th>\n",
       "      <th>5</th>\n",
       "      <th>6</th>\n",
       "    </tr>\n",
       "  </thead>\n",
       "  <tbody>\n",
       "    <tr>\n",
       "      <th>0</th>\n",
       "      <td>0.590391</td>\n",
       "      <td>0.5</td>\n",
       "      <td>0.5</td>\n",
       "      <td>0.493579</td>\n",
       "      <td>0.504018</td>\n",
       "      <td>0.539859</td>\n",
       "      <td>0.586414</td>\n",
       "    </tr>\n",
       "    <tr>\n",
       "      <th>1</th>\n",
       "      <td>0.599171</td>\n",
       "      <td>0.5</td>\n",
       "      <td>0.5</td>\n",
       "      <td>0.491204</td>\n",
       "      <td>0.503754</td>\n",
       "      <td>0.534611</td>\n",
       "      <td>0.595118</td>\n",
       "    </tr>\n",
       "    <tr>\n",
       "      <th>2</th>\n",
       "      <td>0.608737</td>\n",
       "      <td>0.5</td>\n",
       "      <td>0.5</td>\n",
       "      <td>0.495839</td>\n",
       "      <td>0.513681</td>\n",
       "      <td>0.542591</td>\n",
       "      <td>0.596481</td>\n",
       "    </tr>\n",
       "    <tr>\n",
       "      <th>3</th>\n",
       "      <td>0.612515</td>\n",
       "      <td>0.5</td>\n",
       "      <td>0.5</td>\n",
       "      <td>0.491786</td>\n",
       "      <td>0.514199</td>\n",
       "      <td>0.514138</td>\n",
       "      <td>0.596528</td>\n",
       "    </tr>\n",
       "    <tr>\n",
       "      <th>4</th>\n",
       "      <td>0.618825</td>\n",
       "      <td>0.5</td>\n",
       "      <td>0.5</td>\n",
       "      <td>0.491953</td>\n",
       "      <td>0.522477</td>\n",
       "      <td>0.532539</td>\n",
       "      <td>0.598480</td>\n",
       "    </tr>\n",
       "  </tbody>\n",
       "</table>\n",
       "</div>"
      ],
      "text/plain": [
       "          0    1    2         3         4         5         6\n",
       "0  0.590391  0.5  0.5  0.493579  0.504018  0.539859  0.586414\n",
       "1  0.599171  0.5  0.5  0.491204  0.503754  0.534611  0.595118\n",
       "2  0.608737  0.5  0.5  0.495839  0.513681  0.542591  0.596481\n",
       "3  0.612515  0.5  0.5  0.491786  0.514199  0.514138  0.596528\n",
       "4  0.618825  0.5  0.5  0.491953  0.522477  0.532539  0.598480"
      ]
     },
     "execution_count": 88,
     "metadata": {},
     "output_type": "execute_result"
    }
   ],
   "source": [
    "partition_scores2 = pd.read_csv('partition_scores2.csv', header = 0, index_col = 0)\n",
    "partition_scores2.head()"
   ]
  },
  {
   "cell_type": "code",
   "execution_count": 89,
   "metadata": {},
   "outputs": [
    {
     "data": {
      "text/plain": [
       "(25, 7)"
      ]
     },
     "execution_count": 89,
     "metadata": {},
     "output_type": "execute_result"
    }
   ],
   "source": [
    "partition_scores2.shape"
   ]
  },
  {
   "cell_type": "code",
   "execution_count": 90,
   "metadata": {},
   "outputs": [
    {
     "data": {
      "text/html": [
       "<div>\n",
       "<style scoped>\n",
       "    .dataframe tbody tr th:only-of-type {\n",
       "        vertical-align: middle;\n",
       "    }\n",
       "\n",
       "    .dataframe tbody tr th {\n",
       "        vertical-align: top;\n",
       "    }\n",
       "\n",
       "    .dataframe thead th {\n",
       "        text-align: right;\n",
       "    }\n",
       "</style>\n",
       "<table border=\"1\" class=\"dataframe\">\n",
       "  <thead>\n",
       "    <tr style=\"text-align: right;\">\n",
       "      <th></th>\n",
       "      <th>0</th>\n",
       "      <th>1</th>\n",
       "      <th>2</th>\n",
       "      <th>3</th>\n",
       "      <th>4</th>\n",
       "      <th>5</th>\n",
       "      <th>6</th>\n",
       "    </tr>\n",
       "  </thead>\n",
       "  <tbody>\n",
       "    <tr>\n",
       "      <th>0</th>\n",
       "      <td>0.285319</td>\n",
       "      <td>0.5</td>\n",
       "      <td>0.5</td>\n",
       "      <td>0.499403</td>\n",
       "      <td>0.469219</td>\n",
       "      <td>0.391624</td>\n",
       "      <td>0.309865</td>\n",
       "    </tr>\n",
       "    <tr>\n",
       "      <th>1</th>\n",
       "      <td>0.284528</td>\n",
       "      <td>0.5</td>\n",
       "      <td>0.5</td>\n",
       "      <td>0.497436</td>\n",
       "      <td>0.471786</td>\n",
       "      <td>0.428479</td>\n",
       "      <td>0.312930</td>\n",
       "    </tr>\n",
       "    <tr>\n",
       "      <th>2</th>\n",
       "      <td>0.291926</td>\n",
       "      <td>0.5</td>\n",
       "      <td>0.5</td>\n",
       "      <td>0.498240</td>\n",
       "      <td>0.476778</td>\n",
       "      <td>0.408916</td>\n",
       "      <td>0.317069</td>\n",
       "    </tr>\n",
       "    <tr>\n",
       "      <th>3</th>\n",
       "      <td>0.296208</td>\n",
       "      <td>0.5</td>\n",
       "      <td>0.5</td>\n",
       "      <td>0.500973</td>\n",
       "      <td>0.477777</td>\n",
       "      <td>0.425242</td>\n",
       "      <td>0.321781</td>\n",
       "    </tr>\n",
       "    <tr>\n",
       "      <th>4</th>\n",
       "      <td>0.297916</td>\n",
       "      <td>0.5</td>\n",
       "      <td>0.5</td>\n",
       "      <td>0.502542</td>\n",
       "      <td>0.479045</td>\n",
       "      <td>0.460962</td>\n",
       "      <td>0.325240</td>\n",
       "    </tr>\n",
       "  </tbody>\n",
       "</table>\n",
       "</div>"
      ],
      "text/plain": [
       "          0    1    2         3         4         5         6\n",
       "0  0.285319  0.5  0.5  0.499403  0.469219  0.391624  0.309865\n",
       "1  0.284528  0.5  0.5  0.497436  0.471786  0.428479  0.312930\n",
       "2  0.291926  0.5  0.5  0.498240  0.476778  0.408916  0.317069\n",
       "3  0.296208  0.5  0.5  0.500973  0.477777  0.425242  0.321781\n",
       "4  0.297916  0.5  0.5  0.502542  0.479045  0.460962  0.325240"
      ]
     },
     "execution_count": 90,
     "metadata": {},
     "output_type": "execute_result"
    }
   ],
   "source": [
    "p_scores = pd.concat([partition_scores1, partition_scores2], axis = 0)\n",
    "p_scores.head()"
   ]
  },
  {
   "cell_type": "code",
   "execution_count": 48,
   "metadata": {},
   "outputs": [],
   "source": [
    "p_scores = PARTITION_scores"
   ]
  },
  {
   "cell_type": "code",
   "execution_count": 49,
   "metadata": {},
   "outputs": [
    {
     "data": {
      "text/plain": [
       "(50, 7)"
      ]
     },
     "execution_count": 49,
     "metadata": {},
     "output_type": "execute_result"
    }
   ],
   "source": [
    "p_scores.shape"
   ]
  },
  {
   "cell_type": "code",
   "execution_count": 57,
   "metadata": {},
   "outputs": [
    {
     "data": {
      "image/png": "[encoded data removed]",
      "text/plain": [
       "<Figure size 1500x600 with 1 Axes>"
      ]
     },
     "metadata": {},
     "output_type": "display_data"
    }
   ],
   "source": [
    "fig,ax = plt.subplots(1,1,figsize = (15,6))\n",
    "ax.grid()\n",
    "ax.plot(np.arange(50), p_scores.iloc[:, 0], color='red', marker = 'o')\n",
    "ax.plot(np.arange(50), p_scores.iloc[:, 6], color='darkorange', marker = 'o')\n",
    "ax.plot(np.arange(50), p_scores.iloc[:, 3], color='gold', marker = 'o')\n",
    "ax.plot(np.arange(50), p_scores.iloc[:, 5], color='limegreen', marker = 'o')\n",
    "ax.plot(np.arange(50), p_scores.iloc[:, 1], color='deepskyblue', marker = 'o')\n",
    "ax.plot(np.arange(50), p_scores.iloc[:, 2], color='blue', marker = 'o')\n",
    "ax.plot(np.arange(50), p_scores.iloc[:, 4], color='blueviolet', marker = 'o')\n",
    "\n",
    "fig = ax.set(ylim = [0.4,0.8], xlim=(-1,50))\n",
    "fig = ax.set_xlabel('Cluster cutoff point')\n",
    "fig = ax.set_ylabel('Average AUC')\n",
    "fig = ax.set_xticks(np.arange(0,50,5))\n",
    "fig = ax.set_xticklabels(ticks)\n",
    "plt.savefig('VIC_score.eps', format = 'eps')"
   ]
  },
  {
   "cell_type": "code",
   "execution_count": 55,
   "metadata": {},
   "outputs": [
    {
     "data": {
      "image/png": "[encoded data removed]",
      "text/plain": [
       "<Figure size 1500x600 with 1 Axes>"
      ]
     },
     "metadata": {},
     "output_type": "display_data"
    }
   ],
   "source": [
    "fig, axes = plt.subplots(nrows=1, ncols=1, figsize=(15, 6))\n",
    "labels = ['RandomForest', 'LDA', 'NaiveBayes', 'MLP', 'DecisionTree', 'ExtraTree', 'kNN']\n",
    "bplot1 = axes.boxplot(x = [p_scores.iloc[:, 0], p_scores.iloc[:, 6], p_scores.iloc[:, 3], p_scores.iloc[:, 5],\n",
    "                          p_scores.iloc[:, 1], p_scores.iloc[:, 2], p_scores.iloc[:, 4]],\n",
    "                         vert = True,  # vertical box alignment\n",
    "                         patch_artist = True, labels = labels)  # will be used to label x-ticks\n",
    "axes.grid()\n",
    "axes.set_title('Average AUC box-plot')\n",
    "\n",
    "\n",
    "colors = ['red', 'darkorange', 'gold', 'limegreen', 'deepskyblue', 'blue', 'blueviolet']\n",
    "for patch, color in zip(bplot1['boxes'], colors):\n",
    "    patch.set_facecolor(color)\n",
    "    \n",
    "for median in bplot1['medians']:\n",
    "    median.set(color='black', linewidth=1)\n",
    "        \n",
    "plt.savefig('Boxplot2.eps', format = 'eps')\n",
    "\n",
    "# 'random_forest', 'decision_tree', 'extra_tree', 'naive_bayes', 'knn', 'mlp', 'lda'"
   ]
  },
  {
   "cell_type": "markdown",
   "metadata": {},
   "source": [
    "## Three partitions"
   ]
  },
  {
   "cell_type": "code",
   "execution_count": 1,
   "metadata": {},
   "outputs": [],
   "source": [
    "import pandas as pd\n",
    "import numpy as np"
   ]
  },
  {
   "cell_type": "code",
   "execution_count": 2,
   "metadata": {},
   "outputs": [
    {
     "data": {
      "text/plain": [
       "(5241, 135)"
      ]
     },
     "execution_count": 2,
     "metadata": {},
     "output_type": "execute_result"
    }
   ],
   "source": [
    "df = pd.read_csv('fingerprint_complete.csv')\n",
    "df.shape"
   ]
  },
  {
   "cell_type": "code",
   "execution_count": 3,
   "metadata": {},
   "outputs": [
    {
     "data": {
      "text/html": [
       "<div>\n",
       "<style scoped>\n",
       "    .dataframe tbody tr th:only-of-type {\n",
       "        vertical-align: middle;\n",
       "    }\n",
       "\n",
       "    .dataframe tbody tr th {\n",
       "        vertical-align: top;\n",
       "    }\n",
       "\n",
       "    .dataframe thead th {\n",
       "        text-align: right;\n",
       "    }\n",
       "</style>\n",
       "<table border=\"1\" class=\"dataframe\">\n",
       "  <thead>\n",
       "    <tr style=\"text-align: right;\">\n",
       "      <th></th>\n",
       "      <th>fingerprint</th>\n",
       "      <th>minutia</th>\n",
       "      <th>D0</th>\n",
       "      <th>D1</th>\n",
       "      <th>D2</th>\n",
       "      <th>D3</th>\n",
       "      <th>D4</th>\n",
       "      <th>D5</th>\n",
       "      <th>D6</th>\n",
       "      <th>D7</th>\n",
       "      <th>...</th>\n",
       "      <th>a1_3</th>\n",
       "      <th>a1_4</th>\n",
       "      <th>a1_5</th>\n",
       "      <th>a1_6</th>\n",
       "      <th>a1_7</th>\n",
       "      <th>a1_8</th>\n",
       "      <th>a1_9</th>\n",
       "      <th>a1_10</th>\n",
       "      <th>a1_11</th>\n",
       "      <th>score_change</th>\n",
       "    </tr>\n",
       "  </thead>\n",
       "  <tbody>\n",
       "    <tr>\n",
       "      <th>0</th>\n",
       "      <td>U294X6I_1_1</td>\n",
       "      <td>v0</td>\n",
       "      <td>32.202484</td>\n",
       "      <td>44.418465</td>\n",
       "      <td>55.226805</td>\n",
       "      <td>64.350602</td>\n",
       "      <td>71.344236</td>\n",
       "      <td>71.867934</td>\n",
       "      <td>74.732858</td>\n",
       "      <td>77.058419</td>\n",
       "      <td>...</td>\n",
       "      <td>311.370401</td>\n",
       "      <td>298.239215</td>\n",
       "      <td>18.209226</td>\n",
       "      <td>291.507405</td>\n",
       "      <td>354.768825</td>\n",
       "      <td>347.433314</td>\n",
       "      <td>308.295373</td>\n",
       "      <td>314.802452</td>\n",
       "      <td>12.403425</td>\n",
       "      <td>0.260703</td>\n",
       "    </tr>\n",
       "    <tr>\n",
       "      <th>1</th>\n",
       "      <td>U294X6I_1_1</td>\n",
       "      <td>v1</td>\n",
       "      <td>17.464249</td>\n",
       "      <td>50.960769</td>\n",
       "      <td>56.462377</td>\n",
       "      <td>64.404969</td>\n",
       "      <td>86.127812</td>\n",
       "      <td>94.936821</td>\n",
       "      <td>96.083297</td>\n",
       "      <td>108.295891</td>\n",
       "      <td>...</td>\n",
       "      <td>134.841815</td>\n",
       "      <td>96.488501</td>\n",
       "      <td>57.405179</td>\n",
       "      <td>83.385944</td>\n",
       "      <td>76.763605</td>\n",
       "      <td>63.590697</td>\n",
       "      <td>108.392370</td>\n",
       "      <td>108.699473</td>\n",
       "      <td>120.699074</td>\n",
       "      <td>0.270683</td>\n",
       "    </tr>\n",
       "    <tr>\n",
       "      <th>2</th>\n",
       "      <td>U294X6I_1_1</td>\n",
       "      <td>v2</td>\n",
       "      <td>33.105891</td>\n",
       "      <td>53.535035</td>\n",
       "      <td>62.968246</td>\n",
       "      <td>64.404969</td>\n",
       "      <td>66.910388</td>\n",
       "      <td>72.173402</td>\n",
       "      <td>75.286121</td>\n",
       "      <td>76.941536</td>\n",
       "      <td>...</td>\n",
       "      <td>310.841815</td>\n",
       "      <td>356.462322</td>\n",
       "      <td>80.972496</td>\n",
       "      <td>37.389312</td>\n",
       "      <td>104.897271</td>\n",
       "      <td>84.640407</td>\n",
       "      <td>36.398705</td>\n",
       "      <td>15.565837</td>\n",
       "      <td>67.537678</td>\n",
       "      <td>0.270088</td>\n",
       "    </tr>\n",
       "    <tr>\n",
       "      <th>3</th>\n",
       "      <td>U294X6I_1_1</td>\n",
       "      <td>v3</td>\n",
       "      <td>28.653098</td>\n",
       "      <td>31.256999</td>\n",
       "      <td>56.639209</td>\n",
       "      <td>57.140179</td>\n",
       "      <td>61.911227</td>\n",
       "      <td>62.968246</td>\n",
       "      <td>68.949257</td>\n",
       "      <td>76.941536</td>\n",
       "      <td>...</td>\n",
       "      <td>39.144278</td>\n",
       "      <td>130.877530</td>\n",
       "      <td>14.680555</td>\n",
       "      <td>322.513870</td>\n",
       "      <td>279.897271</td>\n",
       "      <td>24.552951</td>\n",
       "      <td>335.211025</td>\n",
       "      <td>302.710593</td>\n",
       "      <td>15.524473</td>\n",
       "      <td>-0.288866</td>\n",
       "    </tr>\n",
       "    <tr>\n",
       "      <th>4</th>\n",
       "      <td>U294X6I_1_1</td>\n",
       "      <td>v4</td>\n",
       "      <td>61.911227</td>\n",
       "      <td>80.049984</td>\n",
       "      <td>85.510233</td>\n",
       "      <td>88.543774</td>\n",
       "      <td>91.547802</td>\n",
       "      <td>106.018866</td>\n",
       "      <td>116.498927</td>\n",
       "      <td>130.188325</td>\n",
       "      <td>...</td>\n",
       "      <td>314.565051</td>\n",
       "      <td>339.271077</td>\n",
       "      <td>334.080924</td>\n",
       "      <td>344.888658</td>\n",
       "      <td>308.009694</td>\n",
       "      <td>284.669083</td>\n",
       "      <td>341.972627</td>\n",
       "      <td>315.956066</td>\n",
       "      <td>297.144772</td>\n",
       "      <td>0.052454</td>\n",
       "    </tr>\n",
       "  </tbody>\n",
       "</table>\n",
       "<p>5 rows × 135 columns</p>\n",
       "</div>"
      ],
      "text/plain": [
       "   fingerprint minutia         D0         D1         D2         D3         D4  \\\n",
       "0  U294X6I_1_1      v0  32.202484  44.418465  55.226805  64.350602  71.344236   \n",
       "1  U294X6I_1_1      v1  17.464249  50.960769  56.462377  64.404969  86.127812   \n",
       "2  U294X6I_1_1      v2  33.105891  53.535035  62.968246  64.404969  66.910388   \n",
       "3  U294X6I_1_1      v3  28.653098  31.256999  56.639209  57.140179  61.911227   \n",
       "4  U294X6I_1_1      v4  61.911227  80.049984  85.510233  88.543774  91.547802   \n",
       "\n",
       "           D5          D6          D7  ...        a1_3        a1_4  \\\n",
       "0   71.867934   74.732858   77.058419  ...  311.370401  298.239215   \n",
       "1   94.936821   96.083297  108.295891  ...  134.841815   96.488501   \n",
       "2   72.173402   75.286121   76.941536  ...  310.841815  356.462322   \n",
       "3   62.968246   68.949257   76.941536  ...   39.144278  130.877530   \n",
       "4  106.018866  116.498927  130.188325  ...  314.565051  339.271077   \n",
       "\n",
       "         a1_5        a1_6        a1_7        a1_8        a1_9       a1_10  \\\n",
       "0   18.209226  291.507405  354.768825  347.433314  308.295373  314.802452   \n",
       "1   57.405179   83.385944   76.763605   63.590697  108.392370  108.699473   \n",
       "2   80.972496   37.389312  104.897271   84.640407   36.398705   15.565837   \n",
       "3   14.680555  322.513870  279.897271   24.552951  335.211025  302.710593   \n",
       "4  334.080924  344.888658  308.009694  284.669083  341.972627  315.956066   \n",
       "\n",
       "        a1_11  score_change  \n",
       "0   12.403425      0.260703  \n",
       "1  120.699074      0.270683  \n",
       "2   67.537678      0.270088  \n",
       "3   15.524473     -0.288866  \n",
       "4  297.144772      0.052454  \n",
       "\n",
       "[5 rows x 135 columns]"
      ]
     },
     "execution_count": 3,
     "metadata": {},
     "output_type": "execute_result"
    }
   ],
   "source": [
    "df.head()"
   ]
  },
  {
   "cell_type": "code",
   "execution_count": 4,
   "metadata": {},
   "outputs": [
    {
     "data": {
      "text/plain": [
       "False"
      ]
     },
     "execution_count": 4,
     "metadata": {},
     "output_type": "execute_result"
    }
   ],
   "source": [
    "df.isnull().values.any()"
   ]
  },
  {
   "cell_type": "code",
   "execution_count": 5,
   "metadata": {},
   "outputs": [
    {
     "data": {
      "text/plain": [
       "(5241, 133)"
      ]
     },
     "execution_count": 5,
     "metadata": {},
     "output_type": "execute_result"
    }
   ],
   "source": [
    "data = df.iloc[:, 2:]\n",
    "data.shape"
   ]
  },
  {
   "cell_type": "code",
   "execution_count": 6,
   "metadata": {},
   "outputs": [
    {
     "data": {
      "text/html": [
       "<div>\n",
       "<style scoped>\n",
       "    .dataframe tbody tr th:only-of-type {\n",
       "        vertical-align: middle;\n",
       "    }\n",
       "\n",
       "    .dataframe tbody tr th {\n",
       "        vertical-align: top;\n",
       "    }\n",
       "\n",
       "    .dataframe thead th {\n",
       "        text-align: right;\n",
       "    }\n",
       "</style>\n",
       "<table border=\"1\" class=\"dataframe\">\n",
       "  <thead>\n",
       "    <tr style=\"text-align: right;\">\n",
       "      <th></th>\n",
       "      <th>D0</th>\n",
       "      <th>D1</th>\n",
       "      <th>D2</th>\n",
       "      <th>D3</th>\n",
       "      <th>D4</th>\n",
       "      <th>D5</th>\n",
       "      <th>D6</th>\n",
       "      <th>D7</th>\n",
       "      <th>D8</th>\n",
       "      <th>D9</th>\n",
       "      <th>...</th>\n",
       "      <th>a1_3</th>\n",
       "      <th>a1_4</th>\n",
       "      <th>a1_5</th>\n",
       "      <th>a1_6</th>\n",
       "      <th>a1_7</th>\n",
       "      <th>a1_8</th>\n",
       "      <th>a1_9</th>\n",
       "      <th>a1_10</th>\n",
       "      <th>a1_11</th>\n",
       "      <th>score_change</th>\n",
       "    </tr>\n",
       "  </thead>\n",
       "  <tbody>\n",
       "    <tr>\n",
       "      <th>0</th>\n",
       "      <td>32.202484</td>\n",
       "      <td>44.418465</td>\n",
       "      <td>55.226805</td>\n",
       "      <td>64.350602</td>\n",
       "      <td>71.344236</td>\n",
       "      <td>71.867934</td>\n",
       "      <td>74.732858</td>\n",
       "      <td>77.058419</td>\n",
       "      <td>90.255194</td>\n",
       "      <td>98.493655</td>\n",
       "      <td>...</td>\n",
       "      <td>311.370401</td>\n",
       "      <td>298.239215</td>\n",
       "      <td>18.209226</td>\n",
       "      <td>291.507405</td>\n",
       "      <td>354.768825</td>\n",
       "      <td>347.433314</td>\n",
       "      <td>308.295373</td>\n",
       "      <td>314.802452</td>\n",
       "      <td>12.403425</td>\n",
       "      <td>0.260703</td>\n",
       "    </tr>\n",
       "    <tr>\n",
       "      <th>1</th>\n",
       "      <td>17.464249</td>\n",
       "      <td>50.960769</td>\n",
       "      <td>56.462377</td>\n",
       "      <td>64.404969</td>\n",
       "      <td>86.127812</td>\n",
       "      <td>94.936821</td>\n",
       "      <td>96.083297</td>\n",
       "      <td>108.295891</td>\n",
       "      <td>123.664870</td>\n",
       "      <td>123.891081</td>\n",
       "      <td>...</td>\n",
       "      <td>134.841815</td>\n",
       "      <td>96.488501</td>\n",
       "      <td>57.405179</td>\n",
       "      <td>83.385944</td>\n",
       "      <td>76.763605</td>\n",
       "      <td>63.590697</td>\n",
       "      <td>108.392370</td>\n",
       "      <td>108.699473</td>\n",
       "      <td>120.699074</td>\n",
       "      <td>0.270683</td>\n",
       "    </tr>\n",
       "    <tr>\n",
       "      <th>2</th>\n",
       "      <td>33.105891</td>\n",
       "      <td>53.535035</td>\n",
       "      <td>62.968246</td>\n",
       "      <td>64.404969</td>\n",
       "      <td>66.910388</td>\n",
       "      <td>72.173402</td>\n",
       "      <td>75.286121</td>\n",
       "      <td>76.941536</td>\n",
       "      <td>82.734515</td>\n",
       "      <td>92.195445</td>\n",
       "      <td>...</td>\n",
       "      <td>310.841815</td>\n",
       "      <td>356.462322</td>\n",
       "      <td>80.972496</td>\n",
       "      <td>37.389312</td>\n",
       "      <td>104.897271</td>\n",
       "      <td>84.640407</td>\n",
       "      <td>36.398705</td>\n",
       "      <td>15.565837</td>\n",
       "      <td>67.537678</td>\n",
       "      <td>0.270088</td>\n",
       "    </tr>\n",
       "    <tr>\n",
       "      <th>3</th>\n",
       "      <td>28.653098</td>\n",
       "      <td>31.256999</td>\n",
       "      <td>56.639209</td>\n",
       "      <td>57.140179</td>\n",
       "      <td>61.911227</td>\n",
       "      <td>62.968246</td>\n",
       "      <td>68.949257</td>\n",
       "      <td>76.941536</td>\n",
       "      <td>82.807005</td>\n",
       "      <td>84.593144</td>\n",
       "      <td>...</td>\n",
       "      <td>39.144278</td>\n",
       "      <td>130.877530</td>\n",
       "      <td>14.680555</td>\n",
       "      <td>322.513870</td>\n",
       "      <td>279.897271</td>\n",
       "      <td>24.552951</td>\n",
       "      <td>335.211025</td>\n",
       "      <td>302.710593</td>\n",
       "      <td>15.524473</td>\n",
       "      <td>-0.288866</td>\n",
       "    </tr>\n",
       "    <tr>\n",
       "      <th>4</th>\n",
       "      <td>61.911227</td>\n",
       "      <td>80.049984</td>\n",
       "      <td>85.510233</td>\n",
       "      <td>88.543774</td>\n",
       "      <td>91.547802</td>\n",
       "      <td>106.018866</td>\n",
       "      <td>116.498927</td>\n",
       "      <td>130.188325</td>\n",
       "      <td>133.869339</td>\n",
       "      <td>134.647688</td>\n",
       "      <td>...</td>\n",
       "      <td>314.565051</td>\n",
       "      <td>339.271077</td>\n",
       "      <td>334.080924</td>\n",
       "      <td>344.888658</td>\n",
       "      <td>308.009694</td>\n",
       "      <td>284.669083</td>\n",
       "      <td>341.972627</td>\n",
       "      <td>315.956066</td>\n",
       "      <td>297.144772</td>\n",
       "      <td>0.052454</td>\n",
       "    </tr>\n",
       "  </tbody>\n",
       "</table>\n",
       "<p>5 rows × 133 columns</p>\n",
       "</div>"
      ],
      "text/plain": [
       "          D0         D1         D2         D3         D4          D5  \\\n",
       "0  32.202484  44.418465  55.226805  64.350602  71.344236   71.867934   \n",
       "1  17.464249  50.960769  56.462377  64.404969  86.127812   94.936821   \n",
       "2  33.105891  53.535035  62.968246  64.404969  66.910388   72.173402   \n",
       "3  28.653098  31.256999  56.639209  57.140179  61.911227   62.968246   \n",
       "4  61.911227  80.049984  85.510233  88.543774  91.547802  106.018866   \n",
       "\n",
       "           D6          D7          D8          D9  ...        a1_3  \\\n",
       "0   74.732858   77.058419   90.255194   98.493655  ...  311.370401   \n",
       "1   96.083297  108.295891  123.664870  123.891081  ...  134.841815   \n",
       "2   75.286121   76.941536   82.734515   92.195445  ...  310.841815   \n",
       "3   68.949257   76.941536   82.807005   84.593144  ...   39.144278   \n",
       "4  116.498927  130.188325  133.869339  134.647688  ...  314.565051   \n",
       "\n",
       "         a1_4        a1_5        a1_6        a1_7        a1_8        a1_9  \\\n",
       "0  298.239215   18.209226  291.507405  354.768825  347.433314  308.295373   \n",
       "1   96.488501   57.405179   83.385944   76.763605   63.590697  108.392370   \n",
       "2  356.462322   80.972496   37.389312  104.897271   84.640407   36.398705   \n",
       "3  130.877530   14.680555  322.513870  279.897271   24.552951  335.211025   \n",
       "4  339.271077  334.080924  344.888658  308.009694  284.669083  341.972627   \n",
       "\n",
       "        a1_10       a1_11  score_change  \n",
       "0  314.802452   12.403425      0.260703  \n",
       "1  108.699473  120.699074      0.270683  \n",
       "2   15.565837   67.537678      0.270088  \n",
       "3  302.710593   15.524473     -0.288866  \n",
       "4  315.956066  297.144772      0.052454  \n",
       "\n",
       "[5 rows x 133 columns]"
      ]
     },
     "execution_count": 6,
     "metadata": {},
     "output_type": "execute_result"
    }
   ],
   "source": [
    "data.head()"
   ]
  },
  {
   "cell_type": "code",
   "execution_count": 7,
   "metadata": {},
   "outputs": [
    {
     "data": {
      "text/html": [
       "<div>\n",
       "<style scoped>\n",
       "    .dataframe tbody tr th:only-of-type {\n",
       "        vertical-align: middle;\n",
       "    }\n",
       "\n",
       "    .dataframe tbody tr th {\n",
       "        vertical-align: top;\n",
       "    }\n",
       "\n",
       "    .dataframe thead th {\n",
       "        text-align: right;\n",
       "    }\n",
       "</style>\n",
       "<table border=\"1\" class=\"dataframe\">\n",
       "  <thead>\n",
       "    <tr style=\"text-align: right;\">\n",
       "      <th></th>\n",
       "      <th>D0</th>\n",
       "      <th>D1</th>\n",
       "      <th>D2</th>\n",
       "      <th>D3</th>\n",
       "      <th>D4</th>\n",
       "      <th>D5</th>\n",
       "      <th>D6</th>\n",
       "      <th>D7</th>\n",
       "      <th>D8</th>\n",
       "      <th>D9</th>\n",
       "      <th>...</th>\n",
       "      <th>a1_3</th>\n",
       "      <th>a1_4</th>\n",
       "      <th>a1_5</th>\n",
       "      <th>a1_6</th>\n",
       "      <th>a1_7</th>\n",
       "      <th>a1_8</th>\n",
       "      <th>a1_9</th>\n",
       "      <th>a1_10</th>\n",
       "      <th>a1_11</th>\n",
       "      <th>score_change</th>\n",
       "    </tr>\n",
       "  </thead>\n",
       "  <tbody>\n",
       "    <tr>\n",
       "      <th>1354</th>\n",
       "      <td>25.238859</td>\n",
       "      <td>29.732137</td>\n",
       "      <td>30.805844</td>\n",
       "      <td>37.643060</td>\n",
       "      <td>45.221676</td>\n",
       "      <td>46.400431</td>\n",
       "      <td>48.373546</td>\n",
       "      <td>53.600373</td>\n",
       "      <td>55.901699</td>\n",
       "      <td>62.936476</td>\n",
       "      <td>...</td>\n",
       "      <td>141.990823</td>\n",
       "      <td>53.034286</td>\n",
       "      <td>357.883139</td>\n",
       "      <td>27.874984</td>\n",
       "      <td>71.656108</td>\n",
       "      <td>188.434949</td>\n",
       "      <td>232.571259</td>\n",
       "      <td>1.560131</td>\n",
       "      <td>211.905942</td>\n",
       "      <td>-9.940694</td>\n",
       "    </tr>\n",
       "    <tr>\n",
       "      <th>2238</th>\n",
       "      <td>33.526109</td>\n",
       "      <td>34.928498</td>\n",
       "      <td>40.024992</td>\n",
       "      <td>51.244512</td>\n",
       "      <td>52.839379</td>\n",
       "      <td>58.940648</td>\n",
       "      <td>66.490601</td>\n",
       "      <td>79.611557</td>\n",
       "      <td>89.050547</td>\n",
       "      <td>118.903322</td>\n",
       "      <td>...</td>\n",
       "      <td>262.020526</td>\n",
       "      <td>4.475889</td>\n",
       "      <td>79.743563</td>\n",
       "      <td>167.154942</td>\n",
       "      <td>212.308016</td>\n",
       "      <td>40.449548</td>\n",
       "      <td>226.869813</td>\n",
       "      <td>182.042287</td>\n",
       "      <td>185.582201</td>\n",
       "      <td>-7.646963</td>\n",
       "    </tr>\n",
       "    <tr>\n",
       "      <th>1523</th>\n",
       "      <td>23.769729</td>\n",
       "      <td>35.510562</td>\n",
       "      <td>39.623226</td>\n",
       "      <td>43.863424</td>\n",
       "      <td>50.039984</td>\n",
       "      <td>65.122961</td>\n",
       "      <td>73.348483</td>\n",
       "      <td>75.186435</td>\n",
       "      <td>104.281293</td>\n",
       "      <td>112.086528</td>\n",
       "      <td>...</td>\n",
       "      <td>31.152390</td>\n",
       "      <td>350.290610</td>\n",
       "      <td>261.521453</td>\n",
       "      <td>232.133643</td>\n",
       "      <td>64.148581</td>\n",
       "      <td>183.010614</td>\n",
       "      <td>182.988503</td>\n",
       "      <td>182.042287</td>\n",
       "      <td>185.582201</td>\n",
       "      <td>-3.281286</td>\n",
       "    </tr>\n",
       "    <tr>\n",
       "      <th>1524</th>\n",
       "      <td>28.231188</td>\n",
       "      <td>36.796739</td>\n",
       "      <td>39.623226</td>\n",
       "      <td>41.725292</td>\n",
       "      <td>68.796802</td>\n",
       "      <td>70.213959</td>\n",
       "      <td>79.259069</td>\n",
       "      <td>114.756263</td>\n",
       "      <td>104.281293</td>\n",
       "      <td>112.086528</td>\n",
       "      <td>...</td>\n",
       "      <td>18.971022</td>\n",
       "      <td>30.464933</td>\n",
       "      <td>8.727398</td>\n",
       "      <td>33.524111</td>\n",
       "      <td>50.417038</td>\n",
       "      <td>183.010614</td>\n",
       "      <td>182.988503</td>\n",
       "      <td>182.042287</td>\n",
       "      <td>185.582201</td>\n",
       "      <td>-1.579191</td>\n",
       "    </tr>\n",
       "    <tr>\n",
       "      <th>2969</th>\n",
       "      <td>15.620499</td>\n",
       "      <td>45.607017</td>\n",
       "      <td>46.097722</td>\n",
       "      <td>53.009433</td>\n",
       "      <td>73.824115</td>\n",
       "      <td>74.330344</td>\n",
       "      <td>106.367288</td>\n",
       "      <td>111.772090</td>\n",
       "      <td>120.880106</td>\n",
       "      <td>134.331679</td>\n",
       "      <td>...</td>\n",
       "      <td>81.211027</td>\n",
       "      <td>51.829347</td>\n",
       "      <td>106.143587</td>\n",
       "      <td>107.803344</td>\n",
       "      <td>83.309932</td>\n",
       "      <td>100.663957</td>\n",
       "      <td>93.297354</td>\n",
       "      <td>81.462322</td>\n",
       "      <td>110.618440</td>\n",
       "      <td>-1.561907</td>\n",
       "    </tr>\n",
       "  </tbody>\n",
       "</table>\n",
       "<p>5 rows × 133 columns</p>\n",
       "</div>"
      ],
      "text/plain": [
       "             D0         D1         D2         D3         D4         D5  \\\n",
       "1354  25.238859  29.732137  30.805844  37.643060  45.221676  46.400431   \n",
       "2238  33.526109  34.928498  40.024992  51.244512  52.839379  58.940648   \n",
       "1523  23.769729  35.510562  39.623226  43.863424  50.039984  65.122961   \n",
       "1524  28.231188  36.796739  39.623226  41.725292  68.796802  70.213959   \n",
       "2969  15.620499  45.607017  46.097722  53.009433  73.824115  74.330344   \n",
       "\n",
       "              D6          D7          D8          D9  ...        a1_3  \\\n",
       "1354   48.373546   53.600373   55.901699   62.936476  ...  141.990823   \n",
       "2238   66.490601   79.611557   89.050547  118.903322  ...  262.020526   \n",
       "1523   73.348483   75.186435  104.281293  112.086528  ...   31.152390   \n",
       "1524   79.259069  114.756263  104.281293  112.086528  ...   18.971022   \n",
       "2969  106.367288  111.772090  120.880106  134.331679  ...   81.211027   \n",
       "\n",
       "            a1_4        a1_5        a1_6        a1_7        a1_8        a1_9  \\\n",
       "1354   53.034286  357.883139   27.874984   71.656108  188.434949  232.571259   \n",
       "2238    4.475889   79.743563  167.154942  212.308016   40.449548  226.869813   \n",
       "1523  350.290610  261.521453  232.133643   64.148581  183.010614  182.988503   \n",
       "1524   30.464933    8.727398   33.524111   50.417038  183.010614  182.988503   \n",
       "2969   51.829347  106.143587  107.803344   83.309932  100.663957   93.297354   \n",
       "\n",
       "           a1_10       a1_11  score_change  \n",
       "1354    1.560131  211.905942     -9.940694  \n",
       "2238  182.042287  185.582201     -7.646963  \n",
       "1523  182.042287  185.582201     -3.281286  \n",
       "1524  182.042287  185.582201     -1.579191  \n",
       "2969   81.462322  110.618440     -1.561907  \n",
       "\n",
       "[5 rows x 133 columns]"
      ]
     },
     "execution_count": 7,
     "metadata": {},
     "output_type": "execute_result"
    }
   ],
   "source": [
    "data = data.sort_values(by = ['score_change'])\n",
    "data.head()"
   ]
  },
  {
   "cell_type": "code",
   "execution_count": 8,
   "metadata": {},
   "outputs": [
    {
     "data": {
      "text/plain": [
       "(5241,)"
      ]
     },
     "execution_count": 8,
     "metadata": {},
     "output_type": "execute_result"
    }
   ],
   "source": [
    "scores = data.iloc[:, -1]\n",
    "scores.shape"
   ]
  },
  {
   "cell_type": "code",
   "execution_count": 9,
   "metadata": {},
   "outputs": [
    {
     "data": {
      "text/plain": [
       "1354   -9.940694\n",
       "2238   -7.646963\n",
       "1523   -3.281286\n",
       "1524   -1.579191\n",
       "2969   -1.561907\n",
       "Name: score_change, dtype: float64"
      ]
     },
     "execution_count": 9,
     "metadata": {},
     "output_type": "execute_result"
    }
   ],
   "source": [
    "scores.head()"
   ]
  },
  {
   "cell_type": "code",
   "execution_count": 10,
   "metadata": {},
   "outputs": [],
   "source": [
    "import seaborn as sns"
   ]
  },
  {
   "cell_type": "code",
   "execution_count": 11,
   "metadata": {},
   "outputs": [
    {
     "data": {
      "text/plain": [
       "<matplotlib.axes._subplots.AxesSubplot at 0x11f6080d0>"
      ]
     },
     "execution_count": 11,
     "metadata": {},
     "output_type": "execute_result"
    },
    {
     "data": {
      "image/png": "[encoded data removed]",
      "text/plain": [
       "<Figure size 432x288 with 1 Axes>"
      ]
     },
     "metadata": {
      "needs_background": "light"
     },
     "output_type": "display_data"
    }
   ],
   "source": [
    "sns.distplot(scores.values, kde = False)"
   ]
  },
  {
   "cell_type": "code",
   "execution_count": 12,
   "metadata": {},
   "outputs": [],
   "source": [
    "import random"
   ]
  },
  {
   "cell_type": "code",
   "execution_count": 13,
   "metadata": {},
   "outputs": [],
   "source": [
    "random.seed(1)"
   ]
  },
  {
   "cell_type": "code",
   "execution_count": 14,
   "metadata": {},
   "outputs": [
    {
     "data": {
      "text/plain": [
       "array([[-0.17,  0.08],\n",
       "       [-0.05,  0.03],\n",
       "       [-0.1 ,  0.04],\n",
       "       [-0.07,  0.08],\n",
       "       [-0.18,  0.  ],\n",
       "       [-0.03,  0.04],\n",
       "       [-0.05,  0.  ],\n",
       "       [-0.11,  0.07],\n",
       "       [-0.15,  0.09],\n",
       "       [-0.02,  0.  ],\n",
       "       [-0.19,  0.05],\n",
       "       [-0.01,  0.04],\n",
       "       [-0.16,  0.04],\n",
       "       [-0.19,  0.02],\n",
       "       [-0.11,  0.05],\n",
       "       [-0.15,  0.02],\n",
       "       [-0.16,  0.05],\n",
       "       [-0.14,  0.  ],\n",
       "       [-0.03,  0.06],\n",
       "       [-0.07,  0.02],\n",
       "       [-0.  ,  0.09],\n",
       "       [-0.18,  0.03],\n",
       "       [-0.06,  0.07],\n",
       "       [-0.01,  0.04],\n",
       "       [-0.03,  0.07],\n",
       "       [-0.14,  0.06],\n",
       "       [-0.02,  0.08],\n",
       "       [-0.1 ,  0.06],\n",
       "       [-0.19,  0.02],\n",
       "       [-0.04,  0.04],\n",
       "       [-0.17,  0.05],\n",
       "       [-0.06,  0.07],\n",
       "       [-0.13,  0.04],\n",
       "       [-0.1 ,  0.08],\n",
       "       [-0.1 ,  0.04],\n",
       "       [-0.1 ,  0.  ],\n",
       "       [-0.19,  0.07],\n",
       "       [-0.  ,  0.06],\n",
       "       [-0.12,  0.02],\n",
       "       [-0.1 ,  0.1 ],\n",
       "       [-0.05,  0.05],\n",
       "       [-0.03,  0.02],\n",
       "       [-0.1 ,  0.1 ],\n",
       "       [-0.08,  0.05],\n",
       "       [-0.15,  0.05],\n",
       "       [-0.01,  0.  ],\n",
       "       [-0.04,  0.08],\n",
       "       [-0.02,  0.07],\n",
       "       [-0.04,  0.05],\n",
       "       [-0.09,  0.04]])"
      ]
     },
     "execution_count": 14,
     "metadata": {},
     "output_type": "execute_result"
    }
   ],
   "source": [
    "cutoff3 = np.zeros([50, 2])\n",
    "for i in range(50):\n",
    "    cutoff3[i, 0] = round(random.uniform(-0.2, 0), 2)\n",
    "    cutoff3[i, 1] = round(random.uniform(0, 0.1), 2)\n",
    "    \n",
    "cutoff3"
   ]
  },
  {
   "cell_type": "code",
   "execution_count": 63,
   "metadata": {},
   "outputs": [],
   "source": [
    "cutoff3pd = pd.DataFrame(cutoff3)"
   ]
  },
  {
   "cell_type": "code",
   "execution_count": 64,
   "metadata": {},
   "outputs": [
    {
     "data": {
      "text/html": [
       "<div>\n",
       "<style scoped>\n",
       "    .dataframe tbody tr th:only-of-type {\n",
       "        vertical-align: middle;\n",
       "    }\n",
       "\n",
       "    .dataframe tbody tr th {\n",
       "        vertical-align: top;\n",
       "    }\n",
       "\n",
       "    .dataframe thead th {\n",
       "        text-align: right;\n",
       "    }\n",
       "</style>\n",
       "<table border=\"1\" class=\"dataframe\">\n",
       "  <thead>\n",
       "    <tr style=\"text-align: right;\">\n",
       "      <th></th>\n",
       "      <th>0</th>\n",
       "      <th>1</th>\n",
       "    </tr>\n",
       "  </thead>\n",
       "  <tbody>\n",
       "    <tr>\n",
       "      <th>0</th>\n",
       "      <td>-0.17</td>\n",
       "      <td>0.08</td>\n",
       "    </tr>\n",
       "    <tr>\n",
       "      <th>1</th>\n",
       "      <td>-0.05</td>\n",
       "      <td>0.03</td>\n",
       "    </tr>\n",
       "    <tr>\n",
       "      <th>2</th>\n",
       "      <td>-0.10</td>\n",
       "      <td>0.04</td>\n",
       "    </tr>\n",
       "    <tr>\n",
       "      <th>3</th>\n",
       "      <td>-0.07</td>\n",
       "      <td>0.08</td>\n",
       "    </tr>\n",
       "    <tr>\n",
       "      <th>4</th>\n",
       "      <td>-0.18</td>\n",
       "      <td>0.00</td>\n",
       "    </tr>\n",
       "  </tbody>\n",
       "</table>\n",
       "</div>"
      ],
      "text/plain": [
       "      0     1\n",
       "0 -0.17  0.08\n",
       "1 -0.05  0.03\n",
       "2 -0.10  0.04\n",
       "3 -0.07  0.08\n",
       "4 -0.18  0.00"
      ]
     },
     "execution_count": 64,
     "metadata": {},
     "output_type": "execute_result"
    }
   ],
   "source": [
    "cutoff3pd.head()"
   ]
  },
  {
   "cell_type": "code",
   "execution_count": 65,
   "metadata": {},
   "outputs": [],
   "source": [
    "cutoff3pd.to_csv('cutoff3.csv')"
   ]
  },
  {
   "cell_type": "code",
   "execution_count": 15,
   "metadata": {},
   "outputs": [
    {
     "data": {
      "text/plain": [
       "(5241, 50)"
      ]
     },
     "execution_count": 15,
     "metadata": {},
     "output_type": "execute_result"
    }
   ],
   "source": [
    "partitions3 = np.zeros([scores.shape[0], 50])\n",
    "for i in range(50):\n",
    "    for j in range(scores.shape[0]):\n",
    "        if  scores.iloc[j] < cutoff3[i, 0]:\n",
    "            partitions3[j, i] = 0\n",
    "        elif scores.iloc[j] > cutoff3[i, 1]:\n",
    "            partitions3[j, i] = 2\n",
    "        else:\n",
    "            partitions3[j, i] = 1\n",
    "\n",
    "\n",
    "partitions3 = pd.DataFrame(partitions3)\n",
    "partitions3.shape"
   ]
  },
  {
   "cell_type": "code",
   "execution_count": 16,
   "metadata": {},
   "outputs": [],
   "source": [
    "partitions3.to_csv('partitions3.csv')"
   ]
  },
  {
   "cell_type": "code",
   "execution_count": 60,
   "metadata": {},
   "outputs": [
    {
     "data": {
      "text/plain": [
       "(50, 3)"
      ]
     },
     "execution_count": 60,
     "metadata": {},
     "output_type": "execute_result"
    }
   ],
   "source": [
    "partitions_size3 = np.zeros([50, 3])\n",
    "                            \n",
    "for i in range(50):\n",
    "    partitions_size3[i, 0] = (partitions3.iloc[:, i] == 0).sum()\n",
    "    partitions_size3[i, 1] = (partitions3.iloc[:, i] == 1).sum()\n",
    "    partitions_size3[i, 2] = (partitions3.iloc[:, i] == 2).sum()\n",
    "\n",
    "partitions_size3 = pd.DataFrame(partitions_size3)\n",
    "partitions_size3.shape"
   ]
  },
  {
   "cell_type": "code",
   "execution_count": 61,
   "metadata": {},
   "outputs": [
    {
     "data": {
      "text/html": [
       "<div>\n",
       "<style scoped>\n",
       "    .dataframe tbody tr th:only-of-type {\n",
       "        vertical-align: middle;\n",
       "    }\n",
       "\n",
       "    .dataframe tbody tr th {\n",
       "        vertical-align: top;\n",
       "    }\n",
       "\n",
       "    .dataframe thead th {\n",
       "        text-align: right;\n",
       "    }\n",
       "</style>\n",
       "<table border=\"1\" class=\"dataframe\">\n",
       "  <thead>\n",
       "    <tr style=\"text-align: right;\">\n",
       "      <th></th>\n",
       "      <th>0</th>\n",
       "      <th>1</th>\n",
       "      <th>2</th>\n",
       "    </tr>\n",
       "  </thead>\n",
       "  <tbody>\n",
       "    <tr>\n",
       "      <th>0</th>\n",
       "      <td>1377.0</td>\n",
       "      <td>2829.0</td>\n",
       "      <td>1035.0</td>\n",
       "    </tr>\n",
       "    <tr>\n",
       "      <th>1</th>\n",
       "      <td>2602.0</td>\n",
       "      <td>1086.0</td>\n",
       "      <td>1553.0</td>\n",
       "    </tr>\n",
       "    <tr>\n",
       "      <th>2</th>\n",
       "      <td>2055.0</td>\n",
       "      <td>1743.0</td>\n",
       "      <td>1443.0</td>\n",
       "    </tr>\n",
       "    <tr>\n",
       "      <th>3</th>\n",
       "      <td>2386.0</td>\n",
       "      <td>1820.0</td>\n",
       "      <td>1035.0</td>\n",
       "    </tr>\n",
       "    <tr>\n",
       "      <th>4</th>\n",
       "      <td>1301.0</td>\n",
       "      <td>1949.0</td>\n",
       "      <td>1991.0</td>\n",
       "    </tr>\n",
       "    <tr>\n",
       "      <th>5</th>\n",
       "      <td>2854.0</td>\n",
       "      <td>944.0</td>\n",
       "      <td>1443.0</td>\n",
       "    </tr>\n",
       "    <tr>\n",
       "      <th>6</th>\n",
       "      <td>2602.0</td>\n",
       "      <td>648.0</td>\n",
       "      <td>1991.0</td>\n",
       "    </tr>\n",
       "    <tr>\n",
       "      <th>7</th>\n",
       "      <td>1944.0</td>\n",
       "      <td>2181.0</td>\n",
       "      <td>1116.0</td>\n",
       "    </tr>\n",
       "    <tr>\n",
       "      <th>8</th>\n",
       "      <td>1548.0</td>\n",
       "      <td>2730.0</td>\n",
       "      <td>963.0</td>\n",
       "    </tr>\n",
       "    <tr>\n",
       "      <th>9</th>\n",
       "      <td>2965.0</td>\n",
       "      <td>285.0</td>\n",
       "      <td>1991.0</td>\n",
       "    </tr>\n",
       "    <tr>\n",
       "      <th>10</th>\n",
       "      <td>1238.0</td>\n",
       "      <td>2689.0</td>\n",
       "      <td>1314.0</td>\n",
       "    </tr>\n",
       "    <tr>\n",
       "      <th>11</th>\n",
       "      <td>3104.0</td>\n",
       "      <td>694.0</td>\n",
       "      <td>1443.0</td>\n",
       "    </tr>\n",
       "    <tr>\n",
       "      <th>12</th>\n",
       "      <td>1446.0</td>\n",
       "      <td>2352.0</td>\n",
       "      <td>1443.0</td>\n",
       "    </tr>\n",
       "    <tr>\n",
       "      <th>13</th>\n",
       "      <td>1238.0</td>\n",
       "      <td>2312.0</td>\n",
       "      <td>1691.0</td>\n",
       "    </tr>\n",
       "    <tr>\n",
       "      <th>14</th>\n",
       "      <td>1944.0</td>\n",
       "      <td>1983.0</td>\n",
       "      <td>1314.0</td>\n",
       "    </tr>\n",
       "    <tr>\n",
       "      <th>15</th>\n",
       "      <td>1548.0</td>\n",
       "      <td>2002.0</td>\n",
       "      <td>1691.0</td>\n",
       "    </tr>\n",
       "    <tr>\n",
       "      <th>16</th>\n",
       "      <td>1446.0</td>\n",
       "      <td>2481.0</td>\n",
       "      <td>1314.0</td>\n",
       "    </tr>\n",
       "    <tr>\n",
       "      <th>17</th>\n",
       "      <td>1641.0</td>\n",
       "      <td>1609.0</td>\n",
       "      <td>1991.0</td>\n",
       "    </tr>\n",
       "    <tr>\n",
       "      <th>18</th>\n",
       "      <td>2854.0</td>\n",
       "      <td>1189.0</td>\n",
       "      <td>1198.0</td>\n",
       "    </tr>\n",
       "    <tr>\n",
       "      <th>19</th>\n",
       "      <td>2386.0</td>\n",
       "      <td>1164.0</td>\n",
       "      <td>1691.0</td>\n",
       "    </tr>\n",
       "    <tr>\n",
       "      <th>20</th>\n",
       "      <td>3224.0</td>\n",
       "      <td>1054.0</td>\n",
       "      <td>963.0</td>\n",
       "    </tr>\n",
       "    <tr>\n",
       "      <th>21</th>\n",
       "      <td>1301.0</td>\n",
       "      <td>2387.0</td>\n",
       "      <td>1553.0</td>\n",
       "    </tr>\n",
       "    <tr>\n",
       "      <th>22</th>\n",
       "      <td>2496.0</td>\n",
       "      <td>1629.0</td>\n",
       "      <td>1116.0</td>\n",
       "    </tr>\n",
       "    <tr>\n",
       "      <th>23</th>\n",
       "      <td>3104.0</td>\n",
       "      <td>694.0</td>\n",
       "      <td>1443.0</td>\n",
       "    </tr>\n",
       "    <tr>\n",
       "      <th>24</th>\n",
       "      <td>2854.0</td>\n",
       "      <td>1271.0</td>\n",
       "      <td>1116.0</td>\n",
       "    </tr>\n",
       "    <tr>\n",
       "      <th>25</th>\n",
       "      <td>1641.0</td>\n",
       "      <td>2402.0</td>\n",
       "      <td>1198.0</td>\n",
       "    </tr>\n",
       "    <tr>\n",
       "      <th>26</th>\n",
       "      <td>2965.0</td>\n",
       "      <td>1241.0</td>\n",
       "      <td>1035.0</td>\n",
       "    </tr>\n",
       "    <tr>\n",
       "      <th>27</th>\n",
       "      <td>2055.0</td>\n",
       "      <td>1988.0</td>\n",
       "      <td>1198.0</td>\n",
       "    </tr>\n",
       "    <tr>\n",
       "      <th>28</th>\n",
       "      <td>1238.0</td>\n",
       "      <td>2312.0</td>\n",
       "      <td>1691.0</td>\n",
       "    </tr>\n",
       "    <tr>\n",
       "      <th>29</th>\n",
       "      <td>2730.0</td>\n",
       "      <td>1068.0</td>\n",
       "      <td>1443.0</td>\n",
       "    </tr>\n",
       "    <tr>\n",
       "      <th>30</th>\n",
       "      <td>1377.0</td>\n",
       "      <td>2550.0</td>\n",
       "      <td>1314.0</td>\n",
       "    </tr>\n",
       "    <tr>\n",
       "      <th>31</th>\n",
       "      <td>2496.0</td>\n",
       "      <td>1629.0</td>\n",
       "      <td>1116.0</td>\n",
       "    </tr>\n",
       "    <tr>\n",
       "      <th>32</th>\n",
       "      <td>1732.0</td>\n",
       "      <td>2066.0</td>\n",
       "      <td>1443.0</td>\n",
       "    </tr>\n",
       "    <tr>\n",
       "      <th>33</th>\n",
       "      <td>2055.0</td>\n",
       "      <td>2151.0</td>\n",
       "      <td>1035.0</td>\n",
       "    </tr>\n",
       "    <tr>\n",
       "      <th>34</th>\n",
       "      <td>2055.0</td>\n",
       "      <td>1743.0</td>\n",
       "      <td>1443.0</td>\n",
       "    </tr>\n",
       "    <tr>\n",
       "      <th>35</th>\n",
       "      <td>2055.0</td>\n",
       "      <td>1195.0</td>\n",
       "      <td>1991.0</td>\n",
       "    </tr>\n",
       "    <tr>\n",
       "      <th>36</th>\n",
       "      <td>1238.0</td>\n",
       "      <td>2887.0</td>\n",
       "      <td>1116.0</td>\n",
       "    </tr>\n",
       "    <tr>\n",
       "      <th>37</th>\n",
       "      <td>3224.0</td>\n",
       "      <td>819.0</td>\n",
       "      <td>1198.0</td>\n",
       "    </tr>\n",
       "    <tr>\n",
       "      <th>38</th>\n",
       "      <td>1844.0</td>\n",
       "      <td>1706.0</td>\n",
       "      <td>1691.0</td>\n",
       "    </tr>\n",
       "    <tr>\n",
       "      <th>39</th>\n",
       "      <td>2055.0</td>\n",
       "      <td>2285.0</td>\n",
       "      <td>901.0</td>\n",
       "    </tr>\n",
       "    <tr>\n",
       "      <th>40</th>\n",
       "      <td>2602.0</td>\n",
       "      <td>1325.0</td>\n",
       "      <td>1314.0</td>\n",
       "    </tr>\n",
       "    <tr>\n",
       "      <th>41</th>\n",
       "      <td>2854.0</td>\n",
       "      <td>696.0</td>\n",
       "      <td>1691.0</td>\n",
       "    </tr>\n",
       "    <tr>\n",
       "      <th>42</th>\n",
       "      <td>2055.0</td>\n",
       "      <td>2285.0</td>\n",
       "      <td>901.0</td>\n",
       "    </tr>\n",
       "    <tr>\n",
       "      <th>43</th>\n",
       "      <td>2270.0</td>\n",
       "      <td>1657.0</td>\n",
       "      <td>1314.0</td>\n",
       "    </tr>\n",
       "    <tr>\n",
       "      <th>44</th>\n",
       "      <td>1548.0</td>\n",
       "      <td>2379.0</td>\n",
       "      <td>1314.0</td>\n",
       "    </tr>\n",
       "    <tr>\n",
       "      <th>45</th>\n",
       "      <td>3104.0</td>\n",
       "      <td>146.0</td>\n",
       "      <td>1991.0</td>\n",
       "    </tr>\n",
       "    <tr>\n",
       "      <th>46</th>\n",
       "      <td>2730.0</td>\n",
       "      <td>1476.0</td>\n",
       "      <td>1035.0</td>\n",
       "    </tr>\n",
       "    <tr>\n",
       "      <th>47</th>\n",
       "      <td>2965.0</td>\n",
       "      <td>1160.0</td>\n",
       "      <td>1116.0</td>\n",
       "    </tr>\n",
       "    <tr>\n",
       "      <th>48</th>\n",
       "      <td>2730.0</td>\n",
       "      <td>1197.0</td>\n",
       "      <td>1314.0</td>\n",
       "    </tr>\n",
       "    <tr>\n",
       "      <th>49</th>\n",
       "      <td>2158.0</td>\n",
       "      <td>1640.0</td>\n",
       "      <td>1443.0</td>\n",
       "    </tr>\n",
       "  </tbody>\n",
       "</table>\n",
       "</div>"
      ],
      "text/plain": [
       "         0       1       2\n",
       "0   1377.0  2829.0  1035.0\n",
       "1   2602.0  1086.0  1553.0\n",
       "2   2055.0  1743.0  1443.0\n",
       "3   2386.0  1820.0  1035.0\n",
       "4   1301.0  1949.0  1991.0\n",
       "5   2854.0   944.0  1443.0\n",
       "6   2602.0   648.0  1991.0\n",
       "7   1944.0  2181.0  1116.0\n",
       "8   1548.0  2730.0   963.0\n",
       "9   2965.0   285.0  1991.0\n",
       "10  1238.0  2689.0  1314.0\n",
       "11  3104.0   694.0  1443.0\n",
       "12  1446.0  2352.0  1443.0\n",
       "13  1238.0  2312.0  1691.0\n",
       "14  1944.0  1983.0  1314.0\n",
       "15  1548.0  2002.0  1691.0\n",
       "16  1446.0  2481.0  1314.0\n",
       "17  1641.0  1609.0  1991.0\n",
       "18  2854.0  1189.0  1198.0\n",
       "19  2386.0  1164.0  1691.0\n",
       "20  3224.0  1054.0   963.0\n",
       "21  1301.0  2387.0  1553.0\n",
       "22  2496.0  1629.0  1116.0\n",
       "23  3104.0   694.0  1443.0\n",
       "24  2854.0  1271.0  1116.0\n",
       "25  1641.0  2402.0  1198.0\n",
       "26  2965.0  1241.0  1035.0\n",
       "27  2055.0  1988.0  1198.0\n",
       "28  1238.0  2312.0  1691.0\n",
       "29  2730.0  1068.0  1443.0\n",
       "30  1377.0  2550.0  1314.0\n",
       "31  2496.0  1629.0  1116.0\n",
       "32  1732.0  2066.0  1443.0\n",
       "33  2055.0  2151.0  1035.0\n",
       "34  2055.0  1743.0  1443.0\n",
       "35  2055.0  1195.0  1991.0\n",
       "36  1238.0  2887.0  1116.0\n",
       "37  3224.0   819.0  1198.0\n",
       "38  1844.0  1706.0  1691.0\n",
       "39  2055.0  2285.0   901.0\n",
       "40  2602.0  1325.0  1314.0\n",
       "41  2854.0   696.0  1691.0\n",
       "42  2055.0  2285.0   901.0\n",
       "43  2270.0  1657.0  1314.0\n",
       "44  1548.0  2379.0  1314.0\n",
       "45  3104.0   146.0  1991.0\n",
       "46  2730.0  1476.0  1035.0\n",
       "47  2965.0  1160.0  1116.0\n",
       "48  2730.0  1197.0  1314.0\n",
       "49  2158.0  1640.0  1443.0"
      ]
     },
     "execution_count": 61,
     "metadata": {},
     "output_type": "execute_result"
    }
   ],
   "source": [
    "partitions_size3.head(50)"
   ]
  },
  {
   "cell_type": "code",
   "execution_count": 62,
   "metadata": {},
   "outputs": [],
   "source": [
    "partitions_size3.to_csv('partitions3_size.csv')"
   ]
  },
  {
   "cell_type": "code",
   "execution_count": 19,
   "metadata": {},
   "outputs": [
    {
     "data": {
      "text/plain": [
       "(5241, 132)"
      ]
     },
     "execution_count": 19,
     "metadata": {},
     "output_type": "execute_result"
    }
   ],
   "source": [
    "X = data.iloc[:, :-1]\n",
    "X.shape"
   ]
  },
  {
   "cell_type": "code",
   "execution_count": 20,
   "metadata": {},
   "outputs": [
    {
     "data": {
      "text/html": [
       "<div>\n",
       "<style scoped>\n",
       "    .dataframe tbody tr th:only-of-type {\n",
       "        vertical-align: middle;\n",
       "    }\n",
       "\n",
       "    .dataframe tbody tr th {\n",
       "        vertical-align: top;\n",
       "    }\n",
       "\n",
       "    .dataframe thead th {\n",
       "        text-align: right;\n",
       "    }\n",
       "</style>\n",
       "<table border=\"1\" class=\"dataframe\">\n",
       "  <thead>\n",
       "    <tr style=\"text-align: right;\">\n",
       "      <th></th>\n",
       "      <th>D0</th>\n",
       "      <th>D1</th>\n",
       "      <th>D2</th>\n",
       "      <th>D3</th>\n",
       "      <th>D4</th>\n",
       "      <th>D5</th>\n",
       "      <th>D6</th>\n",
       "      <th>D7</th>\n",
       "      <th>D8</th>\n",
       "      <th>D9</th>\n",
       "      <th>...</th>\n",
       "      <th>a1_2</th>\n",
       "      <th>a1_3</th>\n",
       "      <th>a1_4</th>\n",
       "      <th>a1_5</th>\n",
       "      <th>a1_6</th>\n",
       "      <th>a1_7</th>\n",
       "      <th>a1_8</th>\n",
       "      <th>a1_9</th>\n",
       "      <th>a1_10</th>\n",
       "      <th>a1_11</th>\n",
       "    </tr>\n",
       "  </thead>\n",
       "  <tbody>\n",
       "    <tr>\n",
       "      <th>1354</th>\n",
       "      <td>25.238859</td>\n",
       "      <td>29.732137</td>\n",
       "      <td>30.805844</td>\n",
       "      <td>37.643060</td>\n",
       "      <td>45.221676</td>\n",
       "      <td>46.400431</td>\n",
       "      <td>48.373546</td>\n",
       "      <td>53.600373</td>\n",
       "      <td>55.901699</td>\n",
       "      <td>62.936476</td>\n",
       "      <td>...</td>\n",
       "      <td>340.753887</td>\n",
       "      <td>141.990823</td>\n",
       "      <td>53.034286</td>\n",
       "      <td>357.883139</td>\n",
       "      <td>27.874984</td>\n",
       "      <td>71.656108</td>\n",
       "      <td>188.434949</td>\n",
       "      <td>232.571259</td>\n",
       "      <td>1.560131</td>\n",
       "      <td>211.905942</td>\n",
       "    </tr>\n",
       "    <tr>\n",
       "      <th>2238</th>\n",
       "      <td>33.526109</td>\n",
       "      <td>34.928498</td>\n",
       "      <td>40.024992</td>\n",
       "      <td>51.244512</td>\n",
       "      <td>52.839379</td>\n",
       "      <td>58.940648</td>\n",
       "      <td>66.490601</td>\n",
       "      <td>79.611557</td>\n",
       "      <td>89.050547</td>\n",
       "      <td>118.903322</td>\n",
       "      <td>...</td>\n",
       "      <td>77.994617</td>\n",
       "      <td>262.020526</td>\n",
       "      <td>4.475889</td>\n",
       "      <td>79.743563</td>\n",
       "      <td>167.154942</td>\n",
       "      <td>212.308016</td>\n",
       "      <td>40.449548</td>\n",
       "      <td>226.869813</td>\n",
       "      <td>182.042287</td>\n",
       "      <td>185.582201</td>\n",
       "    </tr>\n",
       "    <tr>\n",
       "      <th>1523</th>\n",
       "      <td>23.769729</td>\n",
       "      <td>35.510562</td>\n",
       "      <td>39.623226</td>\n",
       "      <td>43.863424</td>\n",
       "      <td>50.039984</td>\n",
       "      <td>65.122961</td>\n",
       "      <td>73.348483</td>\n",
       "      <td>75.186435</td>\n",
       "      <td>104.281293</td>\n",
       "      <td>112.086528</td>\n",
       "      <td>...</td>\n",
       "      <td>247.824489</td>\n",
       "      <td>31.152390</td>\n",
       "      <td>350.290610</td>\n",
       "      <td>261.521453</td>\n",
       "      <td>232.133643</td>\n",
       "      <td>64.148581</td>\n",
       "      <td>183.010614</td>\n",
       "      <td>182.988503</td>\n",
       "      <td>182.042287</td>\n",
       "      <td>185.582201</td>\n",
       "    </tr>\n",
       "    <tr>\n",
       "      <th>1524</th>\n",
       "      <td>28.231188</td>\n",
       "      <td>36.796739</td>\n",
       "      <td>39.623226</td>\n",
       "      <td>41.725292</td>\n",
       "      <td>68.796802</td>\n",
       "      <td>70.213959</td>\n",
       "      <td>79.259069</td>\n",
       "      <td>114.756263</td>\n",
       "      <td>104.281293</td>\n",
       "      <td>112.086528</td>\n",
       "      <td>...</td>\n",
       "      <td>52.824489</td>\n",
       "      <td>18.971022</td>\n",
       "      <td>30.464933</td>\n",
       "      <td>8.727398</td>\n",
       "      <td>33.524111</td>\n",
       "      <td>50.417038</td>\n",
       "      <td>183.010614</td>\n",
       "      <td>182.988503</td>\n",
       "      <td>182.042287</td>\n",
       "      <td>185.582201</td>\n",
       "    </tr>\n",
       "    <tr>\n",
       "      <th>2969</th>\n",
       "      <td>15.620499</td>\n",
       "      <td>45.607017</td>\n",
       "      <td>46.097722</td>\n",
       "      <td>53.009433</td>\n",
       "      <td>73.824115</td>\n",
       "      <td>74.330344</td>\n",
       "      <td>106.367288</td>\n",
       "      <td>111.772090</td>\n",
       "      <td>120.880106</td>\n",
       "      <td>134.331679</td>\n",
       "      <td>...</td>\n",
       "      <td>67.601295</td>\n",
       "      <td>81.211027</td>\n",
       "      <td>51.829347</td>\n",
       "      <td>106.143587</td>\n",
       "      <td>107.803344</td>\n",
       "      <td>83.309932</td>\n",
       "      <td>100.663957</td>\n",
       "      <td>93.297354</td>\n",
       "      <td>81.462322</td>\n",
       "      <td>110.618440</td>\n",
       "    </tr>\n",
       "  </tbody>\n",
       "</table>\n",
       "<p>5 rows × 132 columns</p>\n",
       "</div>"
      ],
      "text/plain": [
       "             D0         D1         D2         D3         D4         D5  \\\n",
       "1354  25.238859  29.732137  30.805844  37.643060  45.221676  46.400431   \n",
       "2238  33.526109  34.928498  40.024992  51.244512  52.839379  58.940648   \n",
       "1523  23.769729  35.510562  39.623226  43.863424  50.039984  65.122961   \n",
       "1524  28.231188  36.796739  39.623226  41.725292  68.796802  70.213959   \n",
       "2969  15.620499  45.607017  46.097722  53.009433  73.824115  74.330344   \n",
       "\n",
       "              D6          D7          D8          D9  ...        a1_2  \\\n",
       "1354   48.373546   53.600373   55.901699   62.936476  ...  340.753887   \n",
       "2238   66.490601   79.611557   89.050547  118.903322  ...   77.994617   \n",
       "1523   73.348483   75.186435  104.281293  112.086528  ...  247.824489   \n",
       "1524   79.259069  114.756263  104.281293  112.086528  ...   52.824489   \n",
       "2969  106.367288  111.772090  120.880106  134.331679  ...   67.601295   \n",
       "\n",
       "            a1_3        a1_4        a1_5        a1_6        a1_7        a1_8  \\\n",
       "1354  141.990823   53.034286  357.883139   27.874984   71.656108  188.434949   \n",
       "2238  262.020526    4.475889   79.743563  167.154942  212.308016   40.449548   \n",
       "1523   31.152390  350.290610  261.521453  232.133643   64.148581  183.010614   \n",
       "1524   18.971022   30.464933    8.727398   33.524111   50.417038  183.010614   \n",
       "2969   81.211027   51.829347  106.143587  107.803344   83.309932  100.663957   \n",
       "\n",
       "            a1_9       a1_10       a1_11  \n",
       "1354  232.571259    1.560131  211.905942  \n",
       "2238  226.869813  182.042287  185.582201  \n",
       "1523  182.988503  182.042287  185.582201  \n",
       "1524  182.988503  182.042287  185.582201  \n",
       "2969   93.297354   81.462322  110.618440  \n",
       "\n",
       "[5 rows x 132 columns]"
      ]
     },
     "execution_count": 20,
     "metadata": {},
     "output_type": "execute_result"
    }
   ],
   "source": [
    "X.head()"
   ]
  },
  {
   "cell_type": "code",
   "execution_count": 28,
   "metadata": {},
   "outputs": [],
   "source": [
    "from sklearn.model_selection import KFold\n",
    "from sklearn.metrics import roc_auc_score"
   ]
  },
  {
   "cell_type": "code",
   "execution_count": 22,
   "metadata": {},
   "outputs": [],
   "source": [
    "from tqdm import tqdm"
   ]
  },
  {
   "cell_type": "code",
   "execution_count": 23,
   "metadata": {},
   "outputs": [],
   "source": [
    "from sklearn.ensemble import RandomForestClassifier\n",
    "from sklearn.tree import DecisionTreeClassifier\n",
    "from sklearn.naive_bayes import GaussianNB\n",
    "from sklearn.tree import ExtraTreeClassifier\n",
    "from sklearn.neighbors import KNeighborsClassifier\n",
    "from sklearn.neural_network import MLPClassifier\n",
    "#from sklearn.linear_model import RidgeClassifier\n",
    "from sklearn.discriminant_analysis import LinearDiscriminantAnalysis"
   ]
  },
  {
   "cell_type": "code",
   "execution_count": 24,
   "metadata": {},
   "outputs": [],
   "source": [
    "classifiers = ['random_forest', 'decision_tree', 'extra_tree', 'naive_bayes', 'knn', 'mlp', 'lda']"
   ]
  },
  {
   "cell_type": "code",
   "execution_count": 25,
   "metadata": {},
   "outputs": [],
   "source": [
    "PARTITION_scores3 = np.zeros([50, len(classifiers)])\n",
    "best_classifiers3 = []\n",
    "vees3 = []"
   ]
  },
  {
   "cell_type": "code",
   "execution_count": 30,
   "metadata": {},
   "outputs": [],
   "source": [
    "def train_and_test(classifier, X_train,y_train,X_test,y_test):\n",
    "    \"\"\"\n",
    "    Train a model specified by \"classifier\" using X_train and y_train and\n",
    "    test it using X_test and, y_test. Returns the AUC obtained with X_test and\n",
    "    y_test.\n",
    "    \"\"\"\n",
    "\n",
    "    if classifier == 'random_forest':\n",
    "        clf = RandomForestClassifier()\n",
    "    elif classifier == 'decision_tree':\n",
    "        clf = DecisionTreeClassifier()\n",
    "    elif classifier == 'naive_bayes':\n",
    "        clf = GaussianNB()\n",
    "    elif classifier == 'extra_tree':\n",
    "        clf = ExtraTreeClassifier()\n",
    "    elif classifier == 'knn':\n",
    "        clf = KNeighborsClassifier()\n",
    "    elif classifier == 'mlp':\n",
    "        clf = MLPClassifier()\n",
    "    elif classifier == 'ridge':\n",
    "        clf = RidgeClassifier()\n",
    "    elif classifier == 'lda':\n",
    "        clf = LinearDiscriminantAnalysis()\n",
    "    else:\n",
    "        print(\"I can\\'t use classifier {}\".format(classifier))\n",
    "        exit()\n",
    "\n",
    "    clf.fit(X_train,y_train)\n",
    "    this_auc = roc_auc_score(y_test, clf.predict_proba(X_test), multi_class = 'ovo')\n",
    "    #y_hat = clf.predict_proba(X_test)\n",
    "    #fpr,tpr,thr = roc_curve(y_test,y_hat)\n",
    "    #this_auc = auc(fpr,tpr)\n",
    "\n",
    "    return this_auc"
   ]
  },
  {
   "cell_type": "code",
   "execution_count": 32,
   "metadata": {},
   "outputs": [
    {
     "name": "stderr",
     "output_type": "stream",
     "text": [
      "\r",
      "  0%|          | 0/7 [00:00<?, ?it/s]"
     ]
    },
    {
     "name": "stdout",
     "output_type": "stream",
     "text": [
      "Working on partition  1\n"
     ]
    },
    {
     "name": "stderr",
     "output_type": "stream",
     "text": [
      "100%|██████████| 7/7 [01:02<00:00,  8.94s/it]\n",
      "  0%|          | 0/7 [00:00<?, ?it/s]"
     ]
    },
    {
     "name": "stdout",
     "output_type": "stream",
     "text": [
      "Best classifier:  random_forest\n",
      "V value:  0.6745974026219038\n",
      "----------------------------------------------------------------\n",
      "Working on partition  2\n"
     ]
    },
    {
     "name": "stderr",
     "output_type": "stream",
     "text": [
      "100%|██████████| 7/7 [01:06<00:00,  9.50s/it]\n",
      "  0%|          | 0/7 [00:00<?, ?it/s]"
     ]
    },
    {
     "name": "stdout",
     "output_type": "stream",
     "text": [
      "Best classifier:  random_forest\n",
      "V value:  0.646777986884409\n",
      "----------------------------------------------------------------\n",
      "Working on partition  3\n"
     ]
    },
    {
     "name": "stderr",
     "output_type": "stream",
     "text": [
      "100%|██████████| 7/7 [01:04<00:00,  9.19s/it]\n",
      "  0%|          | 0/7 [00:00<?, ?it/s]"
     ]
    },
    {
     "name": "stdout",
     "output_type": "stream",
     "text": [
      "Best classifier:  random_forest\n",
      "V value:  0.6646707139782773\n",
      "----------------------------------------------------------------\n",
      "Working on partition  4\n"
     ]
    },
    {
     "name": "stderr",
     "output_type": "stream",
     "text": [
      "100%|██████████| 7/7 [01:04<00:00,  9.25s/it]\n",
      "  0%|          | 0/7 [00:00<?, ?it/s]"
     ]
    },
    {
     "name": "stdout",
     "output_type": "stream",
     "text": [
      "Best classifier:  random_forest\n",
      "V value:  0.6631790246219029\n",
      "----------------------------------------------------------------\n",
      "Working on partition  5\n"
     ]
    },
    {
     "name": "stderr",
     "output_type": "stream",
     "text": [
      "100%|██████████| 7/7 [01:01<00:00,  8.76s/it]\n",
      "  0%|          | 0/7 [00:00<?, ?it/s]"
     ]
    },
    {
     "name": "stdout",
     "output_type": "stream",
     "text": [
      "Best classifier:  random_forest\n",
      "V value:  0.6620818276000711\n",
      "----------------------------------------------------------------\n",
      "Working on partition  6\n"
     ]
    },
    {
     "name": "stderr",
     "output_type": "stream",
     "text": [
      "100%|██████████| 7/7 [01:05<00:00,  9.42s/it]\n",
      "  0%|          | 0/7 [00:00<?, ?it/s]"
     ]
    },
    {
     "name": "stdout",
     "output_type": "stream",
     "text": [
      "Best classifier:  random_forest\n",
      "V value:  0.6557030922150465\n",
      "----------------------------------------------------------------\n",
      "Working on partition  7\n"
     ]
    },
    {
     "name": "stderr",
     "output_type": "stream",
     "text": [
      "100%|██████████| 7/7 [01:06<00:00,  9.53s/it]\n",
      "  0%|          | 0/7 [00:00<?, ?it/s]"
     ]
    },
    {
     "name": "stdout",
     "output_type": "stream",
     "text": [
      "Best classifier:  random_forest\n",
      "V value:  0.6432430609764052\n",
      "----------------------------------------------------------------\n",
      "Working on partition  8\n"
     ]
    },
    {
     "name": "stderr",
     "output_type": "stream",
     "text": [
      "100%|██████████| 7/7 [00:59<00:00,  8.45s/it]\n",
      "  0%|          | 0/7 [00:00<?, ?it/s]"
     ]
    },
    {
     "name": "stdout",
     "output_type": "stream",
     "text": [
      "Best classifier:  random_forest\n",
      "V value:  0.6664499684145793\n",
      "----------------------------------------------------------------\n",
      "Working on partition  9\n"
     ]
    },
    {
     "name": "stderr",
     "output_type": "stream",
     "text": [
      "100%|██████████| 7/7 [01:00<00:00,  8.61s/it]\n",
      "  0%|          | 0/7 [00:00<?, ?it/s]"
     ]
    },
    {
     "name": "stdout",
     "output_type": "stream",
     "text": [
      "Best classifier:  random_forest\n",
      "V value:  0.669487513095275\n",
      "----------------------------------------------------------------\n",
      "Working on partition  10\n"
     ]
    },
    {
     "name": "stderr",
     "output_type": "stream",
     "text": [
      "100%|██████████| 7/7 [01:10<00:00, 10.13s/it]\n",
      "  0%|          | 0/7 [00:00<?, ?it/s]"
     ]
    },
    {
     "name": "stdout",
     "output_type": "stream",
     "text": [
      "Best classifier:  random_forest\n",
      "V value:  0.6373687212023198\n",
      "----------------------------------------------------------------\n",
      "Working on partition  11\n"
     ]
    },
    {
     "name": "stderr",
     "output_type": "stream",
     "text": [
      "100%|██████████| 7/7 [01:04<00:00,  9.18s/it]\n",
      "  0%|          | 0/7 [00:00<?, ?it/s]"
     ]
    },
    {
     "name": "stdout",
     "output_type": "stream",
     "text": [
      "Best classifier:  random_forest\n",
      "V value:  0.6794308955152271\n",
      "----------------------------------------------------------------\n",
      "Working on partition  12\n"
     ]
    },
    {
     "name": "stderr",
     "output_type": "stream",
     "text": [
      "100%|██████████| 7/7 [01:05<00:00,  9.42s/it]\n",
      "  0%|          | 0/7 [00:00<?, ?it/s]"
     ]
    },
    {
     "name": "stdout",
     "output_type": "stream",
     "text": [
      "Best classifier:  random_forest\n",
      "V value:  0.6443827258333358\n",
      "----------------------------------------------------------------\n",
      "Working on partition  13\n"
     ]
    },
    {
     "name": "stderr",
     "output_type": "stream",
     "text": [
      "100%|██████████| 7/7 [01:01<00:00,  8.81s/it]\n",
      "  0%|          | 0/7 [00:00<?, ?it/s]"
     ]
    },
    {
     "name": "stdout",
     "output_type": "stream",
     "text": [
      "Best classifier:  random_forest\n",
      "V value:  0.6670895574167665\n",
      "----------------------------------------------------------------\n",
      "Working on partition  14\n"
     ]
    },
    {
     "name": "stderr",
     "output_type": "stream",
     "text": [
      "100%|██████████| 7/7 [01:02<00:00,  8.86s/it]\n",
      "  0%|          | 0/7 [00:00<?, ?it/s]"
     ]
    },
    {
     "name": "stdout",
     "output_type": "stream",
     "text": [
      "Best classifier:  random_forest\n",
      "V value:  0.6684048219491701\n",
      "----------------------------------------------------------------\n",
      "Working on partition  15\n"
     ]
    },
    {
     "name": "stderr",
     "output_type": "stream",
     "text": [
      "100%|██████████| 7/7 [01:03<00:00,  9.14s/it]\n",
      "  0%|          | 0/7 [00:00<?, ?it/s]"
     ]
    },
    {
     "name": "stdout",
     "output_type": "stream",
     "text": [
      "Best classifier:  random_forest\n",
      "V value:  0.6740616885089892\n",
      "----------------------------------------------------------------\n",
      "Working on partition  16\n"
     ]
    },
    {
     "name": "stderr",
     "output_type": "stream",
     "text": [
      "100%|██████████| 7/7 [01:01<00:00,  8.76s/it]\n",
      "  0%|          | 0/7 [00:00<?, ?it/s]"
     ]
    },
    {
     "name": "stdout",
     "output_type": "stream",
     "text": [
      "Best classifier:  random_forest\n",
      "V value:  0.6681171804384893\n",
      "----------------------------------------------------------------\n",
      "Working on partition  17\n"
     ]
    },
    {
     "name": "stderr",
     "output_type": "stream",
     "text": [
      "100%|██████████| 7/7 [01:03<00:00,  9.01s/it]\n",
      "  0%|          | 0/7 [00:00<?, ?it/s]"
     ]
    },
    {
     "name": "stdout",
     "output_type": "stream",
     "text": [
      "Best classifier:  random_forest\n",
      "V value:  0.6766039697507504\n",
      "----------------------------------------------------------------\n",
      "Working on partition  18\n"
     ]
    },
    {
     "name": "stderr",
     "output_type": "stream",
     "text": [
      "100%|██████████| 7/7 [01:03<00:00,  9.13s/it]\n",
      "  0%|          | 0/7 [00:00<?, ?it/s]"
     ]
    },
    {
     "name": "stdout",
     "output_type": "stream",
     "text": [
      "Best classifier:  random_forest\n",
      "V value:  0.6621678853654035\n",
      "----------------------------------------------------------------\n",
      "Working on partition  19\n"
     ]
    },
    {
     "name": "stderr",
     "output_type": "stream",
     "text": [
      "100%|██████████| 7/7 [01:04<00:00,  9.19s/it]\n",
      "  0%|          | 0/7 [00:00<?, ?it/s]"
     ]
    },
    {
     "name": "stdout",
     "output_type": "stream",
     "text": [
      "Best classifier:  random_forest\n",
      "V value:  0.6574486267424346\n",
      "----------------------------------------------------------------\n",
      "Working on partition  20\n"
     ]
    },
    {
     "name": "stderr",
     "output_type": "stream",
     "text": [
      "100%|██████████| 7/7 [01:04<00:00,  9.24s/it]\n",
      "  0%|          | 0/7 [00:00<?, ?it/s]"
     ]
    },
    {
     "name": "stdout",
     "output_type": "stream",
     "text": [
      "Best classifier:  random_forest\n",
      "V value:  0.6556637040169847\n",
      "----------------------------------------------------------------\n",
      "Working on partition  21\n"
     ]
    },
    {
     "name": "stderr",
     "output_type": "stream",
     "text": [
      "100%|██████████| 7/7 [01:09<00:00,  9.98s/it]\n",
      "  0%|          | 0/7 [00:00<?, ?it/s]"
     ]
    },
    {
     "name": "stdout",
     "output_type": "stream",
     "text": [
      "Best classifier:  random_forest\n",
      "V value:  0.6354595614455413\n",
      "----------------------------------------------------------------\n",
      "Working on partition  22\n"
     ]
    },
    {
     "name": "stderr",
     "output_type": "stream",
     "text": [
      "100%|██████████| 7/7 [01:03<00:00,  9.07s/it]\n",
      "  0%|          | 0/7 [00:00<?, ?it/s]"
     ]
    },
    {
     "name": "stdout",
     "output_type": "stream",
     "text": [
      "Best classifier:  random_forest\n",
      "V value:  0.6656281843045277\n",
      "----------------------------------------------------------------\n",
      "Working on partition  23\n"
     ]
    },
    {
     "name": "stderr",
     "output_type": "stream",
     "text": [
      "100%|██████████| 7/7 [01:04<00:00,  9.15s/it]\n",
      "  0%|          | 0/7 [00:00<?, ?it/s]"
     ]
    },
    {
     "name": "stdout",
     "output_type": "stream",
     "text": [
      "Best classifier:  random_forest\n",
      "V value:  0.6676850350474708\n",
      "----------------------------------------------------------------\n",
      "Working on partition  24\n"
     ]
    },
    {
     "name": "stderr",
     "output_type": "stream",
     "text": [
      "100%|██████████| 7/7 [01:07<00:00,  9.69s/it]\n",
      "  0%|          | 0/7 [00:00<?, ?it/s]"
     ]
    },
    {
     "name": "stdout",
     "output_type": "stream",
     "text": [
      "Best classifier:  random_forest\n",
      "V value:  0.6451246185470099\n",
      "----------------------------------------------------------------\n",
      "Working on partition  25\n"
     ]
    },
    {
     "name": "stderr",
     "output_type": "stream",
     "text": [
      "100%|██████████| 7/7 [01:05<00:00,  9.35s/it]\n",
      "  0%|          | 0/7 [00:00<?, ?it/s]"
     ]
    },
    {
     "name": "stdout",
     "output_type": "stream",
     "text": [
      "Best classifier:  random_forest\n",
      "V value:  0.65928738362474\n",
      "----------------------------------------------------------------\n",
      "Working on partition  26\n"
     ]
    },
    {
     "name": "stderr",
     "output_type": "stream",
     "text": [
      "100%|██████████| 7/7 [01:01<00:00,  8.82s/it]\n",
      "  0%|          | 0/7 [00:00<?, ?it/s]"
     ]
    },
    {
     "name": "stdout",
     "output_type": "stream",
     "text": [
      "Best classifier:  random_forest\n",
      "V value:  0.6733941338286181\n",
      "----------------------------------------------------------------\n",
      "Working on partition  27\n"
     ]
    },
    {
     "name": "stderr",
     "output_type": "stream",
     "text": [
      "100%|██████████| 7/7 [01:06<00:00,  9.51s/it]\n",
      "  0%|          | 0/7 [00:00<?, ?it/s]"
     ]
    },
    {
     "name": "stdout",
     "output_type": "stream",
     "text": [
      "Best classifier:  random_forest\n",
      "V value:  0.6500069693067401\n",
      "----------------------------------------------------------------\n",
      "Working on partition  28\n"
     ]
    },
    {
     "name": "stderr",
     "output_type": "stream",
     "text": [
      "100%|██████████| 7/7 [01:02<00:00,  8.90s/it]\n",
      "  0%|          | 0/7 [00:00<?, ?it/s]"
     ]
    },
    {
     "name": "stdout",
     "output_type": "stream",
     "text": [
      "Best classifier:  random_forest\n",
      "V value:  0.6701857225121379\n",
      "----------------------------------------------------------------\n",
      "Working on partition  29\n"
     ]
    },
    {
     "name": "stderr",
     "output_type": "stream",
     "text": [
      "100%|██████████| 7/7 [01:02<00:00,  8.89s/it]\n",
      "  0%|          | 0/7 [00:00<?, ?it/s]"
     ]
    },
    {
     "name": "stdout",
     "output_type": "stream",
     "text": [
      "Best classifier:  random_forest\n",
      "V value:  0.6699411475432395\n",
      "----------------------------------------------------------------\n",
      "Working on partition  30\n"
     ]
    },
    {
     "name": "stderr",
     "output_type": "stream",
     "text": [
      "100%|██████████| 7/7 [01:06<00:00,  9.50s/it]\n",
      "  0%|          | 0/7 [00:00<?, ?it/s]"
     ]
    },
    {
     "name": "stdout",
     "output_type": "stream",
     "text": [
      "Best classifier:  random_forest\n",
      "V value:  0.6514116582160754\n",
      "----------------------------------------------------------------\n",
      "Working on partition  31\n"
     ]
    },
    {
     "name": "stderr",
     "output_type": "stream",
     "text": [
      "100%|██████████| 7/7 [01:00<00:00,  8.65s/it]\n",
      "  0%|          | 0/7 [00:00<?, ?it/s]"
     ]
    },
    {
     "name": "stdout",
     "output_type": "stream",
     "text": [
      "Best classifier:  random_forest\n",
      "V value:  0.6754419625613137\n",
      "----------------------------------------------------------------\n",
      "Working on partition  32\n"
     ]
    },
    {
     "name": "stderr",
     "output_type": "stream",
     "text": [
      "100%|██████████| 7/7 [01:02<00:00,  8.93s/it]\n",
      "  0%|          | 0/7 [00:00<?, ?it/s]"
     ]
    },
    {
     "name": "stdout",
     "output_type": "stream",
     "text": [
      "Best classifier:  random_forest\n",
      "V value:  0.6598714359755234\n",
      "----------------------------------------------------------------\n",
      "Working on partition  33\n"
     ]
    },
    {
     "name": "stderr",
     "output_type": "stream",
     "text": [
      "100%|██████████| 7/7 [01:01<00:00,  8.83s/it]\n",
      "  0%|          | 0/7 [00:00<?, ?it/s]"
     ]
    },
    {
     "name": "stdout",
     "output_type": "stream",
     "text": [
      "Best classifier:  random_forest\n",
      "V value:  0.669911624335833\n",
      "----------------------------------------------------------------\n",
      "Working on partition  34\n"
     ]
    },
    {
     "name": "stderr",
     "output_type": "stream",
     "text": [
      "100%|██████████| 7/7 [01:02<00:00,  8.99s/it]\n",
      "  0%|          | 0/7 [00:00<?, ?it/s]"
     ]
    },
    {
     "name": "stdout",
     "output_type": "stream",
     "text": [
      "Best classifier:  random_forest\n",
      "V value:  0.666619185941269\n",
      "----------------------------------------------------------------\n",
      "Working on partition  35\n"
     ]
    },
    {
     "name": "stderr",
     "output_type": "stream",
     "text": [
      "100%|██████████| 7/7 [01:00<00:00,  8.58s/it]\n",
      "  0%|          | 0/7 [00:00<?, ?it/s]"
     ]
    },
    {
     "name": "stdout",
     "output_type": "stream",
     "text": [
      "Best classifier:  random_forest\n",
      "V value:  0.6637244880377366\n",
      "----------------------------------------------------------------\n",
      "Working on partition  36\n"
     ]
    },
    {
     "name": "stderr",
     "output_type": "stream",
     "text": [
      "100%|██████████| 7/7 [01:03<00:00,  9.07s/it]\n",
      "  0%|          | 0/7 [00:00<?, ?it/s]"
     ]
    },
    {
     "name": "stdout",
     "output_type": "stream",
     "text": [
      "Best classifier:  random_forest\n",
      "V value:  0.6533843331012703\n",
      "----------------------------------------------------------------\n",
      "Working on partition  37\n"
     ]
    },
    {
     "name": "stderr",
     "output_type": "stream",
     "text": [
      "100%|██████████| 7/7 [01:05<00:00,  9.37s/it]\n",
      "  0%|          | 0/7 [00:00<?, ?it/s]"
     ]
    },
    {
     "name": "stdout",
     "output_type": "stream",
     "text": [
      "Best classifier:  random_forest\n",
      "V value:  0.6788284963907268\n",
      "----------------------------------------------------------------\n",
      "Working on partition  38\n"
     ]
    },
    {
     "name": "stderr",
     "output_type": "stream",
     "text": [
      "100%|██████████| 7/7 [01:07<00:00,  9.63s/it]\n",
      "  0%|          | 0/7 [00:00<?, ?it/s]"
     ]
    },
    {
     "name": "stdout",
     "output_type": "stream",
     "text": [
      "Best classifier:  random_forest\n",
      "V value:  0.6346745260036769\n",
      "----------------------------------------------------------------\n",
      "Working on partition  39\n"
     ]
    },
    {
     "name": "stderr",
     "output_type": "stream",
     "text": [
      "100%|██████████| 7/7 [01:00<00:00,  8.62s/it]\n",
      "  0%|          | 0/7 [00:00<?, ?it/s]"
     ]
    },
    {
     "name": "stdout",
     "output_type": "stream",
     "text": [
      "Best classifier:  random_forest\n",
      "V value:  0.6664610509238537\n",
      "----------------------------------------------------------------\n",
      "Working on partition  40\n"
     ]
    },
    {
     "name": "stderr",
     "output_type": "stream",
     "text": [
      "100%|██████████| 7/7 [01:04<00:00,  9.16s/it]\n",
      "  0%|          | 0/7 [00:00<?, ?it/s]"
     ]
    },
    {
     "name": "stdout",
     "output_type": "stream",
     "text": [
      "Best classifier:  random_forest\n",
      "V value:  0.6643144491194415\n",
      "----------------------------------------------------------------\n",
      "Working on partition  41\n"
     ]
    },
    {
     "name": "stderr",
     "output_type": "stream",
     "text": [
      "100%|██████████| 7/7 [01:02<00:00,  8.99s/it]\n",
      "  0%|          | 0/7 [00:00<?, ?it/s]"
     ]
    },
    {
     "name": "stdout",
     "output_type": "stream",
     "text": [
      "Best classifier:  random_forest\n",
      "V value:  0.6648235501759332\n",
      "----------------------------------------------------------------\n",
      "Working on partition  42\n"
     ]
    },
    {
     "name": "stderr",
     "output_type": "stream",
     "text": [
      "100%|██████████| 7/7 [01:06<00:00,  9.55s/it]\n",
      "  0%|          | 0/7 [00:00<?, ?it/s]"
     ]
    },
    {
     "name": "stdout",
     "output_type": "stream",
     "text": [
      "Best classifier:  random_forest\n",
      "V value:  0.6462730629983742\n",
      "----------------------------------------------------------------\n",
      "Working on partition  43\n"
     ]
    },
    {
     "name": "stderr",
     "output_type": "stream",
     "text": [
      "100%|██████████| 7/7 [01:04<00:00,  9.21s/it]\n",
      "  0%|          | 0/7 [00:00<?, ?it/s]"
     ]
    },
    {
     "name": "stdout",
     "output_type": "stream",
     "text": [
      "Best classifier:  random_forest\n",
      "V value:  0.6622867325972142\n",
      "----------------------------------------------------------------\n",
      "Working on partition  44\n"
     ]
    },
    {
     "name": "stderr",
     "output_type": "stream",
     "text": [
      "100%|██████████| 7/7 [01:01<00:00,  8.80s/it]\n",
      "  0%|          | 0/7 [00:00<?, ?it/s]"
     ]
    },
    {
     "name": "stdout",
     "output_type": "stream",
     "text": [
      "Best classifier:  random_forest\n",
      "V value:  0.6690454599479445\n",
      "----------------------------------------------------------------\n",
      "Working on partition  45\n"
     ]
    },
    {
     "name": "stderr",
     "output_type": "stream",
     "text": [
      "100%|██████████| 7/7 [01:02<00:00,  8.95s/it]\n",
      "  0%|          | 0/7 [00:00<?, ?it/s]"
     ]
    },
    {
     "name": "stdout",
     "output_type": "stream",
     "text": [
      "Best classifier:  random_forest\n",
      "V value:  0.6709426248052368\n",
      "----------------------------------------------------------------\n",
      "Working on partition  46\n"
     ]
    },
    {
     "name": "stderr",
     "output_type": "stream",
     "text": [
      "100%|██████████| 7/7 [01:08<00:00,  9.77s/it]\n",
      "  0%|          | 0/7 [00:00<?, ?it/s]"
     ]
    },
    {
     "name": "stdout",
     "output_type": "stream",
     "text": [
      "Best classifier:  lda\n",
      "V value:  0.6500097348201004\n",
      "----------------------------------------------------------------\n",
      "Working on partition  47\n"
     ]
    },
    {
     "name": "stderr",
     "output_type": "stream",
     "text": [
      "100%|██████████| 7/7 [01:07<00:00,  9.64s/it]\n",
      "  0%|          | 0/7 [00:00<?, ?it/s]"
     ]
    },
    {
     "name": "stdout",
     "output_type": "stream",
     "text": [
      "Best classifier:  random_forest\n",
      "V value:  0.6551772455230245\n",
      "----------------------------------------------------------------\n",
      "Working on partition  48\n"
     ]
    },
    {
     "name": "stderr",
     "output_type": "stream",
     "text": [
      "100%|██████████| 7/7 [01:05<00:00,  9.39s/it]\n",
      "  0%|          | 0/7 [00:00<?, ?it/s]"
     ]
    },
    {
     "name": "stdout",
     "output_type": "stream",
     "text": [
      "Best classifier:  random_forest\n",
      "V value:  0.6557183536389456\n",
      "----------------------------------------------------------------\n",
      "Working on partition  49\n"
     ]
    },
    {
     "name": "stderr",
     "output_type": "stream",
     "text": [
      "100%|██████████| 7/7 [01:04<00:00,  9.24s/it]\n",
      "  0%|          | 0/7 [00:00<?, ?it/s]"
     ]
    },
    {
     "name": "stdout",
     "output_type": "stream",
     "text": [
      "Best classifier:  random_forest\n",
      "V value:  0.6607382262421964\n",
      "----------------------------------------------------------------\n",
      "Working on partition  50\n"
     ]
    },
    {
     "name": "stderr",
     "output_type": "stream",
     "text": [
      "100%|██████████| 7/7 [01:03<00:00,  9.02s/it]"
     ]
    },
    {
     "name": "stdout",
     "output_type": "stream",
     "text": [
      "Best classifier:  random_forest\n",
      "V value:  0.6642088033480394\n",
      "----------------------------------------------------------------\n"
     ]
    },
    {
     "name": "stderr",
     "output_type": "stream",
     "text": [
      "\n"
     ]
    }
   ],
   "source": [
    "for i in range(50):\n",
    "    \n",
    "    print('Working on partition ', i+1)\n",
    "    #print('Cutoff point = ', cutoff[i])\n",
    "    \n",
    "    partition_scores = []\n",
    "    \n",
    "    x = X.values\n",
    "    y = partitions3.values[:, i]\n",
    "\n",
    "    kf = KFold(n_splits = 10, shuffle = True, random_state = 0)\n",
    "    kf.shuffle\n",
    "    kf.get_n_splits(x)\n",
    "    \n",
    "    v = 0\n",
    "    \n",
    "    for classifier in tqdm(classifiers):\n",
    "        \n",
    "        v_prime = 0\n",
    "\n",
    "        # Iterate over each fold\n",
    "        for train_index, test_index in kf.split(x):\n",
    "\n",
    "            X_train, X_test = x[train_index], x[test_index]\n",
    "            y_train, y_test = y[train_index], y[test_index]\n",
    "\n",
    "            # Train and test the model with the current folds. Return AUC\n",
    "            this_auc = train_and_test(classifier,X_train,y_train,X_test,y_test)\n",
    "            v_prime = v_prime + this_auc\n",
    "        \n",
    "            \n",
    "        # Keep the score for each classifier for the analysis of results.\n",
    "        partition_scores.append(v_prime/10)\n",
    "        \n",
    "        # Update v\n",
    "        if v_prime/10 > v:\n",
    "            best_classifier = classifier\n",
    "            v = v_prime/10\n",
    "            \n",
    "    \n",
    "    PARTITION_scores3[i, :] = np.array(partition_scores).T\n",
    "    best_classifiers3.append(best_classifier)\n",
    "    vees3.append(v)\n",
    "            \n",
    "    print('Best classifier: ', best_classifier)\n",
    "    print('V value: ', v)\n",
    "    print('----------------------------------------------------------------')"
   ]
  },
  {
   "cell_type": "code",
   "execution_count": 33,
   "metadata": {},
   "outputs": [],
   "source": [
    "PARTITION_scores3 = pd.DataFrame(PARTITION_scores3)\n",
    "PARTITION_scores3.to_csv('Partition_scores3.csv')"
   ]
  },
  {
   "cell_type": "code",
   "execution_count": 35,
   "metadata": {},
   "outputs": [
    {
     "data": {
      "text/plain": [
       "['random_forest',\n",
       " 'random_forest',\n",
       " 'random_forest',\n",
       " 'random_forest',\n",
       " 'random_forest',\n",
       " 'random_forest',\n",
       " 'random_forest',\n",
       " 'random_forest',\n",
       " 'random_forest',\n",
       " 'random_forest',\n",
       " 'random_forest',\n",
       " 'random_forest',\n",
       " 'random_forest',\n",
       " 'random_forest',\n",
       " 'random_forest',\n",
       " 'random_forest',\n",
       " 'random_forest',\n",
       " 'random_forest',\n",
       " 'random_forest',\n",
       " 'random_forest',\n",
       " 'random_forest',\n",
       " 'random_forest',\n",
       " 'random_forest',\n",
       " 'random_forest',\n",
       " 'random_forest',\n",
       " 'random_forest',\n",
       " 'random_forest',\n",
       " 'random_forest',\n",
       " 'random_forest',\n",
       " 'random_forest',\n",
       " 'random_forest',\n",
       " 'random_forest',\n",
       " 'random_forest',\n",
       " 'random_forest',\n",
       " 'random_forest',\n",
       " 'random_forest',\n",
       " 'random_forest',\n",
       " 'random_forest',\n",
       " 'random_forest',\n",
       " 'random_forest',\n",
       " 'random_forest',\n",
       " 'random_forest',\n",
       " 'random_forest',\n",
       " 'random_forest',\n",
       " 'random_forest',\n",
       " 'random_forest',\n",
       " 'lda',\n",
       " 'random_forest',\n",
       " 'random_forest',\n",
       " 'random_forest',\n",
       " 'random_forest']"
      ]
     },
     "execution_count": 35,
     "metadata": {},
     "output_type": "execute_result"
    }
   ],
   "source": [
    "best_classifiers3"
   ]
  },
  {
   "cell_type": "code",
   "execution_count": 37,
   "metadata": {},
   "outputs": [],
   "source": [
    "vees3 = vees3[1:]"
   ]
  },
  {
   "cell_type": "code",
   "execution_count": 38,
   "metadata": {},
   "outputs": [
    {
     "data": {
      "text/plain": [
       "50"
      ]
     },
     "execution_count": 38,
     "metadata": {},
     "output_type": "execute_result"
    }
   ],
   "source": [
    "len(vees3)"
   ]
  },
  {
   "cell_type": "code",
   "execution_count": 69,
   "metadata": {},
   "outputs": [
    {
     "data": {
      "text/plain": [
       "[0.6745974026219038,\n",
       " 0.646777986884409,\n",
       " 0.6646707139782773,\n",
       " 0.6631790246219029,\n",
       " 0.6620818276000711,\n",
       " 0.6557030922150465,\n",
       " 0.6432430609764052,\n",
       " 0.6664499684145793,\n",
       " 0.669487513095275,\n",
       " 0.6373687212023198,\n",
       " 0.6794308955152271,\n",
       " 0.6443827258333358,\n",
       " 0.6670895574167665,\n",
       " 0.6684048219491701,\n",
       " 0.6740616885089892,\n",
       " 0.6681171804384893,\n",
       " 0.6766039697507504,\n",
       " 0.6621678853654035,\n",
       " 0.6574486267424346,\n",
       " 0.6556637040169847,\n",
       " 0.6354595614455413,\n",
       " 0.6656281843045277,\n",
       " 0.6676850350474708,\n",
       " 0.6451246185470099,\n",
       " 0.65928738362474,\n",
       " 0.6733941338286181,\n",
       " 0.6500069693067401,\n",
       " 0.6701857225121379,\n",
       " 0.6699411475432395,\n",
       " 0.6514116582160754,\n",
       " 0.6754419625613137,\n",
       " 0.6598714359755234,\n",
       " 0.669911624335833,\n",
       " 0.666619185941269,\n",
       " 0.6637244880377366,\n",
       " 0.6533843331012703,\n",
       " 0.6788284963907268,\n",
       " 0.6346745260036769,\n",
       " 0.6664610509238537,\n",
       " 0.6643144491194415,\n",
       " 0.6648235501759332,\n",
       " 0.6462730629983742,\n",
       " 0.6622867325972142,\n",
       " 0.6690454599479445,\n",
       " 0.6709426248052368,\n",
       " 0.6500097348201004,\n",
       " 0.6551772455230245,\n",
       " 0.6557183536389456,\n",
       " 0.6607382262421964,\n",
       " 0.6642088033480394]"
      ]
     },
     "execution_count": 69,
     "metadata": {},
     "output_type": "execute_result"
    }
   ],
   "source": [
    "vees3"
   ]
  },
  {
   "cell_type": "code",
   "execution_count": 41,
   "metadata": {},
   "outputs": [],
   "source": [
    "best_classifiers3 = best_classifiers3[1:]"
   ]
  },
  {
   "cell_type": "code",
   "execution_count": 42,
   "metadata": {},
   "outputs": [
    {
     "data": {
      "text/plain": [
       "50"
      ]
     },
     "execution_count": 42,
     "metadata": {},
     "output_type": "execute_result"
    }
   ],
   "source": [
    "len(best_classifiers3)"
   ]
  },
  {
   "cell_type": "code",
   "execution_count": 66,
   "metadata": {},
   "outputs": [],
   "source": [
    "import numpy as np\n",
    "import matplotlib.pyplot as plt\n",
    "import matplotlib\n",
    "#matplotlib.style.use('ggplot')"
   ]
  },
  {
   "cell_type": "code",
   "execution_count": 70,
   "metadata": {},
   "outputs": [],
   "source": [
    "ticks = []\n",
    "for i in range(0, 50, 5):\n",
    "    ticks.append('P'+ str(i))"
   ]
  },
  {
   "cell_type": "code",
   "execution_count": 72,
   "metadata": {},
   "outputs": [
    {
     "data": {
      "image/png": "[encoded data removed]",
      "text/plain": [
       "<Figure size 1080x432 with 1 Axes>"
      ]
     },
     "metadata": {
      "needs_background": "light"
     },
     "output_type": "display_data"
    }
   ],
   "source": [
    "fig,ax = plt.subplots(1,1,figsize = (15,6))\n",
    "ax.grid()\n",
    "ax.plot(np.arange(50), np.array(vees3), color='cornflowerblue', marker = 'o')\n",
    "fig = ax.set(ylim = [0.5,0.8], xlim=(-1,50))\n",
    "fig = ax.set_xlabel('Partitions')\n",
    "fig = ax.set_ylabel('VIC Score')\n",
    "fig = ax.set_xticks(np.arange(0,50,5))\n",
    "fig = ax.set_xticklabels(ticks)\n",
    "plt.savefig('VIC_score.eps', format = 'eps')"
   ]
  },
  {
   "cell_type": "code",
   "execution_count": 74,
   "metadata": {},
   "outputs": [],
   "source": [
    "p_scores = PARTITION_scores3"
   ]
  },
  {
   "cell_type": "code",
   "execution_count": 89,
   "metadata": {},
   "outputs": [
    {
     "data": {
      "image/png": "[encoded data removed]",
      "text/plain": [
       "<Figure size 1080x432 with 1 Axes>"
      ]
     },
     "metadata": {
      "needs_background": "light"
     },
     "output_type": "display_data"
    }
   ],
   "source": [
    "fig, axes = plt.subplots(nrows=1, ncols=1, figsize=(15, 6))\n",
    "labels = ['RandomForest', 'LDA', 'NaiveBayes', 'MLP', 'DecisionTree', 'ExtraTree', 'kNN']\n",
    "bplot1 = axes.boxplot(x = [p_scores.iloc[:, 0], p_scores.iloc[:, 6], p_scores.iloc[:, 3], p_scores.iloc[:, 5],\n",
    "                          p_scores.iloc[:, 1], p_scores.iloc[:, 2], p_scores.iloc[:, 4]],\n",
    "                         vert = True,  # vertical box alignment\n",
    "                         patch_artist = True, labels = labels)  # will be used to label x-ticks\n",
    "axes.grid()\n",
    "axes.set_title('Average AUC box-plot')\n",
    "\n",
    "\n",
    "colors = ['red', 'darkorange', 'gold', 'limegreen', 'deepskyblue', 'blue', 'blueviolet']\n",
    "for patch, color in zip(bplot1['boxes'], colors):\n",
    "    patch.set_facecolor(color)\n",
    "    \n",
    "for median in bplot1['medians']:\n",
    "    median.set(color='black', linewidth=1)\n",
    "        \n",
    "plt.savefig('Boxplot3.eps', format = 'eps')\n",
    "\n",
    "# 'random_forest', 'decision_tree', 'extra_tree', 'naive_bayes', 'knn', 'mlp', 'lda'"
   ]
  },
  {
   "cell_type": "code",
   "execution_count": null,
   "metadata": {},
   "outputs": [],
   "source": []
  },
  {
   "cell_type": "code",
   "execution_count": 90,
   "metadata": {},
   "outputs": [
    {
     "data": {
      "image/png": "[encoded data removed]",
      "text/plain": [
       "<Figure size 1080x432 with 1 Axes>"
      ]
     },
     "metadata": {
      "needs_background": "light"
     },
     "output_type": "display_data"
    }
   ],
   "source": [
    "fig,ax = plt.subplots(1,1,figsize = (15,6))\n",
    "ax.grid()\n",
    "ax.plot(np.arange(50), p_scores.iloc[:, 0], color='red', marker = 'o')\n",
    "ax.plot(np.arange(50), p_scores.iloc[:, 6], color='darkorange', marker = 'o')\n",
    "ax.plot(np.arange(50), p_scores.iloc[:, 3], color='gold', marker = 'o')\n",
    "ax.plot(np.arange(50), p_scores.iloc[:, 5], color='limegreen', marker = 'o')\n",
    "ax.plot(np.arange(50), p_scores.iloc[:, 1], color='deepskyblue', marker = 'o')\n",
    "ax.plot(np.arange(50), p_scores.iloc[:, 2], color='blue', marker = 'o')\n",
    "ax.plot(np.arange(50), p_scores.iloc[:, 4], color='blueviolet', marker = 'o')\n",
    "\n",
    "fig = ax.set(ylim = [0.4,0.8], xlim=(-1,50))\n",
    "fig = ax.set_xlabel('Partitions')\n",
    "fig = ax.set_ylabel('Average AUC')\n",
    "fig = ax.set_xticks(np.arange(0,50,5))\n",
    "fig = ax.set_xticklabels(ticks)\n",
    "plt.savefig('VIC_score.eps', format = 'eps')"
   ]
  },
  {
   "cell_type": "code",
   "execution_count": null,
   "metadata": {},
   "outputs": [],
   "source": []
  }
 ],
 "metadata": {
  "kernelspec": {
   "display_name": "Python 3",
   "language": "python",
   "name": "python3"
  },
  "language_info": {
   "codemirror_mode": {
    "name": "ipython",
    "version": 3
   },
   "file_extension": ".py",
   "mimetype": "text/x-python",
   "name": "python",
   "nbconvert_exporter": "python",
   "pygments_lexer": "ipython3",
   "version": "3.7.4"
  }
 },
 "nbformat": 4,
 "nbformat_minor": 2
}
